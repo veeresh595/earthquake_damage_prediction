{
 "cells": [
  {
   "cell_type": "markdown",
   "metadata": {
    "id": "ee2ce325"
   },
   "source": [
    "## Importing Libraries"
   ]
  },
  {
   "cell_type": "code",
   "execution_count": 1,
   "metadata": {
    "id": "0337c5d3"
   },
   "outputs": [],
   "source": [
    "import pandas as pd\n",
    "import numpy as np\n",
    "import seaborn as sns\n",
    "import matplotlib.pyplot as plt\n",
    "# ^^^ pyforest auto-imports - don't write above this line"
   ]
  },
  {
   "cell_type": "markdown",
   "metadata": {
    "id": "ac4bcb0a"
   },
   "source": [
    "## Importing the Dataset's"
   ]
  },
  {
   "cell_type": "code",
   "execution_count": 3,
   "metadata": {
    "id": "08ff3a9f"
   },
   "outputs": [],
   "source": [
    "features = pd.read_csv('train_values.csv')\n",
    "target = pd.read_csv('train_labels.csv')"
   ]
  },
  {
   "cell_type": "code",
   "execution_count": 5,
   "metadata": {
    "id": "080d287e",
    "outputId": "17d37f4c-c28d-448a-d159-244d3e30faf7",
    "scrolled": true
   },
   "outputs": [
    {
     "name": "stdout",
     "output_type": "stream",
     "text": [
      "        building_id  geo_level_1_id  geo_level_2_id  geo_level_3_id  \\\n",
      "0            802906               6             487           12198   \n",
      "1             28830               8             900            2812   \n",
      "2             94947              21             363            8973   \n",
      "3            590882              22             418           10694   \n",
      "4            201944              11             131            1488   \n",
      "...             ...             ...             ...             ...   \n",
      "260596       688636              25            1335            1621   \n",
      "260597       669485              17             715            2060   \n",
      "260598       602512              17              51            8163   \n",
      "260599       151409              26              39            1851   \n",
      "260600       747594              21               9            9101   \n",
      "\n",
      "        count_floors_pre_eq  age  area_percentage  height_percentage  \\\n",
      "0                         2   30                6                  5   \n",
      "1                         2   10                8                  7   \n",
      "2                         2   10                5                  5   \n",
      "3                         2   10                6                  5   \n",
      "4                         3   30                8                  9   \n",
      "...                     ...  ...              ...                ...   \n",
      "260596                    1   55                6                  3   \n",
      "260597                    2    0                6                  5   \n",
      "260598                    3   55                6                  7   \n",
      "260599                    2   10               14                  6   \n",
      "260600                    3   10                7                  6   \n",
      "\n",
      "       land_surface_condition foundation_type  ...  \\\n",
      "0                           t               r  ...   \n",
      "1                           o               r  ...   \n",
      "2                           t               r  ...   \n",
      "3                           t               r  ...   \n",
      "4                           t               r  ...   \n",
      "...                       ...             ...  ...   \n",
      "260596                      n               r  ...   \n",
      "260597                      t               r  ...   \n",
      "260598                      t               r  ...   \n",
      "260599                      t               r  ...   \n",
      "260600                      n               r  ...   \n",
      "\n",
      "       has_secondary_use_agriculture has_secondary_use_hotel  \\\n",
      "0                                  0                       0   \n",
      "1                                  0                       0   \n",
      "2                                  0                       0   \n",
      "3                                  0                       0   \n",
      "4                                  0                       0   \n",
      "...                              ...                     ...   \n",
      "260596                             0                       0   \n",
      "260597                             0                       0   \n",
      "260598                             0                       0   \n",
      "260599                             0                       0   \n",
      "260600                             0                       0   \n",
      "\n",
      "       has_secondary_use_rental has_secondary_use_institution  \\\n",
      "0                             0                             0   \n",
      "1                             0                             0   \n",
      "2                             0                             0   \n",
      "3                             0                             0   \n",
      "4                             0                             0   \n",
      "...                         ...                           ...   \n",
      "260596                        0                             0   \n",
      "260597                        0                             0   \n",
      "260598                        0                             0   \n",
      "260599                        0                             0   \n",
      "260600                        0                             0   \n",
      "\n",
      "       has_secondary_use_school  has_secondary_use_industry  \\\n",
      "0                             0                           0   \n",
      "1                             0                           0   \n",
      "2                             0                           0   \n",
      "3                             0                           0   \n",
      "4                             0                           0   \n",
      "...                         ...                         ...   \n",
      "260596                        0                           0   \n",
      "260597                        0                           0   \n",
      "260598                        0                           0   \n",
      "260599                        0                           0   \n",
      "260600                        0                           0   \n",
      "\n",
      "        has_secondary_use_health_post  has_secondary_use_gov_office  \\\n",
      "0                                   0                             0   \n",
      "1                                   0                             0   \n",
      "2                                   0                             0   \n",
      "3                                   0                             0   \n",
      "4                                   0                             0   \n",
      "...                               ...                           ...   \n",
      "260596                              0                             0   \n",
      "260597                              0                             0   \n",
      "260598                              0                             0   \n",
      "260599                              0                             0   \n",
      "260600                              0                             0   \n",
      "\n",
      "        has_secondary_use_use_police  has_secondary_use_other  \n",
      "0                                  0                        0  \n",
      "1                                  0                        0  \n",
      "2                                  0                        0  \n",
      "3                                  0                        0  \n",
      "4                                  0                        0  \n",
      "...                              ...                      ...  \n",
      "260596                             0                        0  \n",
      "260597                             0                        0  \n",
      "260598                             0                        0  \n",
      "260599                             0                        0  \n",
      "260600                             0                        0  \n",
      "\n",
      "[260601 rows x 39 columns]\n"
     ]
    }
   ],
   "source": [
    "print(features)"
   ]
  },
  {
   "cell_type": "code",
   "execution_count": 6,
   "metadata": {
    "id": "512e8928",
    "outputId": "eeddb6f5-82c0-4fb0-9381-c90b6fc8f5b8",
    "scrolled": true
   },
   "outputs": [
    {
     "name": "stdout",
     "output_type": "stream",
     "text": [
      "        building_id  damage_grade\n",
      "0            802906             3\n",
      "1             28830             2\n",
      "2             94947             3\n",
      "3            590882             2\n",
      "4            201944             3\n",
      "...             ...           ...\n",
      "260596       688636             2\n",
      "260597       669485             3\n",
      "260598       602512             3\n",
      "260599       151409             2\n",
      "260600       747594             3\n",
      "\n",
      "[260601 rows x 2 columns]\n"
     ]
    }
   ],
   "source": [
    "print(target)"
   ]
  },
  {
   "cell_type": "markdown",
   "metadata": {
    "id": "504a7179"
   },
   "source": [
    "## Merging the Dataset's based on Column ID"
   ]
  },
  {
   "cell_type": "code",
   "execution_count": 7,
   "metadata": {
    "id": "f8af2549",
    "outputId": "b62105f2-8b07-4310-c042-ebe5abc4defc"
   },
   "outputs": [
    {
     "data": {
      "text/html": [
       "<div>\n",
       "<style scoped>\n",
       "    .dataframe tbody tr th:only-of-type {\n",
       "        vertical-align: middle;\n",
       "    }\n",
       "\n",
       "    .dataframe tbody tr th {\n",
       "        vertical-align: top;\n",
       "    }\n",
       "\n",
       "    .dataframe thead th {\n",
       "        text-align: right;\n",
       "    }\n",
       "</style>\n",
       "<table border=\"1\" class=\"dataframe\">\n",
       "  <thead>\n",
       "    <tr style=\"text-align: right;\">\n",
       "      <th></th>\n",
       "      <th>building_id</th>\n",
       "      <th>geo_level_1_id</th>\n",
       "      <th>geo_level_2_id</th>\n",
       "      <th>geo_level_3_id</th>\n",
       "      <th>count_floors_pre_eq</th>\n",
       "      <th>age</th>\n",
       "      <th>area_percentage</th>\n",
       "      <th>height_percentage</th>\n",
       "      <th>land_surface_condition</th>\n",
       "      <th>foundation_type</th>\n",
       "      <th>...</th>\n",
       "      <th>has_secondary_use_hotel</th>\n",
       "      <th>has_secondary_use_rental</th>\n",
       "      <th>has_secondary_use_institution</th>\n",
       "      <th>has_secondary_use_school</th>\n",
       "      <th>has_secondary_use_industry</th>\n",
       "      <th>has_secondary_use_health_post</th>\n",
       "      <th>has_secondary_use_gov_office</th>\n",
       "      <th>has_secondary_use_use_police</th>\n",
       "      <th>has_secondary_use_other</th>\n",
       "      <th>damage_grade</th>\n",
       "    </tr>\n",
       "  </thead>\n",
       "  <tbody>\n",
       "    <tr>\n",
       "      <th>0</th>\n",
       "      <td>802906</td>\n",
       "      <td>6</td>\n",
       "      <td>487</td>\n",
       "      <td>12198</td>\n",
       "      <td>2</td>\n",
       "      <td>30</td>\n",
       "      <td>6</td>\n",
       "      <td>5</td>\n",
       "      <td>t</td>\n",
       "      <td>r</td>\n",
       "      <td>...</td>\n",
       "      <td>0</td>\n",
       "      <td>0</td>\n",
       "      <td>0</td>\n",
       "      <td>0</td>\n",
       "      <td>0</td>\n",
       "      <td>0</td>\n",
       "      <td>0</td>\n",
       "      <td>0</td>\n",
       "      <td>0</td>\n",
       "      <td>3</td>\n",
       "    </tr>\n",
       "    <tr>\n",
       "      <th>1</th>\n",
       "      <td>28830</td>\n",
       "      <td>8</td>\n",
       "      <td>900</td>\n",
       "      <td>2812</td>\n",
       "      <td>2</td>\n",
       "      <td>10</td>\n",
       "      <td>8</td>\n",
       "      <td>7</td>\n",
       "      <td>o</td>\n",
       "      <td>r</td>\n",
       "      <td>...</td>\n",
       "      <td>0</td>\n",
       "      <td>0</td>\n",
       "      <td>0</td>\n",
       "      <td>0</td>\n",
       "      <td>0</td>\n",
       "      <td>0</td>\n",
       "      <td>0</td>\n",
       "      <td>0</td>\n",
       "      <td>0</td>\n",
       "      <td>2</td>\n",
       "    </tr>\n",
       "    <tr>\n",
       "      <th>2</th>\n",
       "      <td>94947</td>\n",
       "      <td>21</td>\n",
       "      <td>363</td>\n",
       "      <td>8973</td>\n",
       "      <td>2</td>\n",
       "      <td>10</td>\n",
       "      <td>5</td>\n",
       "      <td>5</td>\n",
       "      <td>t</td>\n",
       "      <td>r</td>\n",
       "      <td>...</td>\n",
       "      <td>0</td>\n",
       "      <td>0</td>\n",
       "      <td>0</td>\n",
       "      <td>0</td>\n",
       "      <td>0</td>\n",
       "      <td>0</td>\n",
       "      <td>0</td>\n",
       "      <td>0</td>\n",
       "      <td>0</td>\n",
       "      <td>3</td>\n",
       "    </tr>\n",
       "    <tr>\n",
       "      <th>3</th>\n",
       "      <td>590882</td>\n",
       "      <td>22</td>\n",
       "      <td>418</td>\n",
       "      <td>10694</td>\n",
       "      <td>2</td>\n",
       "      <td>10</td>\n",
       "      <td>6</td>\n",
       "      <td>5</td>\n",
       "      <td>t</td>\n",
       "      <td>r</td>\n",
       "      <td>...</td>\n",
       "      <td>0</td>\n",
       "      <td>0</td>\n",
       "      <td>0</td>\n",
       "      <td>0</td>\n",
       "      <td>0</td>\n",
       "      <td>0</td>\n",
       "      <td>0</td>\n",
       "      <td>0</td>\n",
       "      <td>0</td>\n",
       "      <td>2</td>\n",
       "    </tr>\n",
       "    <tr>\n",
       "      <th>4</th>\n",
       "      <td>201944</td>\n",
       "      <td>11</td>\n",
       "      <td>131</td>\n",
       "      <td>1488</td>\n",
       "      <td>3</td>\n",
       "      <td>30</td>\n",
       "      <td>8</td>\n",
       "      <td>9</td>\n",
       "      <td>t</td>\n",
       "      <td>r</td>\n",
       "      <td>...</td>\n",
       "      <td>0</td>\n",
       "      <td>0</td>\n",
       "      <td>0</td>\n",
       "      <td>0</td>\n",
       "      <td>0</td>\n",
       "      <td>0</td>\n",
       "      <td>0</td>\n",
       "      <td>0</td>\n",
       "      <td>0</td>\n",
       "      <td>3</td>\n",
       "    </tr>\n",
       "    <tr>\n",
       "      <th>...</th>\n",
       "      <td>...</td>\n",
       "      <td>...</td>\n",
       "      <td>...</td>\n",
       "      <td>...</td>\n",
       "      <td>...</td>\n",
       "      <td>...</td>\n",
       "      <td>...</td>\n",
       "      <td>...</td>\n",
       "      <td>...</td>\n",
       "      <td>...</td>\n",
       "      <td>...</td>\n",
       "      <td>...</td>\n",
       "      <td>...</td>\n",
       "      <td>...</td>\n",
       "      <td>...</td>\n",
       "      <td>...</td>\n",
       "      <td>...</td>\n",
       "      <td>...</td>\n",
       "      <td>...</td>\n",
       "      <td>...</td>\n",
       "      <td>...</td>\n",
       "    </tr>\n",
       "    <tr>\n",
       "      <th>260596</th>\n",
       "      <td>688636</td>\n",
       "      <td>25</td>\n",
       "      <td>1335</td>\n",
       "      <td>1621</td>\n",
       "      <td>1</td>\n",
       "      <td>55</td>\n",
       "      <td>6</td>\n",
       "      <td>3</td>\n",
       "      <td>n</td>\n",
       "      <td>r</td>\n",
       "      <td>...</td>\n",
       "      <td>0</td>\n",
       "      <td>0</td>\n",
       "      <td>0</td>\n",
       "      <td>0</td>\n",
       "      <td>0</td>\n",
       "      <td>0</td>\n",
       "      <td>0</td>\n",
       "      <td>0</td>\n",
       "      <td>0</td>\n",
       "      <td>2</td>\n",
       "    </tr>\n",
       "    <tr>\n",
       "      <th>260597</th>\n",
       "      <td>669485</td>\n",
       "      <td>17</td>\n",
       "      <td>715</td>\n",
       "      <td>2060</td>\n",
       "      <td>2</td>\n",
       "      <td>0</td>\n",
       "      <td>6</td>\n",
       "      <td>5</td>\n",
       "      <td>t</td>\n",
       "      <td>r</td>\n",
       "      <td>...</td>\n",
       "      <td>0</td>\n",
       "      <td>0</td>\n",
       "      <td>0</td>\n",
       "      <td>0</td>\n",
       "      <td>0</td>\n",
       "      <td>0</td>\n",
       "      <td>0</td>\n",
       "      <td>0</td>\n",
       "      <td>0</td>\n",
       "      <td>3</td>\n",
       "    </tr>\n",
       "    <tr>\n",
       "      <th>260598</th>\n",
       "      <td>602512</td>\n",
       "      <td>17</td>\n",
       "      <td>51</td>\n",
       "      <td>8163</td>\n",
       "      <td>3</td>\n",
       "      <td>55</td>\n",
       "      <td>6</td>\n",
       "      <td>7</td>\n",
       "      <td>t</td>\n",
       "      <td>r</td>\n",
       "      <td>...</td>\n",
       "      <td>0</td>\n",
       "      <td>0</td>\n",
       "      <td>0</td>\n",
       "      <td>0</td>\n",
       "      <td>0</td>\n",
       "      <td>0</td>\n",
       "      <td>0</td>\n",
       "      <td>0</td>\n",
       "      <td>0</td>\n",
       "      <td>3</td>\n",
       "    </tr>\n",
       "    <tr>\n",
       "      <th>260599</th>\n",
       "      <td>151409</td>\n",
       "      <td>26</td>\n",
       "      <td>39</td>\n",
       "      <td>1851</td>\n",
       "      <td>2</td>\n",
       "      <td>10</td>\n",
       "      <td>14</td>\n",
       "      <td>6</td>\n",
       "      <td>t</td>\n",
       "      <td>r</td>\n",
       "      <td>...</td>\n",
       "      <td>0</td>\n",
       "      <td>0</td>\n",
       "      <td>0</td>\n",
       "      <td>0</td>\n",
       "      <td>0</td>\n",
       "      <td>0</td>\n",
       "      <td>0</td>\n",
       "      <td>0</td>\n",
       "      <td>0</td>\n",
       "      <td>2</td>\n",
       "    </tr>\n",
       "    <tr>\n",
       "      <th>260600</th>\n",
       "      <td>747594</td>\n",
       "      <td>21</td>\n",
       "      <td>9</td>\n",
       "      <td>9101</td>\n",
       "      <td>3</td>\n",
       "      <td>10</td>\n",
       "      <td>7</td>\n",
       "      <td>6</td>\n",
       "      <td>n</td>\n",
       "      <td>r</td>\n",
       "      <td>...</td>\n",
       "      <td>0</td>\n",
       "      <td>0</td>\n",
       "      <td>0</td>\n",
       "      <td>0</td>\n",
       "      <td>0</td>\n",
       "      <td>0</td>\n",
       "      <td>0</td>\n",
       "      <td>0</td>\n",
       "      <td>0</td>\n",
       "      <td>3</td>\n",
       "    </tr>\n",
       "  </tbody>\n",
       "</table>\n",
       "<p>260601 rows × 40 columns</p>\n",
       "</div>"
      ],
      "text/plain": [
       "        building_id  geo_level_1_id  geo_level_2_id  geo_level_3_id  \\\n",
       "0            802906               6             487           12198   \n",
       "1             28830               8             900            2812   \n",
       "2             94947              21             363            8973   \n",
       "3            590882              22             418           10694   \n",
       "4            201944              11             131            1488   \n",
       "...             ...             ...             ...             ...   \n",
       "260596       688636              25            1335            1621   \n",
       "260597       669485              17             715            2060   \n",
       "260598       602512              17              51            8163   \n",
       "260599       151409              26              39            1851   \n",
       "260600       747594              21               9            9101   \n",
       "\n",
       "        count_floors_pre_eq  age  area_percentage  height_percentage  \\\n",
       "0                         2   30                6                  5   \n",
       "1                         2   10                8                  7   \n",
       "2                         2   10                5                  5   \n",
       "3                         2   10                6                  5   \n",
       "4                         3   30                8                  9   \n",
       "...                     ...  ...              ...                ...   \n",
       "260596                    1   55                6                  3   \n",
       "260597                    2    0                6                  5   \n",
       "260598                    3   55                6                  7   \n",
       "260599                    2   10               14                  6   \n",
       "260600                    3   10                7                  6   \n",
       "\n",
       "       land_surface_condition foundation_type  ... has_secondary_use_hotel  \\\n",
       "0                           t               r  ...                       0   \n",
       "1                           o               r  ...                       0   \n",
       "2                           t               r  ...                       0   \n",
       "3                           t               r  ...                       0   \n",
       "4                           t               r  ...                       0   \n",
       "...                       ...             ...  ...                     ...   \n",
       "260596                      n               r  ...                       0   \n",
       "260597                      t               r  ...                       0   \n",
       "260598                      t               r  ...                       0   \n",
       "260599                      t               r  ...                       0   \n",
       "260600                      n               r  ...                       0   \n",
       "\n",
       "       has_secondary_use_rental has_secondary_use_institution  \\\n",
       "0                             0                             0   \n",
       "1                             0                             0   \n",
       "2                             0                             0   \n",
       "3                             0                             0   \n",
       "4                             0                             0   \n",
       "...                         ...                           ...   \n",
       "260596                        0                             0   \n",
       "260597                        0                             0   \n",
       "260598                        0                             0   \n",
       "260599                        0                             0   \n",
       "260600                        0                             0   \n",
       "\n",
       "       has_secondary_use_school has_secondary_use_industry  \\\n",
       "0                             0                          0   \n",
       "1                             0                          0   \n",
       "2                             0                          0   \n",
       "3                             0                          0   \n",
       "4                             0                          0   \n",
       "...                         ...                        ...   \n",
       "260596                        0                          0   \n",
       "260597                        0                          0   \n",
       "260598                        0                          0   \n",
       "260599                        0                          0   \n",
       "260600                        0                          0   \n",
       "\n",
       "        has_secondary_use_health_post  has_secondary_use_gov_office  \\\n",
       "0                                   0                             0   \n",
       "1                                   0                             0   \n",
       "2                                   0                             0   \n",
       "3                                   0                             0   \n",
       "4                                   0                             0   \n",
       "...                               ...                           ...   \n",
       "260596                              0                             0   \n",
       "260597                              0                             0   \n",
       "260598                              0                             0   \n",
       "260599                              0                             0   \n",
       "260600                              0                             0   \n",
       "\n",
       "        has_secondary_use_use_police  has_secondary_use_other  damage_grade  \n",
       "0                                  0                        0             3  \n",
       "1                                  0                        0             2  \n",
       "2                                  0                        0             3  \n",
       "3                                  0                        0             2  \n",
       "4                                  0                        0             3  \n",
       "...                              ...                      ...           ...  \n",
       "260596                             0                        0             2  \n",
       "260597                             0                        0             3  \n",
       "260598                             0                        0             3  \n",
       "260599                             0                        0             2  \n",
       "260600                             0                        0             3  \n",
       "\n",
       "[260601 rows x 40 columns]"
      ]
     },
     "execution_count": 7,
     "metadata": {},
     "output_type": "execute_result"
    }
   ],
   "source": [
    "data = pd.merge(features, target).set_index(['building_id']).reset_index() #Merging datasets\n",
    "\n",
    "data"
   ]
  },
  {
   "cell_type": "markdown",
   "metadata": {
    "id": "4a5f857f"
   },
   "source": [
    "# Data Analysis"
   ]
  },
  {
   "cell_type": "code",
   "execution_count": 8,
   "metadata": {
    "id": "49ee4e80",
    "outputId": "c6623c17-652d-425f-f8c9-01be0d96ce5c"
   },
   "outputs": [
    {
     "data": {
      "text/html": [
       "<div>\n",
       "<style scoped>\n",
       "    .dataframe tbody tr th:only-of-type {\n",
       "        vertical-align: middle;\n",
       "    }\n",
       "\n",
       "    .dataframe tbody tr th {\n",
       "        vertical-align: top;\n",
       "    }\n",
       "\n",
       "    .dataframe thead th {\n",
       "        text-align: right;\n",
       "    }\n",
       "</style>\n",
       "<table border=\"1\" class=\"dataframe\">\n",
       "  <thead>\n",
       "    <tr style=\"text-align: right;\">\n",
       "      <th></th>\n",
       "      <th>building_id</th>\n",
       "      <th>geo_level_1_id</th>\n",
       "      <th>geo_level_2_id</th>\n",
       "      <th>geo_level_3_id</th>\n",
       "      <th>count_floors_pre_eq</th>\n",
       "      <th>age</th>\n",
       "      <th>area_percentage</th>\n",
       "      <th>height_percentage</th>\n",
       "      <th>land_surface_condition</th>\n",
       "      <th>foundation_type</th>\n",
       "      <th>...</th>\n",
       "      <th>has_secondary_use_hotel</th>\n",
       "      <th>has_secondary_use_rental</th>\n",
       "      <th>has_secondary_use_institution</th>\n",
       "      <th>has_secondary_use_school</th>\n",
       "      <th>has_secondary_use_industry</th>\n",
       "      <th>has_secondary_use_health_post</th>\n",
       "      <th>has_secondary_use_gov_office</th>\n",
       "      <th>has_secondary_use_use_police</th>\n",
       "      <th>has_secondary_use_other</th>\n",
       "      <th>damage_grade</th>\n",
       "    </tr>\n",
       "  </thead>\n",
       "  <tbody>\n",
       "    <tr>\n",
       "      <th>0</th>\n",
       "      <td>802906</td>\n",
       "      <td>6</td>\n",
       "      <td>487</td>\n",
       "      <td>12198</td>\n",
       "      <td>2</td>\n",
       "      <td>30</td>\n",
       "      <td>6</td>\n",
       "      <td>5</td>\n",
       "      <td>t</td>\n",
       "      <td>r</td>\n",
       "      <td>...</td>\n",
       "      <td>0</td>\n",
       "      <td>0</td>\n",
       "      <td>0</td>\n",
       "      <td>0</td>\n",
       "      <td>0</td>\n",
       "      <td>0</td>\n",
       "      <td>0</td>\n",
       "      <td>0</td>\n",
       "      <td>0</td>\n",
       "      <td>3</td>\n",
       "    </tr>\n",
       "    <tr>\n",
       "      <th>1</th>\n",
       "      <td>28830</td>\n",
       "      <td>8</td>\n",
       "      <td>900</td>\n",
       "      <td>2812</td>\n",
       "      <td>2</td>\n",
       "      <td>10</td>\n",
       "      <td>8</td>\n",
       "      <td>7</td>\n",
       "      <td>o</td>\n",
       "      <td>r</td>\n",
       "      <td>...</td>\n",
       "      <td>0</td>\n",
       "      <td>0</td>\n",
       "      <td>0</td>\n",
       "      <td>0</td>\n",
       "      <td>0</td>\n",
       "      <td>0</td>\n",
       "      <td>0</td>\n",
       "      <td>0</td>\n",
       "      <td>0</td>\n",
       "      <td>2</td>\n",
       "    </tr>\n",
       "    <tr>\n",
       "      <th>2</th>\n",
       "      <td>94947</td>\n",
       "      <td>21</td>\n",
       "      <td>363</td>\n",
       "      <td>8973</td>\n",
       "      <td>2</td>\n",
       "      <td>10</td>\n",
       "      <td>5</td>\n",
       "      <td>5</td>\n",
       "      <td>t</td>\n",
       "      <td>r</td>\n",
       "      <td>...</td>\n",
       "      <td>0</td>\n",
       "      <td>0</td>\n",
       "      <td>0</td>\n",
       "      <td>0</td>\n",
       "      <td>0</td>\n",
       "      <td>0</td>\n",
       "      <td>0</td>\n",
       "      <td>0</td>\n",
       "      <td>0</td>\n",
       "      <td>3</td>\n",
       "    </tr>\n",
       "    <tr>\n",
       "      <th>3</th>\n",
       "      <td>590882</td>\n",
       "      <td>22</td>\n",
       "      <td>418</td>\n",
       "      <td>10694</td>\n",
       "      <td>2</td>\n",
       "      <td>10</td>\n",
       "      <td>6</td>\n",
       "      <td>5</td>\n",
       "      <td>t</td>\n",
       "      <td>r</td>\n",
       "      <td>...</td>\n",
       "      <td>0</td>\n",
       "      <td>0</td>\n",
       "      <td>0</td>\n",
       "      <td>0</td>\n",
       "      <td>0</td>\n",
       "      <td>0</td>\n",
       "      <td>0</td>\n",
       "      <td>0</td>\n",
       "      <td>0</td>\n",
       "      <td>2</td>\n",
       "    </tr>\n",
       "    <tr>\n",
       "      <th>4</th>\n",
       "      <td>201944</td>\n",
       "      <td>11</td>\n",
       "      <td>131</td>\n",
       "      <td>1488</td>\n",
       "      <td>3</td>\n",
       "      <td>30</td>\n",
       "      <td>8</td>\n",
       "      <td>9</td>\n",
       "      <td>t</td>\n",
       "      <td>r</td>\n",
       "      <td>...</td>\n",
       "      <td>0</td>\n",
       "      <td>0</td>\n",
       "      <td>0</td>\n",
       "      <td>0</td>\n",
       "      <td>0</td>\n",
       "      <td>0</td>\n",
       "      <td>0</td>\n",
       "      <td>0</td>\n",
       "      <td>0</td>\n",
       "      <td>3</td>\n",
       "    </tr>\n",
       "  </tbody>\n",
       "</table>\n",
       "<p>5 rows × 40 columns</p>\n",
       "</div>"
      ],
      "text/plain": [
       "   building_id  geo_level_1_id  geo_level_2_id  geo_level_3_id  \\\n",
       "0       802906               6             487           12198   \n",
       "1        28830               8             900            2812   \n",
       "2        94947              21             363            8973   \n",
       "3       590882              22             418           10694   \n",
       "4       201944              11             131            1488   \n",
       "\n",
       "   count_floors_pre_eq  age  area_percentage  height_percentage  \\\n",
       "0                    2   30                6                  5   \n",
       "1                    2   10                8                  7   \n",
       "2                    2   10                5                  5   \n",
       "3                    2   10                6                  5   \n",
       "4                    3   30                8                  9   \n",
       "\n",
       "  land_surface_condition foundation_type  ... has_secondary_use_hotel  \\\n",
       "0                      t               r  ...                       0   \n",
       "1                      o               r  ...                       0   \n",
       "2                      t               r  ...                       0   \n",
       "3                      t               r  ...                       0   \n",
       "4                      t               r  ...                       0   \n",
       "\n",
       "  has_secondary_use_rental has_secondary_use_institution  \\\n",
       "0                        0                             0   \n",
       "1                        0                             0   \n",
       "2                        0                             0   \n",
       "3                        0                             0   \n",
       "4                        0                             0   \n",
       "\n",
       "  has_secondary_use_school has_secondary_use_industry  \\\n",
       "0                        0                          0   \n",
       "1                        0                          0   \n",
       "2                        0                          0   \n",
       "3                        0                          0   \n",
       "4                        0                          0   \n",
       "\n",
       "   has_secondary_use_health_post  has_secondary_use_gov_office  \\\n",
       "0                              0                             0   \n",
       "1                              0                             0   \n",
       "2                              0                             0   \n",
       "3                              0                             0   \n",
       "4                              0                             0   \n",
       "\n",
       "   has_secondary_use_use_police  has_secondary_use_other  damage_grade  \n",
       "0                             0                        0             3  \n",
       "1                             0                        0             2  \n",
       "2                             0                        0             3  \n",
       "3                             0                        0             2  \n",
       "4                             0                        0             3  \n",
       "\n",
       "[5 rows x 40 columns]"
      ]
     },
     "execution_count": 8,
     "metadata": {},
     "output_type": "execute_result"
    }
   ],
   "source": [
    "# Checking Head of the Data\n",
    "data.head()"
   ]
  },
  {
   "cell_type": "code",
   "execution_count": 9,
   "metadata": {
    "id": "2a1350ec"
   },
   "outputs": [],
   "source": [
    "# Checking data columns rows count, Null values, Data type\n",
    "data.to_csv('earthquake11.csv', index=False)"
   ]
  },
  {
   "cell_type": "code",
   "execution_count": 10,
   "metadata": {
    "id": "8722306c",
    "outputId": "c1c0de0f-2a47-44cc-ab9d-78bb1102b1d5"
   },
   "outputs": [
    {
     "data": {
      "text/html": [
       "<div>\n",
       "<style scoped>\n",
       "    .dataframe tbody tr th:only-of-type {\n",
       "        vertical-align: middle;\n",
       "    }\n",
       "\n",
       "    .dataframe tbody tr th {\n",
       "        vertical-align: top;\n",
       "    }\n",
       "\n",
       "    .dataframe thead th {\n",
       "        text-align: right;\n",
       "    }\n",
       "</style>\n",
       "<table border=\"1\" class=\"dataframe\">\n",
       "  <thead>\n",
       "    <tr style=\"text-align: right;\">\n",
       "      <th></th>\n",
       "      <th>building_id</th>\n",
       "      <th>geo_level_1_id</th>\n",
       "      <th>geo_level_2_id</th>\n",
       "      <th>geo_level_3_id</th>\n",
       "      <th>count_floors_pre_eq</th>\n",
       "      <th>age</th>\n",
       "      <th>area_percentage</th>\n",
       "      <th>height_percentage</th>\n",
       "      <th>has_superstructure_adobe_mud</th>\n",
       "      <th>has_superstructure_mud_mortar_stone</th>\n",
       "      <th>...</th>\n",
       "      <th>has_secondary_use_hotel</th>\n",
       "      <th>has_secondary_use_rental</th>\n",
       "      <th>has_secondary_use_institution</th>\n",
       "      <th>has_secondary_use_school</th>\n",
       "      <th>has_secondary_use_industry</th>\n",
       "      <th>has_secondary_use_health_post</th>\n",
       "      <th>has_secondary_use_gov_office</th>\n",
       "      <th>has_secondary_use_use_police</th>\n",
       "      <th>has_secondary_use_other</th>\n",
       "      <th>damage_grade</th>\n",
       "    </tr>\n",
       "  </thead>\n",
       "  <tbody>\n",
       "    <tr>\n",
       "      <th>count</th>\n",
       "      <td>2.606010e+05</td>\n",
       "      <td>260601.000000</td>\n",
       "      <td>260601.000000</td>\n",
       "      <td>260601.000000</td>\n",
       "      <td>260601.000000</td>\n",
       "      <td>260601.000000</td>\n",
       "      <td>260601.000000</td>\n",
       "      <td>260601.000000</td>\n",
       "      <td>260601.000000</td>\n",
       "      <td>260601.000000</td>\n",
       "      <td>...</td>\n",
       "      <td>260601.000000</td>\n",
       "      <td>260601.000000</td>\n",
       "      <td>260601.000000</td>\n",
       "      <td>260601.000000</td>\n",
       "      <td>260601.000000</td>\n",
       "      <td>260601.000000</td>\n",
       "      <td>260601.000000</td>\n",
       "      <td>260601.000000</td>\n",
       "      <td>260601.000000</td>\n",
       "      <td>260601.000000</td>\n",
       "    </tr>\n",
       "    <tr>\n",
       "      <th>mean</th>\n",
       "      <td>5.256755e+05</td>\n",
       "      <td>13.900353</td>\n",
       "      <td>701.074685</td>\n",
       "      <td>6257.876148</td>\n",
       "      <td>2.129723</td>\n",
       "      <td>26.535029</td>\n",
       "      <td>8.018051</td>\n",
       "      <td>5.434365</td>\n",
       "      <td>0.088645</td>\n",
       "      <td>0.761935</td>\n",
       "      <td>...</td>\n",
       "      <td>0.033626</td>\n",
       "      <td>0.008101</td>\n",
       "      <td>0.000940</td>\n",
       "      <td>0.000361</td>\n",
       "      <td>0.001071</td>\n",
       "      <td>0.000188</td>\n",
       "      <td>0.000146</td>\n",
       "      <td>0.000088</td>\n",
       "      <td>0.005119</td>\n",
       "      <td>2.238272</td>\n",
       "    </tr>\n",
       "    <tr>\n",
       "      <th>std</th>\n",
       "      <td>3.045450e+05</td>\n",
       "      <td>8.033617</td>\n",
       "      <td>412.710734</td>\n",
       "      <td>3646.369645</td>\n",
       "      <td>0.727665</td>\n",
       "      <td>73.565937</td>\n",
       "      <td>4.392231</td>\n",
       "      <td>1.918418</td>\n",
       "      <td>0.284231</td>\n",
       "      <td>0.425900</td>\n",
       "      <td>...</td>\n",
       "      <td>0.180265</td>\n",
       "      <td>0.089638</td>\n",
       "      <td>0.030647</td>\n",
       "      <td>0.018989</td>\n",
       "      <td>0.032703</td>\n",
       "      <td>0.013711</td>\n",
       "      <td>0.012075</td>\n",
       "      <td>0.009394</td>\n",
       "      <td>0.071364</td>\n",
       "      <td>0.611814</td>\n",
       "    </tr>\n",
       "    <tr>\n",
       "      <th>min</th>\n",
       "      <td>4.000000e+00</td>\n",
       "      <td>0.000000</td>\n",
       "      <td>0.000000</td>\n",
       "      <td>0.000000</td>\n",
       "      <td>1.000000</td>\n",
       "      <td>0.000000</td>\n",
       "      <td>1.000000</td>\n",
       "      <td>2.000000</td>\n",
       "      <td>0.000000</td>\n",
       "      <td>0.000000</td>\n",
       "      <td>...</td>\n",
       "      <td>0.000000</td>\n",
       "      <td>0.000000</td>\n",
       "      <td>0.000000</td>\n",
       "      <td>0.000000</td>\n",
       "      <td>0.000000</td>\n",
       "      <td>0.000000</td>\n",
       "      <td>0.000000</td>\n",
       "      <td>0.000000</td>\n",
       "      <td>0.000000</td>\n",
       "      <td>1.000000</td>\n",
       "    </tr>\n",
       "    <tr>\n",
       "      <th>25%</th>\n",
       "      <td>2.611900e+05</td>\n",
       "      <td>7.000000</td>\n",
       "      <td>350.000000</td>\n",
       "      <td>3073.000000</td>\n",
       "      <td>2.000000</td>\n",
       "      <td>10.000000</td>\n",
       "      <td>5.000000</td>\n",
       "      <td>4.000000</td>\n",
       "      <td>0.000000</td>\n",
       "      <td>1.000000</td>\n",
       "      <td>...</td>\n",
       "      <td>0.000000</td>\n",
       "      <td>0.000000</td>\n",
       "      <td>0.000000</td>\n",
       "      <td>0.000000</td>\n",
       "      <td>0.000000</td>\n",
       "      <td>0.000000</td>\n",
       "      <td>0.000000</td>\n",
       "      <td>0.000000</td>\n",
       "      <td>0.000000</td>\n",
       "      <td>2.000000</td>\n",
       "    </tr>\n",
       "    <tr>\n",
       "      <th>50%</th>\n",
       "      <td>5.257570e+05</td>\n",
       "      <td>12.000000</td>\n",
       "      <td>702.000000</td>\n",
       "      <td>6270.000000</td>\n",
       "      <td>2.000000</td>\n",
       "      <td>15.000000</td>\n",
       "      <td>7.000000</td>\n",
       "      <td>5.000000</td>\n",
       "      <td>0.000000</td>\n",
       "      <td>1.000000</td>\n",
       "      <td>...</td>\n",
       "      <td>0.000000</td>\n",
       "      <td>0.000000</td>\n",
       "      <td>0.000000</td>\n",
       "      <td>0.000000</td>\n",
       "      <td>0.000000</td>\n",
       "      <td>0.000000</td>\n",
       "      <td>0.000000</td>\n",
       "      <td>0.000000</td>\n",
       "      <td>0.000000</td>\n",
       "      <td>2.000000</td>\n",
       "    </tr>\n",
       "    <tr>\n",
       "      <th>75%</th>\n",
       "      <td>7.897620e+05</td>\n",
       "      <td>21.000000</td>\n",
       "      <td>1050.000000</td>\n",
       "      <td>9412.000000</td>\n",
       "      <td>2.000000</td>\n",
       "      <td>30.000000</td>\n",
       "      <td>9.000000</td>\n",
       "      <td>6.000000</td>\n",
       "      <td>0.000000</td>\n",
       "      <td>1.000000</td>\n",
       "      <td>...</td>\n",
       "      <td>0.000000</td>\n",
       "      <td>0.000000</td>\n",
       "      <td>0.000000</td>\n",
       "      <td>0.000000</td>\n",
       "      <td>0.000000</td>\n",
       "      <td>0.000000</td>\n",
       "      <td>0.000000</td>\n",
       "      <td>0.000000</td>\n",
       "      <td>0.000000</td>\n",
       "      <td>3.000000</td>\n",
       "    </tr>\n",
       "    <tr>\n",
       "      <th>max</th>\n",
       "      <td>1.052934e+06</td>\n",
       "      <td>30.000000</td>\n",
       "      <td>1427.000000</td>\n",
       "      <td>12567.000000</td>\n",
       "      <td>9.000000</td>\n",
       "      <td>995.000000</td>\n",
       "      <td>100.000000</td>\n",
       "      <td>32.000000</td>\n",
       "      <td>1.000000</td>\n",
       "      <td>1.000000</td>\n",
       "      <td>...</td>\n",
       "      <td>1.000000</td>\n",
       "      <td>1.000000</td>\n",
       "      <td>1.000000</td>\n",
       "      <td>1.000000</td>\n",
       "      <td>1.000000</td>\n",
       "      <td>1.000000</td>\n",
       "      <td>1.000000</td>\n",
       "      <td>1.000000</td>\n",
       "      <td>1.000000</td>\n",
       "      <td>3.000000</td>\n",
       "    </tr>\n",
       "  </tbody>\n",
       "</table>\n",
       "<p>8 rows × 32 columns</p>\n",
       "</div>"
      ],
      "text/plain": [
       "        building_id  geo_level_1_id  geo_level_2_id  geo_level_3_id  \\\n",
       "count  2.606010e+05   260601.000000   260601.000000   260601.000000   \n",
       "mean   5.256755e+05       13.900353      701.074685     6257.876148   \n",
       "std    3.045450e+05        8.033617      412.710734     3646.369645   \n",
       "min    4.000000e+00        0.000000        0.000000        0.000000   \n",
       "25%    2.611900e+05        7.000000      350.000000     3073.000000   \n",
       "50%    5.257570e+05       12.000000      702.000000     6270.000000   \n",
       "75%    7.897620e+05       21.000000     1050.000000     9412.000000   \n",
       "max    1.052934e+06       30.000000     1427.000000    12567.000000   \n",
       "\n",
       "       count_floors_pre_eq            age  area_percentage  height_percentage  \\\n",
       "count        260601.000000  260601.000000    260601.000000      260601.000000   \n",
       "mean              2.129723      26.535029         8.018051           5.434365   \n",
       "std               0.727665      73.565937         4.392231           1.918418   \n",
       "min               1.000000       0.000000         1.000000           2.000000   \n",
       "25%               2.000000      10.000000         5.000000           4.000000   \n",
       "50%               2.000000      15.000000         7.000000           5.000000   \n",
       "75%               2.000000      30.000000         9.000000           6.000000   \n",
       "max               9.000000     995.000000       100.000000          32.000000   \n",
       "\n",
       "       has_superstructure_adobe_mud  has_superstructure_mud_mortar_stone  ...  \\\n",
       "count                 260601.000000                        260601.000000  ...   \n",
       "mean                       0.088645                             0.761935  ...   \n",
       "std                        0.284231                             0.425900  ...   \n",
       "min                        0.000000                             0.000000  ...   \n",
       "25%                        0.000000                             1.000000  ...   \n",
       "50%                        0.000000                             1.000000  ...   \n",
       "75%                        0.000000                             1.000000  ...   \n",
       "max                        1.000000                             1.000000  ...   \n",
       "\n",
       "       has_secondary_use_hotel  has_secondary_use_rental  \\\n",
       "count            260601.000000             260601.000000   \n",
       "mean                  0.033626                  0.008101   \n",
       "std                   0.180265                  0.089638   \n",
       "min                   0.000000                  0.000000   \n",
       "25%                   0.000000                  0.000000   \n",
       "50%                   0.000000                  0.000000   \n",
       "75%                   0.000000                  0.000000   \n",
       "max                   1.000000                  1.000000   \n",
       "\n",
       "       has_secondary_use_institution  has_secondary_use_school  \\\n",
       "count                  260601.000000             260601.000000   \n",
       "mean                        0.000940                  0.000361   \n",
       "std                         0.030647                  0.018989   \n",
       "min                         0.000000                  0.000000   \n",
       "25%                         0.000000                  0.000000   \n",
       "50%                         0.000000                  0.000000   \n",
       "75%                         0.000000                  0.000000   \n",
       "max                         1.000000                  1.000000   \n",
       "\n",
       "       has_secondary_use_industry  has_secondary_use_health_post  \\\n",
       "count               260601.000000                  260601.000000   \n",
       "mean                     0.001071                       0.000188   \n",
       "std                      0.032703                       0.013711   \n",
       "min                      0.000000                       0.000000   \n",
       "25%                      0.000000                       0.000000   \n",
       "50%                      0.000000                       0.000000   \n",
       "75%                      0.000000                       0.000000   \n",
       "max                      1.000000                       1.000000   \n",
       "\n",
       "       has_secondary_use_gov_office  has_secondary_use_use_police  \\\n",
       "count                 260601.000000                 260601.000000   \n",
       "mean                       0.000146                      0.000088   \n",
       "std                        0.012075                      0.009394   \n",
       "min                        0.000000                      0.000000   \n",
       "25%                        0.000000                      0.000000   \n",
       "50%                        0.000000                      0.000000   \n",
       "75%                        0.000000                      0.000000   \n",
       "max                        1.000000                      1.000000   \n",
       "\n",
       "       has_secondary_use_other   damage_grade  \n",
       "count            260601.000000  260601.000000  \n",
       "mean                  0.005119       2.238272  \n",
       "std                   0.071364       0.611814  \n",
       "min                   0.000000       1.000000  \n",
       "25%                   0.000000       2.000000  \n",
       "50%                   0.000000       2.000000  \n",
       "75%                   0.000000       3.000000  \n",
       "max                   1.000000       3.000000  \n",
       "\n",
       "[8 rows x 32 columns]"
      ]
     },
     "execution_count": 10,
     "metadata": {},
     "output_type": "execute_result"
    }
   ],
   "source": [
    "# checking the data columns Mean, median, standard deviation(std), minimum, maximum, 25%, 50%, 75% Values\n",
    "data.describe()"
   ]
  },
  {
   "cell_type": "code",
   "execution_count": 11,
   "metadata": {
    "id": "ad2ffc5b",
    "outputId": "6df0efd4-62cc-431c-e864-0acc13697c5b"
   },
   "outputs": [
    {
     "data": {
      "text/plain": [
       "Index(['building_id', 'geo_level_1_id', 'geo_level_2_id', 'geo_level_3_id',\n",
       "       'count_floors_pre_eq', 'age', 'area_percentage', 'height_percentage',\n",
       "       'land_surface_condition', 'foundation_type', 'roof_type',\n",
       "       'ground_floor_type', 'other_floor_type', 'position',\n",
       "       'plan_configuration', 'has_superstructure_adobe_mud',\n",
       "       'has_superstructure_mud_mortar_stone', 'has_superstructure_stone_flag',\n",
       "       'has_superstructure_cement_mortar_stone',\n",
       "       'has_superstructure_mud_mortar_brick',\n",
       "       'has_superstructure_cement_mortar_brick', 'has_superstructure_timber',\n",
       "       'has_superstructure_bamboo', 'has_superstructure_rc_non_engineered',\n",
       "       'has_superstructure_rc_engineered', 'has_superstructure_other',\n",
       "       'legal_ownership_status', 'count_families', 'has_secondary_use',\n",
       "       'has_secondary_use_agriculture', 'has_secondary_use_hotel',\n",
       "       'has_secondary_use_rental', 'has_secondary_use_institution',\n",
       "       'has_secondary_use_school', 'has_secondary_use_industry',\n",
       "       'has_secondary_use_health_post', 'has_secondary_use_gov_office',\n",
       "       'has_secondary_use_use_police', 'has_secondary_use_other',\n",
       "       'damage_grade'],\n",
       "      dtype='object')"
      ]
     },
     "execution_count": 11,
     "metadata": {},
     "output_type": "execute_result"
    }
   ],
   "source": [
    "# columns names \n",
    "\n",
    "data.columns"
   ]
  },
  {
   "cell_type": "code",
   "execution_count": null,
   "metadata": {
    "id": "518139fc"
   },
   "outputs": [],
   "source": []
  },
  {
   "cell_type": "markdown",
   "metadata": {
    "id": "9cc9fde0"
   },
   "source": [
    "# Data Cleaning"
   ]
  },
  {
   "cell_type": "code",
   "execution_count": 12,
   "metadata": {
    "id": "7d7c3464",
    "outputId": "ba07b2aa-23cc-45ea-a90a-5d016cefc5b1"
   },
   "outputs": [
    {
     "data": {
      "text/plain": [
       "260601"
      ]
     },
     "execution_count": 12,
     "metadata": {},
     "output_type": "execute_result"
    }
   ],
   "source": [
    "data.building_id.nunique()"
   ]
  },
  {
   "cell_type": "code",
   "execution_count": null,
   "metadata": {
    "id": "459758cc"
   },
   "outputs": [],
   "source": []
  },
  {
   "cell_type": "code",
   "execution_count": 13,
   "metadata": {
    "id": "52ef1c8b",
    "outputId": "3d74c3d3-b1e8-40b7-9120-6f70195adf85"
   },
   "outputs": [
    {
     "data": {
      "text/plain": [
       "0"
      ]
     },
     "execution_count": 13,
     "metadata": {},
     "output_type": "execute_result"
    }
   ],
   "source": [
    "data.duplicated().sum()   # Finding Duplicates "
   ]
  },
  {
   "cell_type": "code",
   "execution_count": 14,
   "metadata": {
    "id": "79fd97c5",
    "outputId": "8c0c1f66-d065-4fda-bbce-631353c3084c"
   },
   "outputs": [
    {
     "name": "stdout",
     "output_type": "stream",
     "text": [
      "building_id = [802906  28830  94947 ... 602512 151409 747594] Total = 260601 \n",
      "\n",
      "geo_level_1_id = [ 6  8 21 22 11  9 20  0 26 17 12 18  4 27 25 10  7  3 13 30 16  5 15 14\n",
      " 19  1 24 28 23  2 29] Total = 31 \n",
      "\n",
      "geo_level_2_id = [487 900 363 ...  77 115 627] Total = 1414 \n",
      "\n",
      "geo_level_3_id = [12198  2812  8973 ...  3152  5276  3085] Total = 11595 \n",
      "\n",
      "count_floors_pre_eq = [2 3 1 4 5 6 7 8 9] Total = 9 \n",
      "\n",
      "age = [ 30  10  25   0  15  20  45  55   5  40  80  60  35  70  50  65 100  75\n",
      "  85 190 995 105  90 120  95 110 115 150 200 130 125 140 155 160 175 135\n",
      " 145 195 180 165 170 185] Total = 42 \n",
      "\n",
      "area_percentage = [  6   8   5   9   3  13   7   4  12  16  11  27  10  15  14  17  21  37\n",
      "  19   2  28  38  56   1  20  24  34  26  18  31  25  23  22  32  47  36\n",
      "  40  29  42  55  35  39 100  50  51  43  30  62  85  33  45  52  57  49\n",
      "  67  66  54  75  65  58  48  64  63  46  59  86  78  41  44  61  70  77\n",
      "  73  72  53  60  84  83  76  96  80  90  82  69] Total = 84 \n",
      "\n",
      "height_percentage = [ 5  7  9  4  6  3 10  8  2 32 12 11 13 16 15 18 26 17 19 14 20 23 21 25\n",
      " 24 28 31] Total = 27 \n",
      "\n",
      "land_surface_condition = ['t' 'o' 'n'] Total = 3 \n",
      "\n",
      "foundation_type = ['r' 'w' 'i' 'u' 'h'] Total = 5 \n",
      "\n",
      "roof_type = ['n' 'q' 'x'] Total = 3 \n",
      "\n",
      "ground_floor_type = ['f' 'x' 'v' 'z' 'm'] Total = 5 \n",
      "\n",
      "other_floor_type = ['q' 'x' 'j' 's'] Total = 4 \n",
      "\n",
      "position = ['t' 's' 'j' 'o'] Total = 4 \n",
      "\n",
      "plan_configuration = ['d' 'u' 's' 'q' 'm' 'c' 'a' 'n' 'f' 'o'] Total = 10 \n",
      "\n",
      "has_superstructure_adobe_mud = [1 0] Total = 2 \n",
      "\n",
      "has_superstructure_mud_mortar_stone = [1 0] Total = 2 \n",
      "\n",
      "has_superstructure_stone_flag = [0 1] Total = 2 \n",
      "\n",
      "has_superstructure_cement_mortar_stone = [0 1] Total = 2 \n",
      "\n",
      "has_superstructure_mud_mortar_brick = [0 1] Total = 2 \n",
      "\n",
      "has_superstructure_cement_mortar_brick = [0 1] Total = 2 \n",
      "\n",
      "has_superstructure_timber = [0 1] Total = 2 \n",
      "\n",
      "has_superstructure_bamboo = [0 1] Total = 2 \n",
      "\n",
      "has_superstructure_rc_non_engineered = [0 1] Total = 2 \n",
      "\n",
      "has_superstructure_rc_engineered = [0 1] Total = 2 \n",
      "\n",
      "has_superstructure_other = [0 1] Total = 2 \n",
      "\n",
      "legal_ownership_status = ['v' 'a' 'r' 'w'] Total = 4 \n",
      "\n",
      "count_families = [1 0 2 3 4 5 6 7 9 8] Total = 10 \n",
      "\n",
      "has_secondary_use = [0 1] Total = 2 \n",
      "\n",
      "has_secondary_use_agriculture = [0 1] Total = 2 \n",
      "\n",
      "has_secondary_use_hotel = [0 1] Total = 2 \n",
      "\n",
      "has_secondary_use_rental = [0 1] Total = 2 \n",
      "\n",
      "has_secondary_use_institution = [0 1] Total = 2 \n",
      "\n",
      "has_secondary_use_school = [0 1] Total = 2 \n",
      "\n",
      "has_secondary_use_industry = [0 1] Total = 2 \n",
      "\n",
      "has_secondary_use_health_post = [0 1] Total = 2 \n",
      "\n",
      "has_secondary_use_gov_office = [0 1] Total = 2 \n",
      "\n",
      "has_secondary_use_use_police = [0 1] Total = 2 \n",
      "\n",
      "has_secondary_use_other = [0 1] Total = 2 \n",
      "\n",
      "damage_grade = [3 2 1] Total = 3 \n",
      "\n"
     ]
    }
   ],
   "source": [
    "# Printing the Unique values and No. of unique values\n",
    "for i in data.columns:\n",
    "    print(i,'=', data[i].unique(), 'Total =', len(data[i].unique()), '\\n')"
   ]
  },
  {
   "cell_type": "code",
   "execution_count": 15,
   "metadata": {
    "id": "26d4dde3"
   },
   "outputs": [],
   "source": [
    "# Damage_grade (label)"
   ]
  },
  {
   "cell_type": "code",
   "execution_count": 16,
   "metadata": {
    "id": "b389fba9",
    "outputId": "eabb6a45-1a64-465b-dccc-4ccbef5574c7"
   },
   "outputs": [
    {
     "data": {
      "text/plain": [
       "(3, array([3, 2, 1], dtype=int64))"
      ]
     },
     "execution_count": 16,
     "metadata": {},
     "output_type": "execute_result"
    }
   ],
   "source": [
    "data.damage_grade.nunique(), data.damage_grade.unique()"
   ]
  },
  {
   "cell_type": "code",
   "execution_count": 17,
   "metadata": {
    "id": "8f68f22b",
    "outputId": "bd494a0d-da17-4ba0-8d95-40865b2c5a83"
   },
   "outputs": [
    {
     "name": "stdout",
     "output_type": "stream",
     "text": [
      " damage grade 1 =   25124 rows \n",
      " damage grade 2 =  148259 rows \n",
      " damage grade 3 =   87218 rows \n",
      "\n"
     ]
    }
   ],
   "source": [
    "print( ' damage grade 1 =  ' ,len(data[data.damage_grade == 1]), 'rows','\\n',\n",
    "      'damage grade 2 = ' ,len(data[data.damage_grade == 2]), 'rows' ,'\\n',\n",
    "      'damage grade 3 =  ' ,len(data[data.damage_grade == 3]), 'rows' ,'\\n')"
   ]
  },
  {
   "cell_type": "code",
   "execution_count": 18,
   "metadata": {
    "id": "0866974a"
   },
   "outputs": [],
   "source": [
    "damage = np.sort(data.damage_grade.unique())"
   ]
  },
  {
   "cell_type": "markdown",
   "metadata": {
    "id": "614bd196"
   },
   "source": [
    "## count_floors_pre_eq  column analysis"
   ]
  },
  {
   "cell_type": "code",
   "execution_count": 19,
   "metadata": {
    "id": "c3ffd83f",
    "outputId": "0ddb372a-1189-44df-dda3-8e024ebbe3a5"
   },
   "outputs": [
    {
     "data": {
      "text/plain": [
       "array([1, 2, 3, 4, 5, 6, 7, 8, 9], dtype=int64)"
      ]
     },
     "execution_count": 19,
     "metadata": {},
     "output_type": "execute_result"
    }
   ],
   "source": [
    "floor_analysis = pd.DataFrame(index=['No of Rows', 'total per(%)', '1 per(%)', '2 per(%)', '3 per(%)', \n",
    "                          '1 total', '2 total', '3 total']) \n",
    "floors = np.sort(data.count_floors_pre_eq.unique())\n",
    "floors"
   ]
  },
  {
   "cell_type": "code",
   "execution_count": 20,
   "metadata": {
    "id": "411d7286",
    "outputId": "2855e821-9ab3-4879-f2e4-c21d17d0815a",
    "scrolled": true
   },
   "outputs": [
    {
     "name": "stdout",
     "output_type": "stream",
     "text": [
      "Floors =  1 \n",
      "\n",
      "No. of Rows available: 40441 percentage: 15.518359484422547 % length: 40441\n",
      "if damage_grade is  1 : No of Rows = 8969 and per(%) = 22.177987685764446\n",
      "if damage_grade is  2 : No of Rows = 20798 and per(%) = 51.42800623129992\n",
      "if damage_grade is  3 : No of Rows = 10674 and per(%) = 26.394006082935633\n",
      "40441\n",
      "Floors =  2 \n",
      "\n",
      "No. of Rows available: 156623 percentage: 60.100690327358684 % length: 156623\n",
      "if damage_grade is  1 : No of Rows = 12593 and per(%) = 8.040326133454217\n",
      "if damage_grade is  2 : No of Rows = 93968 and per(%) = 59.99629684018311\n",
      "if damage_grade is  3 : No of Rows = 50062 and per(%) = 31.963377026362664\n",
      "156623\n",
      "Floors =  3 \n",
      "\n",
      "No. of Rows available: 55617 percentage: 21.34182140513659 % length: 55617\n",
      "if damage_grade is  1 : No of Rows = 2537 and per(%) = 4.561554920258194\n",
      "if damage_grade is  2 : No of Rows = 28479 and per(%) = 51.20556664329252\n",
      "if damage_grade is  3 : No of Rows = 24601 and per(%) = 44.23287843644928\n",
      "55617\n",
      "Floors =  4 \n",
      "\n",
      "No. of Rows available: 5424 percentage: 2.081342742353253 % length: 5424\n",
      "if damage_grade is  1 : No of Rows = 707 and per(%) = 13.034660766961654\n",
      "if damage_grade is  2 : No of Rows = 3374 and per(%) = 62.20501474926253\n",
      "if damage_grade is  3 : No of Rows = 1343 and per(%) = 24.76032448377581\n",
      "5424\n",
      "Floors =  5 \n",
      "\n",
      "No. of Rows available: 2246 percentage: 0.8618539453033566 % length: 2246\n",
      "if damage_grade is  1 : No of Rows = 254 and per(%) = 11.308993766696348\n",
      "if damage_grade is  2 : No of Rows = 1481 and per(%) = 65.93944790739091\n",
      "if damage_grade is  3 : No of Rows = 511 and per(%) = 22.751558325912733\n",
      "2246\n",
      "Floors =  6 \n",
      "\n",
      "No. of Rows available: 209 percentage: 0.08019923177577984 % length: 209\n",
      "if damage_grade is  1 : No of Rows = 53 and per(%) = 25.358851674641148\n",
      "if damage_grade is  2 : No of Rows = 133 and per(%) = 63.63636363636363\n",
      "if damage_grade is  3 : No of Rows = 23 and per(%) = 11.004784688995215\n",
      "209\n",
      "Floors =  7 \n",
      "\n",
      "No. of Rows available: 39 percentage: 0.014965406886389537 % length: 39\n",
      "if damage_grade is  1 : No of Rows = 10 and per(%) = 25.64102564102564\n",
      "if damage_grade is  2 : No of Rows = 25 and per(%) = 64.1025641025641\n",
      "if damage_grade is  3 : No of Rows = 4 and per(%) = 10.256410256410255\n",
      "39\n",
      "Floors =  8 \n",
      "\n",
      "No. of Rows available: 1 percentage: 0.00038372838170229587 % length: 1\n",
      "if damage_grade is  1 : No of Rows = 0 and per(%) = 0.0\n",
      "if damage_grade is  2 : No of Rows = 1 and per(%) = 100.0\n",
      "if damage_grade is  3 : No of Rows = 0 and per(%) = 0.0\n",
      "1\n",
      "Floors =  9 \n",
      "\n",
      "No. of Rows available: 1 percentage: 0.00038372838170229587 % length: 1\n",
      "if damage_grade is  1 : No of Rows = 1 and per(%) = 100.0\n",
      "if damage_grade is  2 : No of Rows = 0 and per(%) = 0.0\n",
      "if damage_grade is  3 : No of Rows = 0 and per(%) = 0.0\n",
      "1\n"
     ]
    }
   ],
   "source": [
    "per = 0\n",
    "len1 = 0\n",
    "for i in floors:\n",
    "    print(\"Floors = \", i , '\\n')\n",
    "    dummy = data[data.count_floors_pre_eq == i]\n",
    "    print('No. of Rows available:',len(data.loc[data[\"count_floors_pre_eq\"] == i, \"count_floors_pre_eq\"]),'percentage:', \n",
    "          (len(data.loc[data[\"count_floors_pre_eq\"] == i, \"count_floors_pre_eq\"])/len(data))*100,'%', 'length:', len(dummy))\n",
    "    damage_grade = 0\n",
    "    dam_tot = [0,0,0]\n",
    "    dam_per = [0,0,0]\n",
    "    for j in damage:\n",
    "        print(\"if damage_grade is \",j,':','No of Rows =', len(dummy[dummy.damage_grade == j]), 'and per(%) =',\n",
    "             len(dummy[dummy.damage_grade == j])/len(dummy)*100)\n",
    "        dam_per[j-1]= len(dummy[dummy.damage_grade == j])/len(dummy)*100\n",
    "        \n",
    "        dam_tot[j-1] = len(dummy[dummy.damage_grade == j])\n",
    "        damage_grade +=len(dummy[dummy.damage_grade == j])\n",
    "        \n",
    "    name_age = \"Age = {}\".format(i)\n",
    "    floor_analysis[i] = [ int(len(data.loc[data[\"count_floors_pre_eq\"] == i, \"count_floors_pre_eq\"])), \n",
    "                          int((len(data.loc[data[\"count_floors_pre_eq\"] == i, \"count_floors_pre_eq\"])/len(data))*100),\n",
    "                         int(dam_per[0]), int(dam_per[1]),int(dam_per[2]), int(dam_tot[0]), \n",
    "                                                                            int(dam_tot[1]), \n",
    "                                                                                int(dam_tot[2])]\n",
    "    print(damage_grade)"
   ]
  },
  {
   "cell_type": "code",
   "execution_count": 21,
   "metadata": {
    "id": "8486aae4",
    "outputId": "c19ae18b-3fac-48e1-a3ef-c85e6d6c26bc"
   },
   "outputs": [
    {
     "data": {
      "text/html": [
       "<div>\n",
       "<style scoped>\n",
       "    .dataframe tbody tr th:only-of-type {\n",
       "        vertical-align: middle;\n",
       "    }\n",
       "\n",
       "    .dataframe tbody tr th {\n",
       "        vertical-align: top;\n",
       "    }\n",
       "\n",
       "    .dataframe thead th {\n",
       "        text-align: right;\n",
       "    }\n",
       "</style>\n",
       "<table border=\"1\" class=\"dataframe\">\n",
       "  <thead>\n",
       "    <tr style=\"text-align: right;\">\n",
       "      <th></th>\n",
       "      <th>1</th>\n",
       "      <th>2</th>\n",
       "      <th>3</th>\n",
       "      <th>4</th>\n",
       "      <th>5</th>\n",
       "      <th>6</th>\n",
       "      <th>7</th>\n",
       "      <th>8</th>\n",
       "      <th>9</th>\n",
       "    </tr>\n",
       "  </thead>\n",
       "  <tbody>\n",
       "    <tr>\n",
       "      <th>No of Rows</th>\n",
       "      <td>40441</td>\n",
       "      <td>156623</td>\n",
       "      <td>55617</td>\n",
       "      <td>5424</td>\n",
       "      <td>2246</td>\n",
       "      <td>209</td>\n",
       "      <td>39</td>\n",
       "      <td>1</td>\n",
       "      <td>1</td>\n",
       "    </tr>\n",
       "    <tr>\n",
       "      <th>total per(%)</th>\n",
       "      <td>15</td>\n",
       "      <td>60</td>\n",
       "      <td>21</td>\n",
       "      <td>2</td>\n",
       "      <td>0</td>\n",
       "      <td>0</td>\n",
       "      <td>0</td>\n",
       "      <td>0</td>\n",
       "      <td>0</td>\n",
       "    </tr>\n",
       "    <tr>\n",
       "      <th>1 per(%)</th>\n",
       "      <td>22</td>\n",
       "      <td>8</td>\n",
       "      <td>4</td>\n",
       "      <td>13</td>\n",
       "      <td>11</td>\n",
       "      <td>25</td>\n",
       "      <td>25</td>\n",
       "      <td>0</td>\n",
       "      <td>100</td>\n",
       "    </tr>\n",
       "    <tr>\n",
       "      <th>2 per(%)</th>\n",
       "      <td>51</td>\n",
       "      <td>59</td>\n",
       "      <td>51</td>\n",
       "      <td>62</td>\n",
       "      <td>65</td>\n",
       "      <td>63</td>\n",
       "      <td>64</td>\n",
       "      <td>100</td>\n",
       "      <td>0</td>\n",
       "    </tr>\n",
       "    <tr>\n",
       "      <th>3 per(%)</th>\n",
       "      <td>26</td>\n",
       "      <td>31</td>\n",
       "      <td>44</td>\n",
       "      <td>24</td>\n",
       "      <td>22</td>\n",
       "      <td>11</td>\n",
       "      <td>10</td>\n",
       "      <td>0</td>\n",
       "      <td>0</td>\n",
       "    </tr>\n",
       "    <tr>\n",
       "      <th>1 total</th>\n",
       "      <td>8969</td>\n",
       "      <td>12593</td>\n",
       "      <td>2537</td>\n",
       "      <td>707</td>\n",
       "      <td>254</td>\n",
       "      <td>53</td>\n",
       "      <td>10</td>\n",
       "      <td>0</td>\n",
       "      <td>1</td>\n",
       "    </tr>\n",
       "    <tr>\n",
       "      <th>2 total</th>\n",
       "      <td>20798</td>\n",
       "      <td>93968</td>\n",
       "      <td>28479</td>\n",
       "      <td>3374</td>\n",
       "      <td>1481</td>\n",
       "      <td>133</td>\n",
       "      <td>25</td>\n",
       "      <td>1</td>\n",
       "      <td>0</td>\n",
       "    </tr>\n",
       "    <tr>\n",
       "      <th>3 total</th>\n",
       "      <td>10674</td>\n",
       "      <td>50062</td>\n",
       "      <td>24601</td>\n",
       "      <td>1343</td>\n",
       "      <td>511</td>\n",
       "      <td>23</td>\n",
       "      <td>4</td>\n",
       "      <td>0</td>\n",
       "      <td>0</td>\n",
       "    </tr>\n",
       "  </tbody>\n",
       "</table>\n",
       "</div>"
      ],
      "text/plain": [
       "                  1       2      3     4     5    6   7    8    9\n",
       "No of Rows    40441  156623  55617  5424  2246  209  39    1    1\n",
       "total per(%)     15      60     21     2     0    0   0    0    0\n",
       "1 per(%)         22       8      4    13    11   25  25    0  100\n",
       "2 per(%)         51      59     51    62    65   63  64  100    0\n",
       "3 per(%)         26      31     44    24    22   11  10    0    0\n",
       "1 total        8969   12593   2537   707   254   53  10    0    1\n",
       "2 total       20798   93968  28479  3374  1481  133  25    1    0\n",
       "3 total       10674   50062  24601  1343   511   23   4    0    0"
      ]
     },
     "execution_count": 21,
     "metadata": {},
     "output_type": "execute_result"
    }
   ],
   "source": [
    "floor_analysis"
   ]
  },
  {
   "cell_type": "markdown",
   "metadata": {
    "id": "7a904b6d"
   },
   "source": [
    "## age column analysis"
   ]
  },
  {
   "cell_type": "code",
   "execution_count": 22,
   "metadata": {
    "id": "a9ac7c38",
    "outputId": "76906319-3908-4b2a-e03b-526789b8bf68"
   },
   "outputs": [
    {
     "data": {
      "text/plain": [
       "array([  0,   5,  10,  15,  20,  25,  30,  35,  40,  45,  50,  55,  60,\n",
       "        65,  70,  75,  80,  85,  90,  95, 100, 105, 110, 115, 120, 125,\n",
       "       130, 135, 140, 145, 150, 155, 160, 165, 170, 175, 180, 185, 190,\n",
       "       195, 200, 995], dtype=int64)"
      ]
     },
     "execution_count": 22,
     "metadata": {},
     "output_type": "execute_result"
    }
   ],
   "source": [
    "age_analysis = pd.DataFrame(index=['No of Rows', 'total per(%)', '1 per(%)', '2 per(%)', '3 per(%)', \n",
    "                          '1 total', '2 total', '3 total']) \n",
    "age = np.sort(data.age.unique())\n",
    "age"
   ]
  },
  {
   "cell_type": "code",
   "execution_count": 23,
   "metadata": {
    "id": "27818218",
    "outputId": "b4369c87-9760-472b-fc0e-018b789814c7"
   },
   "outputs": [
    {
     "name": "stdout",
     "output_type": "stream",
     "text": [
      "Age =  0 \n",
      "\n",
      "No. of Rows available: 26041 percentage: 9.992670787909486 % length: 26041\n",
      "if damage_grade is  1 : No of Rows = 7213 and per(%) = 27.698629084904574\n",
      "if damage_grade is  2 : No of Rows = 12721 and per(%) = 48.849890557198265\n",
      "if damage_grade is  3 : No of Rows = 6107 and per(%) = 23.45148035789716\n",
      "26041\n",
      "Age =  5 \n",
      "\n",
      "No. of Rows available: 33697 percentage: 12.930495278222262 % length: 33697\n",
      "if damage_grade is  1 : No of Rows = 5590 and per(%) = 16.589013858800485\n",
      "if damage_grade is  2 : No of Rows = 19030 and per(%) = 56.47387007745497\n",
      "if damage_grade is  3 : No of Rows = 9077 and per(%) = 26.937116063744547\n",
      "33697\n",
      "Age =  10 \n",
      "\n",
      "No. of Rows available: 38896 percentage: 14.9254991346925 % length: 38896\n",
      "if damage_grade is  1 : No of Rows = 4360 and per(%) = 11.209378856437679\n",
      "if damage_grade is  2 : No of Rows = 22370 and per(%) = 57.5123406005759\n",
      "if damage_grade is  3 : No of Rows = 12166 and per(%) = 31.278280542986426\n",
      "38896\n",
      "Age =  15 \n",
      "\n",
      "No. of Rows available: 36010 percentage: 13.818059025099675 % length: 36010\n",
      "if damage_grade is  1 : No of Rows = 2878 and per(%) = 7.9922243821160786\n",
      "if damage_grade is  2 : No of Rows = 20767 and per(%) = 57.670091641210774\n",
      "if damage_grade is  3 : No of Rows = 12365 and per(%) = 34.33768397667315\n",
      "36010\n",
      "Age =  20 \n",
      "\n",
      "No. of Rows available: 32182 percentage: 12.349146779943284 % length: 32182\n",
      "if damage_grade is  1 : No of Rows = 1954 and per(%) = 6.071717108942887\n",
      "if damage_grade is  2 : No of Rows = 18603 and per(%) = 57.80560561804735\n",
      "if damage_grade is  3 : No of Rows = 11625 and per(%) = 36.12267727300976\n",
      "32182\n",
      "Age =  25 \n",
      "\n",
      "No. of Rows available: 24366 percentage: 9.34992574855814 % length: 24366\n",
      "if damage_grade is  1 : No of Rows = 1131 and per(%) = 4.641713863580399\n",
      "if damage_grade is  2 : No of Rows = 14073 and per(%) = 57.756710169908885\n",
      "if damage_grade is  3 : No of Rows = 9162 and per(%) = 37.601575966510715\n",
      "24366\n",
      "Age =  30 \n",
      "\n",
      "No. of Rows available: 18028 percentage: 6.91785526532899 % length: 18028\n",
      "if damage_grade is  1 : No of Rows = 640 and per(%) = 3.550033281562014\n",
      "if damage_grade is  2 : No of Rows = 10444 and per(%) = 57.93210561349012\n",
      "if damage_grade is  3 : No of Rows = 6944 and per(%) = 38.51786110494786\n",
      "18028\n",
      "Age =  35 \n",
      "\n",
      "No. of Rows available: 10710 percentage: 4.109730968031588 % length: 10710\n",
      "if damage_grade is  1 : No of Rows = 352 and per(%) = 3.286647992530346\n",
      "if damage_grade is  2 : No of Rows = 6246 and per(%) = 58.31932773109244\n",
      "if damage_grade is  3 : No of Rows = 4112 and per(%) = 38.39402427637722\n",
      "10710\n",
      "Age =  40 \n",
      "\n",
      "No. of Rows available: 10559 percentage: 4.051787982394542 % length: 10559\n",
      "if damage_grade is  1 : No of Rows = 283 and per(%) = 2.6801780471635572\n",
      "if damage_grade is  2 : No of Rows = 6088 and per(%) = 57.65697509233829\n",
      "if damage_grade is  3 : No of Rows = 4188 and per(%) = 39.66284686049815\n",
      "10559\n",
      "Age =  45 \n",
      "\n",
      "No. of Rows available: 4711 percentage: 1.8077444061995158 % length: 4711\n",
      "if damage_grade is  1 : No of Rows = 120 and per(%) = 2.5472298874973465\n",
      "if damage_grade is  2 : No of Rows = 2802 and per(%) = 59.477817873063046\n",
      "if damage_grade is  3 : No of Rows = 1789 and per(%) = 37.97495223943961\n",
      "4711\n",
      "Age =  50 \n",
      "\n",
      "No. of Rows available: 7257 percentage: 2.784716866013561 % length: 7257\n",
      "if damage_grade is  1 : No of Rows = 170 and per(%) = 2.3425657985393413\n",
      "if damage_grade is  2 : No of Rows = 4156 and per(%) = 57.26884387487943\n",
      "if damage_grade is  3 : No of Rows = 2931 and per(%) = 40.38859032658123\n",
      "7257\n",
      "Age =  55 \n",
      "\n",
      "No. of Rows available: 2033 percentage: 0.7801198000007675 % length: 2033\n",
      "if damage_grade is  1 : No of Rows = 45 and per(%) = 2.2134776192818495\n",
      "if damage_grade is  2 : No of Rows = 1215 and per(%) = 59.76389572060994\n",
      "if damage_grade is  3 : No of Rows = 773 and per(%) = 38.022626660108216\n",
      "2033\n",
      "Age =  60 \n",
      "\n",
      "No. of Rows available: 3612 percentage: 1.3860269147086925 % length: 3612\n",
      "if damage_grade is  1 : No of Rows = 76 and per(%) = 2.104097452934662\n",
      "if damage_grade is  2 : No of Rows = 2115 and per(%) = 58.5548172757475\n",
      "if damage_grade is  3 : No of Rows = 1421 and per(%) = 39.34108527131783\n",
      "3612\n",
      "Age =  65 \n",
      "\n",
      "No. of Rows available: 1123 percentage: 0.4309269726516783 % length: 1123\n",
      "if damage_grade is  1 : No of Rows = 16 and per(%) = 1.4247551202137132\n",
      "if damage_grade is  2 : No of Rows = 695 and per(%) = 61.887800534283166\n",
      "if damage_grade is  3 : No of Rows = 412 and per(%) = 36.68744434550312\n",
      "1123\n",
      "Age =  70 \n",
      "\n",
      "No. of Rows available: 1975 percentage: 0.7578635538620343 % length: 1975\n",
      "if damage_grade is  1 : No of Rows = 32 and per(%) = 1.6202531645569622\n",
      "if damage_grade is  2 : No of Rows = 1190 and per(%) = 60.25316455696203\n",
      "if damage_grade is  3 : No of Rows = 753 and per(%) = 38.12658227848102\n",
      "1975\n",
      "Age =  75 \n",
      "\n",
      "No. of Rows available: 512 percentage: 0.19646893143157548 % length: 512\n",
      "if damage_grade is  1 : No of Rows = 8 and per(%) = 1.5625\n",
      "if damage_grade is  2 : No of Rows = 317 and per(%) = 61.9140625\n",
      "if damage_grade is  3 : No of Rows = 187 and per(%) = 36.5234375\n",
      "512\n",
      "Age =  80 \n",
      "\n",
      "No. of Rows available: 3055 percentage: 1.1722902061005138 % length: 3055\n",
      "if damage_grade is  1 : No of Rows = 28 and per(%) = 0.9165302782324058\n",
      "if damage_grade is  2 : No of Rows = 1759 and per(%) = 57.577741407528634\n",
      "if damage_grade is  3 : No of Rows = 1268 and per(%) = 41.50572831423895\n",
      "3055\n",
      "Age =  85 \n",
      "\n",
      "No. of Rows available: 847 percentage: 0.3250179393018446 % length: 847\n",
      "if damage_grade is  1 : No of Rows = 7 and per(%) = 0.8264462809917356\n",
      "if damage_grade is  2 : No of Rows = 551 and per(%) = 65.05312868949233\n",
      "if damage_grade is  3 : No of Rows = 289 and per(%) = 34.120425029515935\n",
      "847\n",
      "Age =  90 \n",
      "\n",
      "No. of Rows available: 1085 percentage: 0.41634529414699095 % length: 1085\n",
      "if damage_grade is  1 : No of Rows = 11 and per(%) = 1.0138248847926268\n",
      "if damage_grade is  2 : No of Rows = 685 and per(%) = 63.133640552995395\n",
      "if damage_grade is  3 : No of Rows = 389 and per(%) = 35.85253456221198\n",
      "1085\n",
      "Age =  95 \n",
      "\n",
      "No. of Rows available: 414 percentage: 0.15886355002475047 % length: 414\n",
      "if damage_grade is  1 : No of Rows = 11 and per(%) = 2.657004830917874\n",
      "if damage_grade is  2 : No of Rows = 244 and per(%) = 58.93719806763285\n",
      "if damage_grade is  3 : No of Rows = 159 and per(%) = 38.405797101449274\n",
      "414\n",
      "Age =  100 \n",
      "\n",
      "No. of Rows available: 1364 percentage: 0.5234055126419316 % length: 1364\n",
      "if damage_grade is  1 : No of Rows = 10 and per(%) = 0.7331378299120235\n",
      "if damage_grade is  2 : No of Rows = 911 and per(%) = 66.78885630498533\n",
      "if damage_grade is  3 : No of Rows = 443 and per(%) = 32.47800586510264\n",
      "1364\n",
      "Age =  105 \n",
      "\n",
      "No. of Rows available: 89 percentage: 0.03415182597150433 % length: 89\n",
      "if damage_grade is  1 : No of Rows = 1 and per(%) = 1.1235955056179776\n",
      "if damage_grade is  2 : No of Rows = 56 and per(%) = 62.92134831460674\n",
      "if damage_grade is  3 : No of Rows = 32 and per(%) = 35.95505617977528\n",
      "89\n",
      "Age =  110 \n",
      "\n",
      "No. of Rows available: 100 percentage: 0.03837283817022959 % length: 100\n",
      "if damage_grade is  1 : No of Rows = 1 and per(%) = 1.0\n",
      "if damage_grade is  2 : No of Rows = 64 and per(%) = 64.0\n",
      "if damage_grade is  3 : No of Rows = 35 and per(%) = 35.0\n",
      "100\n",
      "Age =  115 \n",
      "\n",
      "No. of Rows available: 21 percentage: 0.008058296015748213 % length: 21\n",
      "if damage_grade is  1 : No of Rows = 1 and per(%) = 4.761904761904762\n",
      "if damage_grade is  2 : No of Rows = 10 and per(%) = 47.61904761904761\n",
      "if damage_grade is  3 : No of Rows = 10 and per(%) = 47.61904761904761\n",
      "21\n",
      "Age =  120 \n",
      "\n",
      "No. of Rows available: 180 percentage: 0.06907110870641325 % length: 180\n",
      "if damage_grade is  1 : No of Rows = 2 and per(%) = 1.1111111111111112\n",
      "if damage_grade is  2 : No of Rows = 98 and per(%) = 54.44444444444444\n",
      "if damage_grade is  3 : No of Rows = 80 and per(%) = 44.44444444444444\n",
      "180\n",
      "Age =  125 \n",
      "\n",
      "No. of Rows available: 37 percentage: 0.014197950122984946 % length: 37\n",
      "if damage_grade is  1 : No of Rows = 0 and per(%) = 0.0\n",
      "if damage_grade is  2 : No of Rows = 26 and per(%) = 70.27027027027027\n",
      "if damage_grade is  3 : No of Rows = 11 and per(%) = 29.72972972972973\n",
      "37\n",
      "Age =  130 \n",
      "\n",
      "No. of Rows available: 9 percentage: 0.003453555435320663 % length: 9\n",
      "if damage_grade is  1 : No of Rows = 0 and per(%) = 0.0\n",
      "if damage_grade is  2 : No of Rows = 3 and per(%) = 33.33333333333333\n",
      "if damage_grade is  3 : No of Rows = 6 and per(%) = 66.66666666666666\n"
     ]
    },
    {
     "name": "stdout",
     "output_type": "stream",
     "text": [
      "9\n",
      "Age =  135 \n",
      "\n",
      "No. of Rows available: 5 percentage: 0.0019186419085114792 % length: 5\n",
      "if damage_grade is  1 : No of Rows = 1 and per(%) = 20.0\n",
      "if damage_grade is  2 : No of Rows = 4 and per(%) = 80.0\n",
      "if damage_grade is  3 : No of Rows = 0 and per(%) = 0.0\n",
      "5\n",
      "Age =  140 \n",
      "\n",
      "No. of Rows available: 9 percentage: 0.003453555435320663 % length: 9\n",
      "if damage_grade is  1 : No of Rows = 0 and per(%) = 0.0\n",
      "if damage_grade is  2 : No of Rows = 8 and per(%) = 88.88888888888889\n",
      "if damage_grade is  3 : No of Rows = 1 and per(%) = 11.11111111111111\n",
      "9\n",
      "Age =  145 \n",
      "\n",
      "No. of Rows available: 3 percentage: 0.0011511851451068875 % length: 3\n",
      "if damage_grade is  1 : No of Rows = 0 and per(%) = 0.0\n",
      "if damage_grade is  2 : No of Rows = 3 and per(%) = 100.0\n",
      "if damage_grade is  3 : No of Rows = 0 and per(%) = 0.0\n",
      "3\n",
      "Age =  150 \n",
      "\n",
      "No. of Rows available: 142 percentage: 0.054489430201726016 % length: 142\n",
      "if damage_grade is  1 : No of Rows = 1 and per(%) = 0.7042253521126761\n",
      "if damage_grade is  2 : No of Rows = 97 and per(%) = 68.30985915492957\n",
      "if damage_grade is  3 : No of Rows = 44 and per(%) = 30.985915492957744\n",
      "142\n",
      "Age =  155 \n",
      "\n",
      "No. of Rows available: 1 percentage: 0.00038372838170229587 % length: 1\n",
      "if damage_grade is  1 : No of Rows = 0 and per(%) = 0.0\n",
      "if damage_grade is  2 : No of Rows = 0 and per(%) = 0.0\n",
      "if damage_grade is  3 : No of Rows = 1 and per(%) = 100.0\n",
      "1\n",
      "Age =  160 \n",
      "\n",
      "No. of Rows available: 6 percentage: 0.002302370290213775 % length: 6\n",
      "if damage_grade is  1 : No of Rows = 0 and per(%) = 0.0\n",
      "if damage_grade is  2 : No of Rows = 3 and per(%) = 50.0\n",
      "if damage_grade is  3 : No of Rows = 3 and per(%) = 50.0\n",
      "6\n",
      "Age =  165 \n",
      "\n",
      "No. of Rows available: 2 percentage: 0.0007674567634045917 % length: 2\n",
      "if damage_grade is  1 : No of Rows = 0 and per(%) = 0.0\n",
      "if damage_grade is  2 : No of Rows = 2 and per(%) = 100.0\n",
      "if damage_grade is  3 : No of Rows = 0 and per(%) = 0.0\n",
      "2\n",
      "Age =  170 \n",
      "\n",
      "No. of Rows available: 6 percentage: 0.002302370290213775 % length: 6\n",
      "if damage_grade is  1 : No of Rows = 0 and per(%) = 0.0\n",
      "if damage_grade is  2 : No of Rows = 4 and per(%) = 66.66666666666666\n",
      "if damage_grade is  3 : No of Rows = 2 and per(%) = 33.33333333333333\n",
      "6\n",
      "Age =  175 \n",
      "\n",
      "No. of Rows available: 5 percentage: 0.0019186419085114792 % length: 5\n",
      "if damage_grade is  1 : No of Rows = 0 and per(%) = 0.0\n",
      "if damage_grade is  2 : No of Rows = 3 and per(%) = 60.0\n",
      "if damage_grade is  3 : No of Rows = 2 and per(%) = 40.0\n",
      "5\n",
      "Age =  180 \n",
      "\n",
      "No. of Rows available: 7 percentage: 0.002686098671916071 % length: 7\n",
      "if damage_grade is  1 : No of Rows = 0 and per(%) = 0.0\n",
      "if damage_grade is  2 : No of Rows = 5 and per(%) = 71.42857142857143\n",
      "if damage_grade is  3 : No of Rows = 2 and per(%) = 28.57142857142857\n",
      "7\n",
      "Age =  185 \n",
      "\n",
      "No. of Rows available: 1 percentage: 0.00038372838170229587 % length: 1\n",
      "if damage_grade is  1 : No of Rows = 0 and per(%) = 0.0\n",
      "if damage_grade is  2 : No of Rows = 1 and per(%) = 100.0\n",
      "if damage_grade is  3 : No of Rows = 0 and per(%) = 0.0\n",
      "1\n",
      "Age =  190 \n",
      "\n",
      "No. of Rows available: 3 percentage: 0.0011511851451068875 % length: 3\n",
      "if damage_grade is  1 : No of Rows = 0 and per(%) = 0.0\n",
      "if damage_grade is  2 : No of Rows = 2 and per(%) = 66.66666666666666\n",
      "if damage_grade is  3 : No of Rows = 1 and per(%) = 33.33333333333333\n",
      "3\n",
      "Age =  195 \n",
      "\n",
      "No. of Rows available: 2 percentage: 0.0007674567634045917 % length: 2\n",
      "if damage_grade is  1 : No of Rows = 0 and per(%) = 0.0\n",
      "if damage_grade is  2 : No of Rows = 2 and per(%) = 100.0\n",
      "if damage_grade is  3 : No of Rows = 0 and per(%) = 0.0\n",
      "2\n",
      "Age =  200 \n",
      "\n",
      "No. of Rows available: 106 percentage: 0.04067520846044336 % length: 106\n",
      "if damage_grade is  1 : No of Rows = 3 and per(%) = 2.8301886792452833\n",
      "if damage_grade is  2 : No of Rows = 64 and per(%) = 60.37735849056604\n",
      "if damage_grade is  3 : No of Rows = 39 and per(%) = 36.79245283018868\n",
      "106\n",
      "Age =  995 \n",
      "\n",
      "No. of Rows available: 1390 percentage: 0.5333824505661913 % length: 1390\n",
      "if damage_grade is  1 : No of Rows = 179 and per(%) = 12.877697841726619\n",
      "if damage_grade is  2 : No of Rows = 822 and per(%) = 59.13669064748201\n",
      "if damage_grade is  3 : No of Rows = 389 and per(%) = 27.98561151079137\n",
      "1390\n"
     ]
    }
   ],
   "source": [
    "per = 0\n",
    "len1 = 0\n",
    "for i in age:\n",
    "    print(\"Age = \", i , '\\n')\n",
    "    dummy = data[data.age == i]\n",
    "    print('No. of Rows available:',len(data.loc[data[\"age\"] == i, \"age\"]),'percentage:', \n",
    "          (len(data.loc[data[\"age\"] == i, \"age\"])/len(data))*100,'%', 'length:', len(dummy))\n",
    "    damage_grade = 0\n",
    "    dam_tot = [0,0,0]\n",
    "    dam_per = [0,0,0]\n",
    "    for j in damage:\n",
    "        print(\"if damage_grade is \",j,':','No of Rows =', len(dummy[dummy.damage_grade == j]), 'and per(%) =',\n",
    "             len(dummy[dummy.damage_grade == j])/len(dummy)*100)\n",
    "        dam_per[j-1]= len(dummy[dummy.damage_grade == j])/len(dummy)*100\n",
    "        \n",
    "        dam_tot[j-1] = len(dummy[dummy.damage_grade == j])\n",
    "        damage_grade +=len(dummy[dummy.damage_grade == j])\n",
    "        \n",
    "    name_age = \"Age = {}\".format(i)\n",
    "    age_analysis[i] = [ int(len(data.loc[data[\"age\"] == i, \"age\"])), \n",
    "                          int((len(data.loc[data[\"age\"] == i, \"age\"])/len(data))*100),\n",
    "                         int(dam_per[0]), int(dam_per[1]),int(dam_per[2]), int(dam_tot[0]), \n",
    "                                                                            int(dam_tot[1]), \n",
    "                                                                                int(dam_tot[2])]\n",
    "    print(damage_grade)"
   ]
  },
  {
   "cell_type": "code",
   "execution_count": 24,
   "metadata": {
    "id": "e99c7552",
    "outputId": "52a4be24-8ebf-4f7c-9b4c-9f96462c98cd"
   },
   "outputs": [
    {
     "data": {
      "text/html": [
       "<div>\n",
       "<style scoped>\n",
       "    .dataframe tbody tr th:only-of-type {\n",
       "        vertical-align: middle;\n",
       "    }\n",
       "\n",
       "    .dataframe tbody tr th {\n",
       "        vertical-align: top;\n",
       "    }\n",
       "\n",
       "    .dataframe thead th {\n",
       "        text-align: right;\n",
       "    }\n",
       "</style>\n",
       "<table border=\"1\" class=\"dataframe\">\n",
       "  <thead>\n",
       "    <tr style=\"text-align: right;\">\n",
       "      <th></th>\n",
       "      <th>0</th>\n",
       "      <th>5</th>\n",
       "      <th>10</th>\n",
       "      <th>15</th>\n",
       "      <th>20</th>\n",
       "      <th>25</th>\n",
       "      <th>30</th>\n",
       "      <th>35</th>\n",
       "      <th>40</th>\n",
       "      <th>45</th>\n",
       "      <th>...</th>\n",
       "      <th>160</th>\n",
       "      <th>165</th>\n",
       "      <th>170</th>\n",
       "      <th>175</th>\n",
       "      <th>180</th>\n",
       "      <th>185</th>\n",
       "      <th>190</th>\n",
       "      <th>195</th>\n",
       "      <th>200</th>\n",
       "      <th>995</th>\n",
       "    </tr>\n",
       "  </thead>\n",
       "  <tbody>\n",
       "    <tr>\n",
       "      <th>No of Rows</th>\n",
       "      <td>26041</td>\n",
       "      <td>33697</td>\n",
       "      <td>38896</td>\n",
       "      <td>36010</td>\n",
       "      <td>32182</td>\n",
       "      <td>24366</td>\n",
       "      <td>18028</td>\n",
       "      <td>10710</td>\n",
       "      <td>10559</td>\n",
       "      <td>4711</td>\n",
       "      <td>...</td>\n",
       "      <td>6</td>\n",
       "      <td>2</td>\n",
       "      <td>6</td>\n",
       "      <td>5</td>\n",
       "      <td>7</td>\n",
       "      <td>1</td>\n",
       "      <td>3</td>\n",
       "      <td>2</td>\n",
       "      <td>106</td>\n",
       "      <td>1390</td>\n",
       "    </tr>\n",
       "    <tr>\n",
       "      <th>total per(%)</th>\n",
       "      <td>9</td>\n",
       "      <td>12</td>\n",
       "      <td>14</td>\n",
       "      <td>13</td>\n",
       "      <td>12</td>\n",
       "      <td>9</td>\n",
       "      <td>6</td>\n",
       "      <td>4</td>\n",
       "      <td>4</td>\n",
       "      <td>1</td>\n",
       "      <td>...</td>\n",
       "      <td>0</td>\n",
       "      <td>0</td>\n",
       "      <td>0</td>\n",
       "      <td>0</td>\n",
       "      <td>0</td>\n",
       "      <td>0</td>\n",
       "      <td>0</td>\n",
       "      <td>0</td>\n",
       "      <td>0</td>\n",
       "      <td>0</td>\n",
       "    </tr>\n",
       "    <tr>\n",
       "      <th>1 per(%)</th>\n",
       "      <td>27</td>\n",
       "      <td>16</td>\n",
       "      <td>11</td>\n",
       "      <td>7</td>\n",
       "      <td>6</td>\n",
       "      <td>4</td>\n",
       "      <td>3</td>\n",
       "      <td>3</td>\n",
       "      <td>2</td>\n",
       "      <td>2</td>\n",
       "      <td>...</td>\n",
       "      <td>0</td>\n",
       "      <td>0</td>\n",
       "      <td>0</td>\n",
       "      <td>0</td>\n",
       "      <td>0</td>\n",
       "      <td>0</td>\n",
       "      <td>0</td>\n",
       "      <td>0</td>\n",
       "      <td>2</td>\n",
       "      <td>12</td>\n",
       "    </tr>\n",
       "    <tr>\n",
       "      <th>2 per(%)</th>\n",
       "      <td>48</td>\n",
       "      <td>56</td>\n",
       "      <td>57</td>\n",
       "      <td>57</td>\n",
       "      <td>57</td>\n",
       "      <td>57</td>\n",
       "      <td>57</td>\n",
       "      <td>58</td>\n",
       "      <td>57</td>\n",
       "      <td>59</td>\n",
       "      <td>...</td>\n",
       "      <td>50</td>\n",
       "      <td>100</td>\n",
       "      <td>66</td>\n",
       "      <td>60</td>\n",
       "      <td>71</td>\n",
       "      <td>100</td>\n",
       "      <td>66</td>\n",
       "      <td>100</td>\n",
       "      <td>60</td>\n",
       "      <td>59</td>\n",
       "    </tr>\n",
       "    <tr>\n",
       "      <th>3 per(%)</th>\n",
       "      <td>23</td>\n",
       "      <td>26</td>\n",
       "      <td>31</td>\n",
       "      <td>34</td>\n",
       "      <td>36</td>\n",
       "      <td>37</td>\n",
       "      <td>38</td>\n",
       "      <td>38</td>\n",
       "      <td>39</td>\n",
       "      <td>37</td>\n",
       "      <td>...</td>\n",
       "      <td>50</td>\n",
       "      <td>0</td>\n",
       "      <td>33</td>\n",
       "      <td>40</td>\n",
       "      <td>28</td>\n",
       "      <td>0</td>\n",
       "      <td>33</td>\n",
       "      <td>0</td>\n",
       "      <td>36</td>\n",
       "      <td>27</td>\n",
       "    </tr>\n",
       "    <tr>\n",
       "      <th>1 total</th>\n",
       "      <td>7213</td>\n",
       "      <td>5590</td>\n",
       "      <td>4360</td>\n",
       "      <td>2878</td>\n",
       "      <td>1954</td>\n",
       "      <td>1131</td>\n",
       "      <td>640</td>\n",
       "      <td>352</td>\n",
       "      <td>283</td>\n",
       "      <td>120</td>\n",
       "      <td>...</td>\n",
       "      <td>0</td>\n",
       "      <td>0</td>\n",
       "      <td>0</td>\n",
       "      <td>0</td>\n",
       "      <td>0</td>\n",
       "      <td>0</td>\n",
       "      <td>0</td>\n",
       "      <td>0</td>\n",
       "      <td>3</td>\n",
       "      <td>179</td>\n",
       "    </tr>\n",
       "    <tr>\n",
       "      <th>2 total</th>\n",
       "      <td>12721</td>\n",
       "      <td>19030</td>\n",
       "      <td>22370</td>\n",
       "      <td>20767</td>\n",
       "      <td>18603</td>\n",
       "      <td>14073</td>\n",
       "      <td>10444</td>\n",
       "      <td>6246</td>\n",
       "      <td>6088</td>\n",
       "      <td>2802</td>\n",
       "      <td>...</td>\n",
       "      <td>3</td>\n",
       "      <td>2</td>\n",
       "      <td>4</td>\n",
       "      <td>3</td>\n",
       "      <td>5</td>\n",
       "      <td>1</td>\n",
       "      <td>2</td>\n",
       "      <td>2</td>\n",
       "      <td>64</td>\n",
       "      <td>822</td>\n",
       "    </tr>\n",
       "    <tr>\n",
       "      <th>3 total</th>\n",
       "      <td>6107</td>\n",
       "      <td>9077</td>\n",
       "      <td>12166</td>\n",
       "      <td>12365</td>\n",
       "      <td>11625</td>\n",
       "      <td>9162</td>\n",
       "      <td>6944</td>\n",
       "      <td>4112</td>\n",
       "      <td>4188</td>\n",
       "      <td>1789</td>\n",
       "      <td>...</td>\n",
       "      <td>3</td>\n",
       "      <td>0</td>\n",
       "      <td>2</td>\n",
       "      <td>2</td>\n",
       "      <td>2</td>\n",
       "      <td>0</td>\n",
       "      <td>1</td>\n",
       "      <td>0</td>\n",
       "      <td>39</td>\n",
       "      <td>389</td>\n",
       "    </tr>\n",
       "  </tbody>\n",
       "</table>\n",
       "<p>8 rows × 42 columns</p>\n",
       "</div>"
      ],
      "text/plain": [
       "                0      5      10     15     20     25     30     35     40   \\\n",
       "No of Rows    26041  33697  38896  36010  32182  24366  18028  10710  10559   \n",
       "total per(%)      9     12     14     13     12      9      6      4      4   \n",
       "1 per(%)         27     16     11      7      6      4      3      3      2   \n",
       "2 per(%)         48     56     57     57     57     57     57     58     57   \n",
       "3 per(%)         23     26     31     34     36     37     38     38     39   \n",
       "1 total        7213   5590   4360   2878   1954   1131    640    352    283   \n",
       "2 total       12721  19030  22370  20767  18603  14073  10444   6246   6088   \n",
       "3 total        6107   9077  12166  12365  11625   9162   6944   4112   4188   \n",
       "\n",
       "               45   ...  160  165  170  175  180  185  190  195  200   995  \n",
       "No of Rows    4711  ...    6    2    6    5    7    1    3    2  106  1390  \n",
       "total per(%)     1  ...    0    0    0    0    0    0    0    0    0     0  \n",
       "1 per(%)         2  ...    0    0    0    0    0    0    0    0    2    12  \n",
       "2 per(%)        59  ...   50  100   66   60   71  100   66  100   60    59  \n",
       "3 per(%)        37  ...   50    0   33   40   28    0   33    0   36    27  \n",
       "1 total        120  ...    0    0    0    0    0    0    0    0    3   179  \n",
       "2 total       2802  ...    3    2    4    3    5    1    2    2   64   822  \n",
       "3 total       1789  ...    3    0    2    2    2    0    1    0   39   389  \n",
       "\n",
       "[8 rows x 42 columns]"
      ]
     },
     "execution_count": 24,
     "metadata": {},
     "output_type": "execute_result"
    }
   ],
   "source": [
    "age_analysis"
   ]
  },
  {
   "cell_type": "markdown",
   "metadata": {
    "id": "0f4e4cbf"
   },
   "source": [
    "## area_percentage column analysism"
   ]
  },
  {
   "cell_type": "code",
   "execution_count": 25,
   "metadata": {
    "id": "d7a3b50f",
    "outputId": "adcae4ba-48ec-471f-d274-28d9a04678e6"
   },
   "outputs": [
    {
     "data": {
      "text/plain": [
       "array([  1,   2,   3,   4,   5,   6,   7,   8,   9,  10,  11,  12,  13,\n",
       "        14,  15,  16,  17,  18,  19,  20,  21,  22,  23,  24,  25,  26,\n",
       "        27,  28,  29,  30,  31,  32,  33,  34,  35,  36,  37,  38,  39,\n",
       "        40,  41,  42,  43,  44,  45,  46,  47,  48,  49,  50,  51,  52,\n",
       "        53,  54,  55,  56,  57,  58,  59,  60,  61,  62,  63,  64,  65,\n",
       "        66,  67,  69,  70,  72,  73,  75,  76,  77,  78,  80,  82,  83,\n",
       "        84,  85,  86,  90,  96, 100], dtype=int64)"
      ]
     },
     "execution_count": 25,
     "metadata": {},
     "output_type": "execute_result"
    }
   ],
   "source": [
    "area_analysis = pd.DataFrame(index=['No of Rows', 'total per(%)', '1 per(%)', '2 per(%)', '3 per(%)', \n",
    "                          '1 total', '2 total', '3 total']) \n",
    "area = np.sort(data.area_percentage.unique())\n",
    "area"
   ]
  },
  {
   "cell_type": "code",
   "execution_count": 26,
   "metadata": {
    "id": "9d8e6cb2",
    "outputId": "d346dae1-db09-4089-a8b3-99adcdf3c64d"
   },
   "outputs": [
    {
     "name": "stdout",
     "output_type": "stream",
     "text": [
      "area =  1 \n",
      "\n",
      "No. of Rows available: 90 percentage: 0.03453555435320663 % length: 90\n",
      "if damage_grade is  1 : No of Rows = 12 and per(%) = 13.333333333333334\n",
      "if damage_grade is  2 : No of Rows = 49 and per(%) = 54.44444444444444\n",
      "if damage_grade is  3 : No of Rows = 29 and per(%) = 32.22222222222222\n",
      "90\n",
      "area =  2 \n",
      "\n",
      "No. of Rows available: 3181 percentage: 1.2206399821950031 % length: 3181\n",
      "if damage_grade is  1 : No of Rows = 408 and per(%) = 12.826155297076392\n",
      "if damage_grade is  2 : No of Rows = 1683 and per(%) = 52.90789060044011\n",
      "if damage_grade is  3 : No of Rows = 1090 and per(%) = 34.2659541024835\n",
      "3181\n",
      "area =  3 \n",
      "\n",
      "No. of Rows available: 11837 percentage: 4.542192854210076 % length: 11837\n",
      "if damage_grade is  1 : No of Rows = 1169 and per(%) = 9.875813128326435\n",
      "if damage_grade is  2 : No of Rows = 6183 and per(%) = 52.23451888147335\n",
      "if damage_grade is  3 : No of Rows = 4485 and per(%) = 37.88966799020022\n",
      "11837\n",
      "area =  4 \n",
      "\n",
      "No. of Rows available: 19236 percentage: 7.381399150425364 % length: 19236\n",
      "if damage_grade is  1 : No of Rows = 1762 and per(%) = 9.15990850488667\n",
      "if damage_grade is  2 : No of Rows = 10686 and per(%) = 55.55208983156581\n",
      "if damage_grade is  3 : No of Rows = 6788 and per(%) = 35.28800166354751\n",
      "19236\n",
      "area =  5 \n",
      "\n",
      "No. of Rows available: 32724 percentage: 12.55712756282593 % length: 32724\n",
      "if damage_grade is  1 : No of Rows = 2402 and per(%) = 7.340178462290674\n",
      "if damage_grade is  2 : No of Rows = 17890 and per(%) = 54.66935582447133\n",
      "if damage_grade is  3 : No of Rows = 12432 and per(%) = 37.990465713237995\n",
      "32724\n",
      "area =  6 \n",
      "\n",
      "No. of Rows available: 42013 percentage: 16.121580500458556 % length: 42013\n",
      "if damage_grade is  1 : No of Rows = 3176 and per(%) = 7.559564896579631\n",
      "if damage_grade is  2 : No of Rows = 23145 and per(%) = 55.090091162259306\n",
      "if damage_grade is  3 : No of Rows = 15692 and per(%) = 37.35034394116107\n",
      "42013\n",
      "area =  7 \n",
      "\n",
      "No. of Rows available: 36752 percentage: 14.102785484322776 % length: 36752\n",
      "if damage_grade is  1 : No of Rows = 2532 and per(%) = 6.889420983892033\n",
      "if damage_grade is  2 : No of Rows = 21459 and per(%) = 58.38865912059208\n",
      "if damage_grade is  3 : No of Rows = 12761 and per(%) = 34.72191989551589\n",
      "36752\n",
      "area =  8 \n",
      "\n",
      "No. of Rows available: 28445 percentage: 10.915153817521805 % length: 28445\n",
      "if damage_grade is  1 : No of Rows = 2079 and per(%) = 7.3088416241870275\n",
      "if damage_grade is  2 : No of Rows = 16850 and per(%) = 59.23712427491651\n",
      "if damage_grade is  3 : No of Rows = 9516 and per(%) = 33.454034100896465\n",
      "28445\n",
      "area =  9 \n",
      "\n",
      "No. of Rows available: 22199 percentage: 8.518386345409265 % length: 22199\n",
      "if damage_grade is  1 : No of Rows = 1745 and per(%) = 7.860714446596694\n",
      "if damage_grade is  2 : No of Rows = 13499 and per(%) = 60.809045452497855\n",
      "if damage_grade is  3 : No of Rows = 6955 and per(%) = 31.33024010090545\n",
      "22199\n",
      "area =  10 \n",
      "\n",
      "No. of Rows available: 15613 percentage: 5.991151223517945 % length: 15613\n",
      "if damage_grade is  1 : No of Rows = 1480 and per(%) = 9.479280087106897\n",
      "if damage_grade is  2 : No of Rows = 9376 and per(%) = 60.05252033561776\n",
      "if damage_grade is  3 : No of Rows = 4757 and per(%) = 30.468199577275346\n",
      "15613\n",
      "area =  11 \n",
      "\n",
      "No. of Rows available: 13907 percentage: 5.336510604333829 % length: 13907\n",
      "if damage_grade is  1 : No of Rows = 1502 and per(%) = 10.80031638743079\n",
      "if damage_grade is  2 : No of Rows = 8335 and per(%) = 59.93384626447112\n",
      "if damage_grade is  3 : No of Rows = 4070 and per(%) = 29.265837348098078\n",
      "13907\n",
      "area =  12 \n",
      "\n",
      "No. of Rows available: 7581 percentage: 2.909044861685105 % length: 7581\n",
      "if damage_grade is  1 : No of Rows = 1003 and per(%) = 13.23044453238359\n",
      "if damage_grade is  2 : No of Rows = 4471 and per(%) = 58.97638833926923\n",
      "if damage_grade is  3 : No of Rows = 2107 and per(%) = 27.793167128347186\n",
      "7581\n",
      "area =  13 \n",
      "\n",
      "No. of Rows available: 5815 percentage: 2.2313805395988506 % length: 5815\n",
      "if damage_grade is  1 : No of Rows = 847 and per(%) = 14.565778159931211\n",
      "if damage_grade is  2 : No of Rows = 3256 and per(%) = 55.993121238177125\n",
      "if damage_grade is  3 : No of Rows = 1712 and per(%) = 29.441100601891662\n",
      "5815\n",
      "area =  14 \n",
      "\n",
      "No. of Rows available: 4162 percentage: 1.5970775246449556 % length: 4162\n",
      "if damage_grade is  1 : No of Rows = 774 and per(%) = 18.596828447861604\n",
      "if damage_grade is  2 : No of Rows = 2332 and per(%) = 56.030754444978385\n",
      "if damage_grade is  3 : No of Rows = 1056 and per(%) = 25.372417107160018\n",
      "4162\n",
      "area =  15 \n",
      "\n",
      "No. of Rows available: 3489 percentage: 1.3388283237593102 % length: 3489\n",
      "if damage_grade is  1 : No of Rows = 653 and per(%) = 18.715964459730582\n",
      "if damage_grade is  2 : No of Rows = 1963 and per(%) = 56.262539409572945\n",
      "if damage_grade is  3 : No of Rows = 873 and per(%) = 25.021496130696473\n",
      "3489\n",
      "area =  16 \n",
      "\n",
      "No. of Rows available: 2606 percentage: 0.999996162716183 % length: 2606\n",
      "if damage_grade is  1 : No of Rows = 593 and per(%) = 22.755180353031466\n",
      "if damage_grade is  2 : No of Rows = 1400 and per(%) = 53.72217958557176\n",
      "if damage_grade is  3 : No of Rows = 613 and per(%) = 23.52264006139678\n",
      "2606\n",
      "area =  17 \n",
      "\n",
      "No. of Rows available: 2489 percentage: 0.9550999420570144 % length: 2489\n",
      "if damage_grade is  1 : No of Rows = 633 and per(%) = 25.431900361590998\n",
      "if damage_grade is  2 : No of Rows = 1332 and per(%) = 53.51546805946163\n",
      "if damage_grade is  3 : No of Rows = 524 and per(%) = 21.052631578947366\n",
      "2489\n",
      "area =  18 \n",
      "\n",
      "No. of Rows available: 1317 percentage: 0.5053702787019236 % length: 1317\n",
      "if damage_grade is  1 : No of Rows = 329 and per(%) = 24.98101746393318\n",
      "if damage_grade is  2 : No of Rows = 682 and per(%) = 51.784358390280936\n",
      "if damage_grade is  3 : No of Rows = 306 and per(%) = 23.234624145785876\n",
      "1317\n",
      "area =  19 \n",
      "\n",
      "No. of Rows available: 1602 percentage: 0.614732867487078 % length: 1602\n",
      "if damage_grade is  1 : No of Rows = 444 and per(%) = 27.715355805243448\n",
      "if damage_grade is  2 : No of Rows = 794 and per(%) = 49.56304619225968\n",
      "if damage_grade is  3 : No of Rows = 364 and per(%) = 22.72159800249688\n",
      "1602\n",
      "area =  20 \n",
      "\n",
      "No. of Rows available: 1053 percentage: 0.4040659859325175 % length: 1053\n",
      "if damage_grade is  1 : No of Rows = 273 and per(%) = 25.925925925925924\n",
      "if damage_grade is  2 : No of Rows = 503 and per(%) = 47.768281101614434\n",
      "if damage_grade is  3 : No of Rows = 277 and per(%) = 26.305792972459642\n",
      "1053\n",
      "area =  21 \n",
      "\n",
      "No. of Rows available: 645 percentage: 0.24750480619798082 % length: 645\n",
      "if damage_grade is  1 : No of Rows = 173 and per(%) = 26.82170542635659\n",
      "if damage_grade is  2 : No of Rows = 353 and per(%) = 54.72868217054263\n",
      "if damage_grade is  3 : No of Rows = 119 and per(%) = 18.449612403100776\n",
      "645\n",
      "area =  22 \n",
      "\n",
      "No. of Rows available: 391 percentage: 0.15003779724559768 % length: 391\n",
      "if damage_grade is  1 : No of Rows = 101 and per(%) = 25.831202046035806\n",
      "if damage_grade is  2 : No of Rows = 216 and per(%) = 55.24296675191815\n",
      "if damage_grade is  3 : No of Rows = 74 and per(%) = 18.925831202046037\n",
      "391\n",
      "area =  23 \n",
      "\n",
      "No. of Rows available: 865 percentage: 0.33192505017248586 % length: 865\n",
      "if damage_grade is  1 : No of Rows = 242 and per(%) = 27.976878612716767\n",
      "if damage_grade is  2 : No of Rows = 461 and per(%) = 53.294797687861276\n",
      "if damage_grade is  3 : No of Rows = 162 and per(%) = 18.728323699421964\n",
      "865\n",
      "area =  24 \n",
      "\n",
      "No. of Rows available: 405 percentage: 0.1554099945894298 % length: 405\n",
      "if damage_grade is  1 : No of Rows = 130 and per(%) = 32.098765432098766\n",
      "if damage_grade is  2 : No of Rows = 210 and per(%) = 51.85185185185185\n",
      "if damage_grade is  3 : No of Rows = 65 and per(%) = 16.049382716049383\n",
      "405\n",
      "area =  25 \n",
      "\n",
      "No. of Rows available: 260 percentage: 0.09976937924259692 % length: 260\n",
      "if damage_grade is  1 : No of Rows = 76 and per(%) = 29.230769230769234\n",
      "if damage_grade is  2 : No of Rows = 126 and per(%) = 48.46153846153846\n",
      "if damage_grade is  3 : No of Rows = 58 and per(%) = 22.30769230769231\n",
      "260\n",
      "area =  26 \n",
      "\n",
      "No. of Rows available: 247 percentage: 0.09478091028046708 % length: 247\n",
      "if damage_grade is  1 : No of Rows = 60 and per(%) = 24.291497975708502\n",
      "if damage_grade is  2 : No of Rows = 125 and per(%) = 50.607287449392715\n",
      "if damage_grade is  3 : No of Rows = 62 and per(%) = 25.101214574898783\n",
      "247\n",
      "area =  27 \n",
      "\n",
      "No. of Rows available: 240 percentage: 0.092094811608551 % length: 240\n",
      "if damage_grade is  1 : No of Rows = 83 and per(%) = 34.583333333333336\n",
      "if damage_grade is  2 : No of Rows = 122 and per(%) = 50.83333333333333\n",
      "if damage_grade is  3 : No of Rows = 35 and per(%) = 14.583333333333334\n",
      "240\n",
      "area =  28 \n",
      "\n",
      "No. of Rows available: 167 percentage: 0.06408263974428341 % length: 167\n",
      "if damage_grade is  1 : No of Rows = 54 and per(%) = 32.33532934131736\n",
      "if damage_grade is  2 : No of Rows = 97 and per(%) = 58.08383233532935\n",
      "if damage_grade is  3 : No of Rows = 16 and per(%) = 9.580838323353294\n",
      "167\n",
      "area =  29 \n",
      "\n",
      "No. of Rows available: 197 percentage: 0.07559449119535228 % length: 197\n",
      "if damage_grade is  1 : No of Rows = 52 and per(%) = 26.39593908629442\n",
      "if damage_grade is  2 : No of Rows = 114 and per(%) = 57.868020304568525\n",
      "if damage_grade is  3 : No of Rows = 31 and per(%) = 15.736040609137056\n",
      "197\n",
      "area =  30 \n",
      "\n",
      "No. of Rows available: 81 percentage: 0.031081998917885965 % length: 81\n",
      "if damage_grade is  1 : No of Rows = 20 and per(%) = 24.691358024691358\n",
      "if damage_grade is  2 : No of Rows = 50 and per(%) = 61.72839506172839\n",
      "if damage_grade is  3 : No of Rows = 11 and per(%) = 13.580246913580247\n",
      "81\n",
      "area =  31 \n",
      "\n",
      "No. of Rows available: 144 percentage: 0.055256886965130605 % length: 144\n",
      "if damage_grade is  1 : No of Rows = 46 and per(%) = 31.944444444444443\n",
      "if damage_grade is  2 : No of Rows = 74 and per(%) = 51.388888888888886\n",
      "if damage_grade is  3 : No of Rows = 24 and per(%) = 16.666666666666664\n",
      "144\n",
      "area =  32 \n",
      "\n",
      "No. of Rows available: 61 percentage: 0.023407431283840048 % length: 61\n",
      "if damage_grade is  1 : No of Rows = 14 and per(%) = 22.950819672131146\n",
      "if damage_grade is  2 : No of Rows = 32 and per(%) = 52.459016393442624\n",
      "if damage_grade is  3 : No of Rows = 15 and per(%) = 24.59016393442623\n",
      "61\n",
      "area =  33 \n",
      "\n",
      "No. of Rows available: 78 percentage: 0.029930813772779074 % length: 78\n",
      "if damage_grade is  1 : No of Rows = 19 and per(%) = 24.358974358974358\n",
      "if damage_grade is  2 : No of Rows = 41 and per(%) = 52.56410256410257\n",
      "if damage_grade is  3 : No of Rows = 18 and per(%) = 23.076923076923077\n",
      "78\n",
      "area =  34 \n",
      "\n",
      "No. of Rows available: 99 percentage: 0.03798910978852729 % length: 99\n",
      "if damage_grade is  1 : No of Rows = 44 and per(%) = 44.44444444444444\n"
     ]
    },
    {
     "name": "stdout",
     "output_type": "stream",
     "text": [
      "if damage_grade is  2 : No of Rows = 41 and per(%) = 41.41414141414141\n",
      "if damage_grade is  3 : No of Rows = 14 and per(%) = 14.14141414141414\n",
      "99\n",
      "area =  35 \n",
      "\n",
      "No. of Rows available: 104 percentage: 0.039907751697038765 % length: 104\n",
      "if damage_grade is  1 : No of Rows = 43 and per(%) = 41.34615384615385\n",
      "if damage_grade is  2 : No of Rows = 56 and per(%) = 53.84615384615385\n",
      "if damage_grade is  3 : No of Rows = 5 and per(%) = 4.807692307692308\n",
      "104\n",
      "area =  36 \n",
      "\n",
      "No. of Rows available: 30 percentage: 0.011511851451068875 % length: 30\n",
      "if damage_grade is  1 : No of Rows = 10 and per(%) = 33.33333333333333\n",
      "if damage_grade is  2 : No of Rows = 15 and per(%) = 50.0\n",
      "if damage_grade is  3 : No of Rows = 5 and per(%) = 16.666666666666664\n",
      "30\n",
      "area =  37 \n",
      "\n",
      "No. of Rows available: 14 percentage: 0.005372197343832142 % length: 14\n",
      "if damage_grade is  1 : No of Rows = 7 and per(%) = 50.0\n",
      "if damage_grade is  2 : No of Rows = 7 and per(%) = 50.0\n",
      "if damage_grade is  3 : No of Rows = 0 and per(%) = 0.0\n",
      "14\n",
      "area =  38 \n",
      "\n",
      "No. of Rows available: 70 percentage: 0.02686098671916071 % length: 70\n",
      "if damage_grade is  1 : No of Rows = 20 and per(%) = 28.57142857142857\n",
      "if damage_grade is  2 : No of Rows = 39 and per(%) = 55.714285714285715\n",
      "if damage_grade is  3 : No of Rows = 11 and per(%) = 15.714285714285714\n",
      "70\n",
      "area =  39 \n",
      "\n",
      "No. of Rows available: 36 percentage: 0.013814221741282651 % length: 36\n",
      "if damage_grade is  1 : No of Rows = 7 and per(%) = 19.444444444444446\n",
      "if damage_grade is  2 : No of Rows = 20 and per(%) = 55.55555555555556\n",
      "if damage_grade is  3 : No of Rows = 9 and per(%) = 25.0\n",
      "36\n",
      "area =  40 \n",
      "\n",
      "No. of Rows available: 30 percentage: 0.011511851451068875 % length: 30\n",
      "if damage_grade is  1 : No of Rows = 10 and per(%) = 33.33333333333333\n",
      "if damage_grade is  2 : No of Rows = 13 and per(%) = 43.333333333333336\n",
      "if damage_grade is  3 : No of Rows = 7 and per(%) = 23.333333333333332\n",
      "30\n",
      "area =  41 \n",
      "\n",
      "No. of Rows available: 12 percentage: 0.00460474058042755 % length: 12\n",
      "if damage_grade is  1 : No of Rows = 5 and per(%) = 41.66666666666667\n",
      "if damage_grade is  2 : No of Rows = 3 and per(%) = 25.0\n",
      "if damage_grade is  3 : No of Rows = 4 and per(%) = 33.33333333333333\n",
      "12\n",
      "area =  42 \n",
      "\n",
      "No. of Rows available: 34 percentage: 0.013046764977878059 % length: 34\n",
      "if damage_grade is  1 : No of Rows = 13 and per(%) = 38.23529411764706\n",
      "if damage_grade is  2 : No of Rows = 18 and per(%) = 52.94117647058824\n",
      "if damage_grade is  3 : No of Rows = 3 and per(%) = 8.823529411764707\n",
      "34\n",
      "area =  43 \n",
      "\n",
      "No. of Rows available: 16 percentage: 0.006139654107236734 % length: 16\n",
      "if damage_grade is  1 : No of Rows = 8 and per(%) = 50.0\n",
      "if damage_grade is  2 : No of Rows = 3 and per(%) = 18.75\n",
      "if damage_grade is  3 : No of Rows = 5 and per(%) = 31.25\n",
      "16\n",
      "area =  44 \n",
      "\n",
      "No. of Rows available: 11 percentage: 0.004221012198725255 % length: 11\n",
      "if damage_grade is  1 : No of Rows = 3 and per(%) = 27.27272727272727\n",
      "if damage_grade is  2 : No of Rows = 4 and per(%) = 36.36363636363637\n",
      "if damage_grade is  3 : No of Rows = 4 and per(%) = 36.36363636363637\n",
      "11\n",
      "area =  45 \n",
      "\n",
      "No. of Rows available: 16 percentage: 0.006139654107236734 % length: 16\n",
      "if damage_grade is  1 : No of Rows = 5 and per(%) = 31.25\n",
      "if damage_grade is  2 : No of Rows = 10 and per(%) = 62.5\n",
      "if damage_grade is  3 : No of Rows = 1 and per(%) = 6.25\n",
      "16\n",
      "area =  46 \n",
      "\n",
      "No. of Rows available: 20 percentage: 0.007674567634045917 % length: 20\n",
      "if damage_grade is  1 : No of Rows = 5 and per(%) = 25.0\n",
      "if damage_grade is  2 : No of Rows = 8 and per(%) = 40.0\n",
      "if damage_grade is  3 : No of Rows = 7 and per(%) = 35.0\n",
      "20\n",
      "area =  47 \n",
      "\n",
      "No. of Rows available: 9 percentage: 0.003453555435320663 % length: 9\n",
      "if damage_grade is  1 : No of Rows = 4 and per(%) = 44.44444444444444\n",
      "if damage_grade is  2 : No of Rows = 5 and per(%) = 55.55555555555556\n",
      "if damage_grade is  3 : No of Rows = 0 and per(%) = 0.0\n",
      "9\n",
      "area =  48 \n",
      "\n",
      "No. of Rows available: 17 percentage: 0.006523382488939029 % length: 17\n",
      "if damage_grade is  1 : No of Rows = 6 and per(%) = 35.294117647058826\n",
      "if damage_grade is  2 : No of Rows = 5 and per(%) = 29.411764705882355\n",
      "if damage_grade is  3 : No of Rows = 6 and per(%) = 35.294117647058826\n",
      "17\n",
      "area =  49 \n",
      "\n",
      "No. of Rows available: 12 percentage: 0.00460474058042755 % length: 12\n",
      "if damage_grade is  1 : No of Rows = 3 and per(%) = 25.0\n",
      "if damage_grade is  2 : No of Rows = 6 and per(%) = 50.0\n",
      "if damage_grade is  3 : No of Rows = 3 and per(%) = 25.0\n",
      "12\n",
      "area =  50 \n",
      "\n",
      "No. of Rows available: 10 percentage: 0.0038372838170229583 % length: 10\n",
      "if damage_grade is  1 : No of Rows = 2 and per(%) = 20.0\n",
      "if damage_grade is  2 : No of Rows = 5 and per(%) = 50.0\n",
      "if damage_grade is  3 : No of Rows = 3 and per(%) = 30.0\n",
      "10\n",
      "area =  51 \n",
      "\n",
      "No. of Rows available: 3 percentage: 0.0011511851451068875 % length: 3\n",
      "if damage_grade is  1 : No of Rows = 2 and per(%) = 66.66666666666666\n",
      "if damage_grade is  2 : No of Rows = 0 and per(%) = 0.0\n",
      "if damage_grade is  3 : No of Rows = 1 and per(%) = 33.33333333333333\n",
      "3\n",
      "area =  52 \n",
      "\n",
      "No. of Rows available: 23 percentage: 0.008825752779152804 % length: 23\n",
      "if damage_grade is  1 : No of Rows = 10 and per(%) = 43.47826086956522\n",
      "if damage_grade is  2 : No of Rows = 11 and per(%) = 47.82608695652174\n",
      "if damage_grade is  3 : No of Rows = 2 and per(%) = 8.695652173913043\n",
      "23\n",
      "area =  53 \n",
      "\n",
      "No. of Rows available: 7 percentage: 0.002686098671916071 % length: 7\n",
      "if damage_grade is  1 : No of Rows = 1 and per(%) = 14.285714285714285\n",
      "if damage_grade is  2 : No of Rows = 2 and per(%) = 28.57142857142857\n",
      "if damage_grade is  3 : No of Rows = 4 and per(%) = 57.14285714285714\n",
      "7\n",
      "area =  54 \n",
      "\n",
      "No. of Rows available: 8 percentage: 0.003069827053618367 % length: 8\n",
      "if damage_grade is  1 : No of Rows = 2 and per(%) = 25.0\n",
      "if damage_grade is  2 : No of Rows = 5 and per(%) = 62.5\n",
      "if damage_grade is  3 : No of Rows = 1 and per(%) = 12.5\n",
      "8\n",
      "area =  55 \n",
      "\n",
      "No. of Rows available: 1 percentage: 0.00038372838170229587 % length: 1\n",
      "if damage_grade is  1 : No of Rows = 0 and per(%) = 0.0\n",
      "if damage_grade is  2 : No of Rows = 1 and per(%) = 100.0\n",
      "if damage_grade is  3 : No of Rows = 0 and per(%) = 0.0\n",
      "1\n",
      "area =  56 \n",
      "\n",
      "No. of Rows available: 7 percentage: 0.002686098671916071 % length: 7\n",
      "if damage_grade is  1 : No of Rows = 2 and per(%) = 28.57142857142857\n",
      "if damage_grade is  2 : No of Rows = 4 and per(%) = 57.14285714285714\n",
      "if damage_grade is  3 : No of Rows = 1 and per(%) = 14.285714285714285\n",
      "7\n",
      "area =  57 \n",
      "\n",
      "No. of Rows available: 15 percentage: 0.0057559257255344375 % length: 15\n",
      "if damage_grade is  1 : No of Rows = 4 and per(%) = 26.666666666666668\n",
      "if damage_grade is  2 : No of Rows = 9 and per(%) = 60.0\n",
      "if damage_grade is  3 : No of Rows = 2 and per(%) = 13.333333333333334\n",
      "15\n",
      "area =  58 \n",
      "\n",
      "No. of Rows available: 9 percentage: 0.003453555435320663 % length: 9\n",
      "if damage_grade is  1 : No of Rows = 0 and per(%) = 0.0\n",
      "if damage_grade is  2 : No of Rows = 7 and per(%) = 77.77777777777779\n",
      "if damage_grade is  3 : No of Rows = 2 and per(%) = 22.22222222222222\n",
      "9\n",
      "area =  59 \n",
      "\n",
      "No. of Rows available: 4 percentage: 0.0015349135268091835 % length: 4\n",
      "if damage_grade is  1 : No of Rows = 2 and per(%) = 50.0\n",
      "if damage_grade is  2 : No of Rows = 1 and per(%) = 25.0\n",
      "if damage_grade is  3 : No of Rows = 1 and per(%) = 25.0\n",
      "4\n",
      "area =  60 \n",
      "\n",
      "No. of Rows available: 2 percentage: 0.0007674567634045917 % length: 2\n",
      "if damage_grade is  1 : No of Rows = 0 and per(%) = 0.0\n",
      "if damage_grade is  2 : No of Rows = 2 and per(%) = 100.0\n",
      "if damage_grade is  3 : No of Rows = 0 and per(%) = 0.0\n",
      "2\n",
      "area =  61 \n",
      "\n",
      "No. of Rows available: 4 percentage: 0.0015349135268091835 % length: 4\n",
      "if damage_grade is  1 : No of Rows = 1 and per(%) = 25.0\n",
      "if damage_grade is  2 : No of Rows = 2 and per(%) = 50.0\n",
      "if damage_grade is  3 : No of Rows = 1 and per(%) = 25.0\n",
      "4\n",
      "area =  62 \n",
      "\n",
      "No. of Rows available: 3 percentage: 0.0011511851451068875 % length: 3\n",
      "if damage_grade is  1 : No of Rows = 1 and per(%) = 33.33333333333333\n",
      "if damage_grade is  2 : No of Rows = 2 and per(%) = 66.66666666666666\n",
      "if damage_grade is  3 : No of Rows = 0 and per(%) = 0.0\n",
      "3\n",
      "area =  63 \n",
      "\n",
      "No. of Rows available: 4 percentage: 0.0015349135268091835 % length: 4\n",
      "if damage_grade is  1 : No of Rows = 1 and per(%) = 25.0\n",
      "if damage_grade is  2 : No of Rows = 2 and per(%) = 50.0\n",
      "if damage_grade is  3 : No of Rows = 1 and per(%) = 25.0\n",
      "4\n",
      "area =  64 \n",
      "\n",
      "No. of Rows available: 4 percentage: 0.0015349135268091835 % length: 4\n",
      "if damage_grade is  1 : No of Rows = 1 and per(%) = 25.0\n",
      "if damage_grade is  2 : No of Rows = 3 and per(%) = 75.0\n",
      "if damage_grade is  3 : No of Rows = 0 and per(%) = 0.0\n",
      "4\n",
      "area =  65 \n",
      "\n",
      "No. of Rows available: 5 percentage: 0.0019186419085114792 % length: 5\n",
      "if damage_grade is  1 : No of Rows = 0 and per(%) = 0.0\n",
      "if damage_grade is  2 : No of Rows = 3 and per(%) = 60.0\n",
      "if damage_grade is  3 : No of Rows = 2 and per(%) = 40.0\n",
      "5\n",
      "area =  66 \n",
      "\n",
      "No. of Rows available: 10 percentage: 0.0038372838170229583 % length: 10\n",
      "if damage_grade is  1 : No of Rows = 1 and per(%) = 10.0\n",
      "if damage_grade is  2 : No of Rows = 6 and per(%) = 60.0\n",
      "if damage_grade is  3 : No of Rows = 3 and per(%) = 30.0\n",
      "10\n",
      "area =  67 \n",
      "\n",
      "No. of Rows available: 8 percentage: 0.003069827053618367 % length: 8\n",
      "if damage_grade is  1 : No of Rows = 2 and per(%) = 25.0\n",
      "if damage_grade is  2 : No of Rows = 4 and per(%) = 50.0\n",
      "if damage_grade is  3 : No of Rows = 2 and per(%) = 25.0\n",
      "8\n",
      "area =  69 \n",
      "\n",
      "No. of Rows available: 2 percentage: 0.0007674567634045917 % length: 2\n",
      "if damage_grade is  1 : No of Rows = 1 and per(%) = 50.0\n",
      "if damage_grade is  2 : No of Rows = 1 and per(%) = 50.0\n",
      "if damage_grade is  3 : No of Rows = 0 and per(%) = 0.0\n"
     ]
    },
    {
     "name": "stdout",
     "output_type": "stream",
     "text": [
      "2\n",
      "area =  70 \n",
      "\n",
      "No. of Rows available: 7 percentage: 0.002686098671916071 % length: 7\n",
      "if damage_grade is  1 : No of Rows = 3 and per(%) = 42.857142857142854\n",
      "if damage_grade is  2 : No of Rows = 3 and per(%) = 42.857142857142854\n",
      "if damage_grade is  3 : No of Rows = 1 and per(%) = 14.285714285714285\n",
      "7\n",
      "area =  72 \n",
      "\n",
      "No. of Rows available: 6 percentage: 0.002302370290213775 % length: 6\n",
      "if damage_grade is  1 : No of Rows = 1 and per(%) = 16.666666666666664\n",
      "if damage_grade is  2 : No of Rows = 5 and per(%) = 83.33333333333334\n",
      "if damage_grade is  3 : No of Rows = 0 and per(%) = 0.0\n",
      "6\n",
      "area =  73 \n",
      "\n",
      "No. of Rows available: 3 percentage: 0.0011511851451068875 % length: 3\n",
      "if damage_grade is  1 : No of Rows = 1 and per(%) = 33.33333333333333\n",
      "if damage_grade is  2 : No of Rows = 1 and per(%) = 33.33333333333333\n",
      "if damage_grade is  3 : No of Rows = 1 and per(%) = 33.33333333333333\n",
      "3\n",
      "area =  75 \n",
      "\n",
      "No. of Rows available: 1 percentage: 0.00038372838170229587 % length: 1\n",
      "if damage_grade is  1 : No of Rows = 0 and per(%) = 0.0\n",
      "if damage_grade is  2 : No of Rows = 1 and per(%) = 100.0\n",
      "if damage_grade is  3 : No of Rows = 0 and per(%) = 0.0\n",
      "1\n",
      "area =  76 \n",
      "\n",
      "No. of Rows available: 2 percentage: 0.0007674567634045917 % length: 2\n",
      "if damage_grade is  1 : No of Rows = 0 and per(%) = 0.0\n",
      "if damage_grade is  2 : No of Rows = 2 and per(%) = 100.0\n",
      "if damage_grade is  3 : No of Rows = 0 and per(%) = 0.0\n",
      "2\n",
      "area =  77 \n",
      "\n",
      "No. of Rows available: 8 percentage: 0.003069827053618367 % length: 8\n",
      "if damage_grade is  1 : No of Rows = 2 and per(%) = 25.0\n",
      "if damage_grade is  2 : No of Rows = 4 and per(%) = 50.0\n",
      "if damage_grade is  3 : No of Rows = 2 and per(%) = 25.0\n",
      "8\n",
      "area =  78 \n",
      "\n",
      "No. of Rows available: 1 percentage: 0.00038372838170229587 % length: 1\n",
      "if damage_grade is  1 : No of Rows = 0 and per(%) = 0.0\n",
      "if damage_grade is  2 : No of Rows = 0 and per(%) = 0.0\n",
      "if damage_grade is  3 : No of Rows = 1 and per(%) = 100.0\n",
      "1\n",
      "area =  80 \n",
      "\n",
      "No. of Rows available: 1 percentage: 0.00038372838170229587 % length: 1\n",
      "if damage_grade is  1 : No of Rows = 0 and per(%) = 0.0\n",
      "if damage_grade is  2 : No of Rows = 1 and per(%) = 100.0\n",
      "if damage_grade is  3 : No of Rows = 0 and per(%) = 0.0\n",
      "1\n",
      "area =  82 \n",
      "\n",
      "No. of Rows available: 1 percentage: 0.00038372838170229587 % length: 1\n",
      "if damage_grade is  1 : No of Rows = 0 and per(%) = 0.0\n",
      "if damage_grade is  2 : No of Rows = 1 and per(%) = 100.0\n",
      "if damage_grade is  3 : No of Rows = 0 and per(%) = 0.0\n",
      "1\n",
      "area =  83 \n",
      "\n",
      "No. of Rows available: 3 percentage: 0.0011511851451068875 % length: 3\n",
      "if damage_grade is  1 : No of Rows = 0 and per(%) = 0.0\n",
      "if damage_grade is  2 : No of Rows = 1 and per(%) = 33.33333333333333\n",
      "if damage_grade is  3 : No of Rows = 2 and per(%) = 66.66666666666666\n",
      "3\n",
      "area =  84 \n",
      "\n",
      "No. of Rows available: 3 percentage: 0.0011511851451068875 % length: 3\n",
      "if damage_grade is  1 : No of Rows = 1 and per(%) = 33.33333333333333\n",
      "if damage_grade is  2 : No of Rows = 0 and per(%) = 0.0\n",
      "if damage_grade is  3 : No of Rows = 2 and per(%) = 66.66666666666666\n",
      "3\n",
      "area =  85 \n",
      "\n",
      "No. of Rows available: 4 percentage: 0.0015349135268091835 % length: 4\n",
      "if damage_grade is  1 : No of Rows = 0 and per(%) = 0.0\n",
      "if damage_grade is  2 : No of Rows = 3 and per(%) = 75.0\n",
      "if damage_grade is  3 : No of Rows = 1 and per(%) = 25.0\n",
      "4\n",
      "area =  86 \n",
      "\n",
      "No. of Rows available: 5 percentage: 0.0019186419085114792 % length: 5\n",
      "if damage_grade is  1 : No of Rows = 3 and per(%) = 60.0\n",
      "if damage_grade is  2 : No of Rows = 2 and per(%) = 40.0\n",
      "if damage_grade is  3 : No of Rows = 0 and per(%) = 0.0\n",
      "5\n",
      "area =  90 \n",
      "\n",
      "No. of Rows available: 1 percentage: 0.00038372838170229587 % length: 1\n",
      "if damage_grade is  1 : No of Rows = 0 and per(%) = 0.0\n",
      "if damage_grade is  2 : No of Rows = 1 and per(%) = 100.0\n",
      "if damage_grade is  3 : No of Rows = 0 and per(%) = 0.0\n",
      "1\n",
      "area =  96 \n",
      "\n",
      "No. of Rows available: 3 percentage: 0.0011511851451068875 % length: 3\n",
      "if damage_grade is  1 : No of Rows = 1 and per(%) = 33.33333333333333\n",
      "if damage_grade is  2 : No of Rows = 1 and per(%) = 33.33333333333333\n",
      "if damage_grade is  3 : No of Rows = 1 and per(%) = 33.33333333333333\n",
      "3\n",
      "area =  100 \n",
      "\n",
      "No. of Rows available: 1 percentage: 0.00038372838170229587 % length: 1\n",
      "if damage_grade is  1 : No of Rows = 0 and per(%) = 0.0\n",
      "if damage_grade is  2 : No of Rows = 1 and per(%) = 100.0\n",
      "if damage_grade is  3 : No of Rows = 0 and per(%) = 0.0\n",
      "1\n"
     ]
    }
   ],
   "source": [
    "per = 0\n",
    "len1 = 0\n",
    "for i in area:\n",
    "    print(\"area = \", i , '\\n')\n",
    "    dummy = data[data.area_percentage == i]\n",
    "    print('No. of Rows available:',len(data.loc[data[\"area_percentage\"] == i, \"area_percentage\"]),'percentage:', \n",
    "          (len(data.loc[data[\"area_percentage\"] == i, \"area_percentage\"])/len(data))*100,'%', 'length:', len(dummy))\n",
    "    damage_grade = 0\n",
    "    dam_tot = [0,0,0]\n",
    "    dam_per = [0,0,0]\n",
    "    for j in damage:\n",
    "        print(\"if damage_grade is \",j,':','No of Rows =', len(dummy[dummy.damage_grade == j]), 'and per(%) =',\n",
    "             len(dummy[dummy.damage_grade == j])/len(dummy)*100)\n",
    "        dam_per[j-1]= len(dummy[dummy.damage_grade == j])/len(dummy)*100\n",
    "        \n",
    "        dam_tot[j-1] = len(dummy[dummy.damage_grade == j])\n",
    "        damage_grade +=len(dummy[dummy.damage_grade == j])\n",
    "        \n",
    "    name_age = \"Age = {}\".format(i)\n",
    "    area_analysis[i] = [ int(len(data.loc[data[\"area_percentage\"] == i, \"area_percentage\"])), \n",
    "                          int((len(data.loc[data[\"area_percentage\"] == i, \"area_percentage\"])/len(data))*100),\n",
    "                         int(dam_per[0]), int(dam_per[1]),int(dam_per[2]), int(dam_tot[0]), \n",
    "                                                                            int(dam_tot[1]), \n",
    "                                                                                int(dam_tot[2])]\n",
    "    print(damage_grade)"
   ]
  },
  {
   "cell_type": "code",
   "execution_count": 27,
   "metadata": {
    "id": "94d418b7",
    "outputId": "9d3ed20c-d575-4897-b46b-19776699dc06"
   },
   "outputs": [
    {
     "data": {
      "text/html": [
       "<div>\n",
       "<style scoped>\n",
       "    .dataframe tbody tr th:only-of-type {\n",
       "        vertical-align: middle;\n",
       "    }\n",
       "\n",
       "    .dataframe tbody tr th {\n",
       "        vertical-align: top;\n",
       "    }\n",
       "\n",
       "    .dataframe thead th {\n",
       "        text-align: right;\n",
       "    }\n",
       "</style>\n",
       "<table border=\"1\" class=\"dataframe\">\n",
       "  <thead>\n",
       "    <tr style=\"text-align: right;\">\n",
       "      <th></th>\n",
       "      <th>1</th>\n",
       "      <th>2</th>\n",
       "      <th>3</th>\n",
       "      <th>4</th>\n",
       "      <th>5</th>\n",
       "      <th>6</th>\n",
       "      <th>7</th>\n",
       "      <th>8</th>\n",
       "      <th>9</th>\n",
       "      <th>10</th>\n",
       "      <th>...</th>\n",
       "      <th>78</th>\n",
       "      <th>80</th>\n",
       "      <th>82</th>\n",
       "      <th>83</th>\n",
       "      <th>84</th>\n",
       "      <th>85</th>\n",
       "      <th>86</th>\n",
       "      <th>90</th>\n",
       "      <th>96</th>\n",
       "      <th>100</th>\n",
       "    </tr>\n",
       "  </thead>\n",
       "  <tbody>\n",
       "    <tr>\n",
       "      <th>No of Rows</th>\n",
       "      <td>90</td>\n",
       "      <td>3181</td>\n",
       "      <td>11837</td>\n",
       "      <td>19236</td>\n",
       "      <td>32724</td>\n",
       "      <td>42013</td>\n",
       "      <td>36752</td>\n",
       "      <td>28445</td>\n",
       "      <td>22199</td>\n",
       "      <td>15613</td>\n",
       "      <td>...</td>\n",
       "      <td>1</td>\n",
       "      <td>1</td>\n",
       "      <td>1</td>\n",
       "      <td>3</td>\n",
       "      <td>3</td>\n",
       "      <td>4</td>\n",
       "      <td>5</td>\n",
       "      <td>1</td>\n",
       "      <td>3</td>\n",
       "      <td>1</td>\n",
       "    </tr>\n",
       "    <tr>\n",
       "      <th>total per(%)</th>\n",
       "      <td>0</td>\n",
       "      <td>1</td>\n",
       "      <td>4</td>\n",
       "      <td>7</td>\n",
       "      <td>12</td>\n",
       "      <td>16</td>\n",
       "      <td>14</td>\n",
       "      <td>10</td>\n",
       "      <td>8</td>\n",
       "      <td>5</td>\n",
       "      <td>...</td>\n",
       "      <td>0</td>\n",
       "      <td>0</td>\n",
       "      <td>0</td>\n",
       "      <td>0</td>\n",
       "      <td>0</td>\n",
       "      <td>0</td>\n",
       "      <td>0</td>\n",
       "      <td>0</td>\n",
       "      <td>0</td>\n",
       "      <td>0</td>\n",
       "    </tr>\n",
       "    <tr>\n",
       "      <th>1 per(%)</th>\n",
       "      <td>13</td>\n",
       "      <td>12</td>\n",
       "      <td>9</td>\n",
       "      <td>9</td>\n",
       "      <td>7</td>\n",
       "      <td>7</td>\n",
       "      <td>6</td>\n",
       "      <td>7</td>\n",
       "      <td>7</td>\n",
       "      <td>9</td>\n",
       "      <td>...</td>\n",
       "      <td>0</td>\n",
       "      <td>0</td>\n",
       "      <td>0</td>\n",
       "      <td>0</td>\n",
       "      <td>33</td>\n",
       "      <td>0</td>\n",
       "      <td>60</td>\n",
       "      <td>0</td>\n",
       "      <td>33</td>\n",
       "      <td>0</td>\n",
       "    </tr>\n",
       "    <tr>\n",
       "      <th>2 per(%)</th>\n",
       "      <td>54</td>\n",
       "      <td>52</td>\n",
       "      <td>52</td>\n",
       "      <td>55</td>\n",
       "      <td>54</td>\n",
       "      <td>55</td>\n",
       "      <td>58</td>\n",
       "      <td>59</td>\n",
       "      <td>60</td>\n",
       "      <td>60</td>\n",
       "      <td>...</td>\n",
       "      <td>0</td>\n",
       "      <td>100</td>\n",
       "      <td>100</td>\n",
       "      <td>33</td>\n",
       "      <td>0</td>\n",
       "      <td>75</td>\n",
       "      <td>40</td>\n",
       "      <td>100</td>\n",
       "      <td>33</td>\n",
       "      <td>100</td>\n",
       "    </tr>\n",
       "    <tr>\n",
       "      <th>3 per(%)</th>\n",
       "      <td>32</td>\n",
       "      <td>34</td>\n",
       "      <td>37</td>\n",
       "      <td>35</td>\n",
       "      <td>37</td>\n",
       "      <td>37</td>\n",
       "      <td>34</td>\n",
       "      <td>33</td>\n",
       "      <td>31</td>\n",
       "      <td>30</td>\n",
       "      <td>...</td>\n",
       "      <td>100</td>\n",
       "      <td>0</td>\n",
       "      <td>0</td>\n",
       "      <td>66</td>\n",
       "      <td>66</td>\n",
       "      <td>25</td>\n",
       "      <td>0</td>\n",
       "      <td>0</td>\n",
       "      <td>33</td>\n",
       "      <td>0</td>\n",
       "    </tr>\n",
       "    <tr>\n",
       "      <th>1 total</th>\n",
       "      <td>12</td>\n",
       "      <td>408</td>\n",
       "      <td>1169</td>\n",
       "      <td>1762</td>\n",
       "      <td>2402</td>\n",
       "      <td>3176</td>\n",
       "      <td>2532</td>\n",
       "      <td>2079</td>\n",
       "      <td>1745</td>\n",
       "      <td>1480</td>\n",
       "      <td>...</td>\n",
       "      <td>0</td>\n",
       "      <td>0</td>\n",
       "      <td>0</td>\n",
       "      <td>0</td>\n",
       "      <td>1</td>\n",
       "      <td>0</td>\n",
       "      <td>3</td>\n",
       "      <td>0</td>\n",
       "      <td>1</td>\n",
       "      <td>0</td>\n",
       "    </tr>\n",
       "    <tr>\n",
       "      <th>2 total</th>\n",
       "      <td>49</td>\n",
       "      <td>1683</td>\n",
       "      <td>6183</td>\n",
       "      <td>10686</td>\n",
       "      <td>17890</td>\n",
       "      <td>23145</td>\n",
       "      <td>21459</td>\n",
       "      <td>16850</td>\n",
       "      <td>13499</td>\n",
       "      <td>9376</td>\n",
       "      <td>...</td>\n",
       "      <td>0</td>\n",
       "      <td>1</td>\n",
       "      <td>1</td>\n",
       "      <td>1</td>\n",
       "      <td>0</td>\n",
       "      <td>3</td>\n",
       "      <td>2</td>\n",
       "      <td>1</td>\n",
       "      <td>1</td>\n",
       "      <td>1</td>\n",
       "    </tr>\n",
       "    <tr>\n",
       "      <th>3 total</th>\n",
       "      <td>29</td>\n",
       "      <td>1090</td>\n",
       "      <td>4485</td>\n",
       "      <td>6788</td>\n",
       "      <td>12432</td>\n",
       "      <td>15692</td>\n",
       "      <td>12761</td>\n",
       "      <td>9516</td>\n",
       "      <td>6955</td>\n",
       "      <td>4757</td>\n",
       "      <td>...</td>\n",
       "      <td>1</td>\n",
       "      <td>0</td>\n",
       "      <td>0</td>\n",
       "      <td>2</td>\n",
       "      <td>2</td>\n",
       "      <td>1</td>\n",
       "      <td>0</td>\n",
       "      <td>0</td>\n",
       "      <td>1</td>\n",
       "      <td>0</td>\n",
       "    </tr>\n",
       "  </tbody>\n",
       "</table>\n",
       "<p>8 rows × 84 columns</p>\n",
       "</div>"
      ],
      "text/plain": [
       "              1     2      3      4      5      6      7      8      9    \\\n",
       "No of Rows     90  3181  11837  19236  32724  42013  36752  28445  22199   \n",
       "total per(%)    0     1      4      7     12     16     14     10      8   \n",
       "1 per(%)       13    12      9      9      7      7      6      7      7   \n",
       "2 per(%)       54    52     52     55     54     55     58     59     60   \n",
       "3 per(%)       32    34     37     35     37     37     34     33     31   \n",
       "1 total        12   408   1169   1762   2402   3176   2532   2079   1745   \n",
       "2 total        49  1683   6183  10686  17890  23145  21459  16850  13499   \n",
       "3 total        29  1090   4485   6788  12432  15692  12761   9516   6955   \n",
       "\n",
       "                10   ...  78   80   82   83   84   85   86   90   96   100  \n",
       "No of Rows    15613  ...    1    1    1    3    3    4    5    1    3    1  \n",
       "total per(%)      5  ...    0    0    0    0    0    0    0    0    0    0  \n",
       "1 per(%)          9  ...    0    0    0    0   33    0   60    0   33    0  \n",
       "2 per(%)         60  ...    0  100  100   33    0   75   40  100   33  100  \n",
       "3 per(%)         30  ...  100    0    0   66   66   25    0    0   33    0  \n",
       "1 total        1480  ...    0    0    0    0    1    0    3    0    1    0  \n",
       "2 total        9376  ...    0    1    1    1    0    3    2    1    1    1  \n",
       "3 total        4757  ...    1    0    0    2    2    1    0    0    1    0  \n",
       "\n",
       "[8 rows x 84 columns]"
      ]
     },
     "execution_count": 27,
     "metadata": {},
     "output_type": "execute_result"
    }
   ],
   "source": [
    "area_analysis"
   ]
  },
  {
   "cell_type": "code",
   "execution_count": 28,
   "metadata": {
    "id": "c017366e"
   },
   "outputs": [],
   "source": [
    "area_sort = list(area_analysis.iloc[1, :])"
   ]
  },
  {
   "cell_type": "code",
   "execution_count": null,
   "metadata": {
    "id": "16f4215d"
   },
   "outputs": [],
   "source": []
  },
  {
   "cell_type": "markdown",
   "metadata": {
    "id": "3eee0269"
   },
   "source": [
    "## height_percentage column analysis"
   ]
  },
  {
   "cell_type": "code",
   "execution_count": 29,
   "metadata": {
    "id": "15406e80",
    "outputId": "58c26db4-d137-41f8-9d3d-8813996d46af"
   },
   "outputs": [
    {
     "data": {
      "text/plain": [
       "array([ 2,  3,  4,  5,  6,  7,  8,  9, 10, 11, 12, 13, 14, 15, 16, 17, 18,\n",
       "       19, 20, 21, 23, 24, 25, 26, 28, 31, 32], dtype=int64)"
      ]
     },
     "execution_count": 29,
     "metadata": {},
     "output_type": "execute_result"
    }
   ],
   "source": [
    "height_analysis = pd.DataFrame(index=['No of Rows', 'total per(%)', '1 per(%)', '2 per(%)', '3 per(%)', \n",
    "                          '1 total', '2 total', '3 total']) \n",
    "height = np.sort(data.height_percentage.unique())\n",
    "height"
   ]
  },
  {
   "cell_type": "code",
   "execution_count": 30,
   "metadata": {
    "id": "43b127a8",
    "outputId": "abb568d6-5591-44c6-bc22-a81422eb5299"
   },
   "outputs": [
    {
     "name": "stdout",
     "output_type": "stream",
     "text": [
      "height =  2 \n",
      "\n",
      "No. of Rows available: 9305 percentage: 3.570592591739863 % length: 9305\n",
      "if damage_grade is  1 : No of Rows = 1502 and per(%) = 16.141859215475552\n",
      "if damage_grade is  2 : No of Rows = 4841 and per(%) = 52.025792584631915\n",
      "if damage_grade is  3 : No of Rows = 2962 and per(%) = 31.83234819989253\n",
      "9305\n",
      "height =  3 \n",
      "\n",
      "No. of Rows available: 25957 percentage: 9.960437603846493 % length: 25957\n",
      "if damage_grade is  1 : No of Rows = 6122 and per(%) = 23.585160072427477\n",
      "if damage_grade is  2 : No of Rows = 13636 and per(%) = 52.53303540470778\n",
      "if damage_grade is  3 : No of Rows = 6199 and per(%) = 23.881804522864737\n",
      "25957\n",
      "height =  4 \n",
      "\n",
      "No. of Rows available: 37763 percentage: 14.4907348782238 % length: 37763\n",
      "if damage_grade is  1 : No of Rows = 3652 and per(%) = 9.670841829303816\n",
      "if damage_grade is  2 : No of Rows = 22087 and per(%) = 58.4884675475995\n",
      "if damage_grade is  3 : No of Rows = 12024 and per(%) = 31.840690623096684\n",
      "37763\n",
      "height =  5 \n",
      "\n",
      "No. of Rows available: 78513 percentage: 30.127666432592353 % length: 78513\n",
      "if damage_grade is  1 : No of Rows = 5280 and per(%) = 6.725000955255818\n",
      "if damage_grade is  2 : No of Rows = 46753 and per(%) = 59.54810031459758\n",
      "if damage_grade is  3 : No of Rows = 26480 and per(%) = 33.7268987301466\n",
      "78513\n",
      "height =  6 \n",
      "\n",
      "No. of Rows available: 46477 percentage: 17.834543996377604 % length: 46477\n",
      "if damage_grade is  1 : No of Rows = 3269 and per(%) = 7.033586505153086\n",
      "if damage_grade is  2 : No of Rows = 25840 and per(%) = 55.59739225853648\n",
      "if damage_grade is  3 : No of Rows = 17368 and per(%) = 37.36902123631044\n",
      "46477\n",
      "height =  7 \n",
      "\n",
      "No. of Rows available: 35465 percentage: 13.608927057071924 % length: 35465\n",
      "if damage_grade is  1 : No of Rows = 2265 and per(%) = 6.386578316650218\n",
      "if damage_grade is  2 : No of Rows = 19615 and per(%) = 55.308050190328494\n",
      "if damage_grade is  3 : No of Rows = 13585 and per(%) = 38.30537149302129\n",
      "35465\n",
      "height =  8 \n",
      "\n",
      "No. of Rows available: 13902 percentage: 5.334591962425317 % length: 13902\n",
      "if damage_grade is  1 : No of Rows = 574 and per(%) = 4.128902316213495\n",
      "if damage_grade is  2 : No of Rows = 8077 and per(%) = 58.099554021004174\n",
      "if damage_grade is  3 : No of Rows = 5251 and per(%) = 37.77154366278233\n",
      "13902\n",
      "height =  9 \n",
      "\n",
      "No. of Rows available: 5376 percentage: 2.0629237800315425 % length: 5376\n",
      "if damage_grade is  1 : No of Rows = 846 and per(%) = 15.736607142857142\n",
      "if damage_grade is  2 : No of Rows = 3076 and per(%) = 57.217261904761905\n",
      "if damage_grade is  3 : No of Rows = 1454 and per(%) = 27.046130952380953\n",
      "5376\n",
      "height =  10 \n",
      "\n",
      "No. of Rows available: 4492 percentage: 1.7237078906067131 % length: 4492\n",
      "if damage_grade is  1 : No of Rows = 707 and per(%) = 15.739091718610865\n",
      "if damage_grade is  2 : No of Rows = 2562 and per(%) = 57.034728406055216\n",
      "if damage_grade is  3 : No of Rows = 1223 and per(%) = 27.226179875333926\n",
      "4492\n",
      "height =  11 \n",
      "\n",
      "No. of Rows available: 917 percentage: 0.3518789260210053 % length: 917\n",
      "if damage_grade is  1 : No of Rows = 62 and per(%) = 6.761177753544166\n",
      "if damage_grade is  2 : No of Rows = 594 and per(%) = 64.77644492911668\n",
      "if damage_grade is  3 : No of Rows = 261 and per(%) = 28.46237731733915\n",
      "917\n",
      "height =  12 \n",
      "\n",
      "No. of Rows available: 907 percentage: 0.3480416422039823 % length: 907\n",
      "if damage_grade is  1 : No of Rows = 319 and per(%) = 35.170893054024255\n",
      "if damage_grade is  2 : No of Rows = 456 and per(%) = 50.27563395810364\n",
      "if damage_grade is  3 : No of Rows = 132 and per(%) = 14.553472987872107\n",
      "907\n",
      "height =  13 \n",
      "\n",
      "No. of Rows available: 759 percentage: 0.29124984171204255 % length: 759\n",
      "if damage_grade is  1 : No of Rows = 244 and per(%) = 32.14756258234519\n",
      "if damage_grade is  2 : No of Rows = 399 and per(%) = 52.569169960474305\n",
      "if damage_grade is  3 : No of Rows = 116 and per(%) = 15.2832674571805\n",
      "759\n",
      "height =  14 \n",
      "\n",
      "No. of Rows available: 66 percentage: 0.025326073192351528 % length: 66\n",
      "if damage_grade is  1 : No of Rows = 20 and per(%) = 30.303030303030305\n",
      "if damage_grade is  2 : No of Rows = 42 and per(%) = 63.63636363636363\n",
      "if damage_grade is  3 : No of Rows = 4 and per(%) = 6.0606060606060606\n",
      "66\n",
      "height =  15 \n",
      "\n",
      "No. of Rows available: 292 percentage: 0.11204868745707038 % length: 292\n",
      "if damage_grade is  1 : No of Rows = 128 and per(%) = 43.83561643835616\n",
      "if damage_grade is  2 : No of Rows = 127 and per(%) = 43.49315068493151\n",
      "if damage_grade is  3 : No of Rows = 37 and per(%) = 12.67123287671233\n",
      "292\n",
      "height =  16 \n",
      "\n",
      "No. of Rows available: 179 percentage: 0.06868738032471094 % length: 179\n",
      "if damage_grade is  1 : No of Rows = 79 and per(%) = 44.134078212290504\n",
      "if damage_grade is  2 : No of Rows = 78 and per(%) = 43.575418994413404\n",
      "if damage_grade is  3 : No of Rows = 22 and per(%) = 12.290502793296088\n",
      "179\n",
      "height =  17 \n",
      "\n",
      "No. of Rows available: 9 percentage: 0.003453555435320663 % length: 9\n",
      "if damage_grade is  1 : No of Rows = 2 and per(%) = 22.22222222222222\n",
      "if damage_grade is  2 : No of Rows = 6 and per(%) = 66.66666666666666\n",
      "if damage_grade is  3 : No of Rows = 1 and per(%) = 11.11111111111111\n",
      "9\n",
      "height =  18 \n",
      "\n",
      "No. of Rows available: 71 percentage: 0.027244715100863008 % length: 71\n",
      "if damage_grade is  1 : No of Rows = 27 and per(%) = 38.028169014084504\n",
      "if damage_grade is  2 : No of Rows = 36 and per(%) = 50.70422535211267\n",
      "if damage_grade is  3 : No of Rows = 8 and per(%) = 11.267605633802818\n",
      "71\n",
      "height =  19 \n",
      "\n",
      "No. of Rows available: 7 percentage: 0.002686098671916071 % length: 7\n",
      "if damage_grade is  1 : No of Rows = 2 and per(%) = 28.57142857142857\n",
      "if damage_grade is  2 : No of Rows = 5 and per(%) = 71.42857142857143\n",
      "if damage_grade is  3 : No of Rows = 0 and per(%) = 0.0\n",
      "7\n",
      "height =  20 \n",
      "\n",
      "No. of Rows available: 33 percentage: 0.012663036596175764 % length: 33\n",
      "if damage_grade is  1 : No of Rows = 16 and per(%) = 48.484848484848484\n",
      "if damage_grade is  2 : No of Rows = 12 and per(%) = 36.36363636363637\n",
      "if damage_grade is  3 : No of Rows = 5 and per(%) = 15.151515151515152\n",
      "33\n",
      "height =  21 \n",
      "\n",
      "No. of Rows available: 13 percentage: 0.004988468962129846 % length: 13\n",
      "if damage_grade is  1 : No of Rows = 5 and per(%) = 38.46153846153847\n",
      "if damage_grade is  2 : No of Rows = 6 and per(%) = 46.15384615384615\n",
      "if damage_grade is  3 : No of Rows = 2 and per(%) = 15.384615384615385\n",
      "13\n",
      "height =  23 \n",
      "\n",
      "No. of Rows available: 11 percentage: 0.004221012198725255 % length: 11\n",
      "if damage_grade is  1 : No of Rows = 2 and per(%) = 18.181818181818183\n",
      "if damage_grade is  2 : No of Rows = 5 and per(%) = 45.45454545454545\n",
      "if damage_grade is  3 : No of Rows = 4 and per(%) = 36.36363636363637\n",
      "11\n",
      "height =  24 \n",
      "\n",
      "No. of Rows available: 4 percentage: 0.0015349135268091835 % length: 4\n",
      "if damage_grade is  1 : No of Rows = 1 and per(%) = 25.0\n",
      "if damage_grade is  2 : No of Rows = 1 and per(%) = 25.0\n",
      "if damage_grade is  3 : No of Rows = 2 and per(%) = 50.0\n",
      "4\n",
      "height =  25 \n",
      "\n",
      "No. of Rows available: 3 percentage: 0.0011511851451068875 % length: 3\n",
      "if damage_grade is  1 : No of Rows = 0 and per(%) = 0.0\n",
      "if damage_grade is  2 : No of Rows = 1 and per(%) = 33.33333333333333\n",
      "if damage_grade is  3 : No of Rows = 2 and per(%) = 66.66666666666666\n",
      "3\n",
      "height =  26 \n",
      "\n",
      "No. of Rows available: 2 percentage: 0.0007674567634045917 % length: 2\n",
      "if damage_grade is  1 : No of Rows = 0 and per(%) = 0.0\n",
      "if damage_grade is  2 : No of Rows = 1 and per(%) = 50.0\n",
      "if damage_grade is  3 : No of Rows = 1 and per(%) = 50.0\n",
      "2\n",
      "height =  28 \n",
      "\n",
      "No. of Rows available: 2 percentage: 0.0007674567634045917 % length: 2\n",
      "if damage_grade is  1 : No of Rows = 0 and per(%) = 0.0\n",
      "if damage_grade is  2 : No of Rows = 1 and per(%) = 50.0\n",
      "if damage_grade is  3 : No of Rows = 1 and per(%) = 50.0\n",
      "2\n",
      "height =  31 \n",
      "\n",
      "No. of Rows available: 1 percentage: 0.00038372838170229587 % length: 1\n",
      "if damage_grade is  1 : No of Rows = 0 and per(%) = 0.0\n",
      "if damage_grade is  2 : No of Rows = 1 and per(%) = 100.0\n",
      "if damage_grade is  3 : No of Rows = 0 and per(%) = 0.0\n",
      "1\n",
      "height =  32 \n",
      "\n",
      "No. of Rows available: 75 percentage: 0.02877962862767219 % length: 75\n",
      "if damage_grade is  1 : No of Rows = 0 and per(%) = 0.0\n",
      "if damage_grade is  2 : No of Rows = 1 and per(%) = 1.3333333333333335\n",
      "if damage_grade is  3 : No of Rows = 74 and per(%) = 98.66666666666667\n",
      "75\n"
     ]
    }
   ],
   "source": [
    "per = 0\n",
    "len1 = 0\n",
    "for i in height:\n",
    "    print(\"height = \", i , '\\n')\n",
    "    dummy = data[data.height_percentage == i]\n",
    "    print('No. of Rows available:',len(data.loc[data[\"height_percentage\"] == i, \"height_percentage\"]),'percentage:', \n",
    "          (len(data.loc[data[\"height_percentage\"] == i, \"height_percentage\"])/len(data))*100,'%', 'length:', len(dummy))\n",
    "    damage_grade = 0\n",
    "    dam_tot = [0,0,0]\n",
    "    dam_per = [0,0,0]\n",
    "    for j in damage:\n",
    "        print(\"if damage_grade is \",j,':','No of Rows =', len(dummy[dummy.damage_grade == j]), 'and per(%) =',\n",
    "             len(dummy[dummy.damage_grade == j])/len(dummy)*100)\n",
    "        dam_per[j-1]= len(dummy[dummy.damage_grade == j])/len(dummy)*100\n",
    "        \n",
    "        dam_tot[j-1] = len(dummy[dummy.damage_grade == j])\n",
    "        damage_grade +=len(dummy[dummy.damage_grade == j])\n",
    "        \n",
    "    name_age = \"Age = {}\".format(i)\n",
    "    height_analysis[i] = [ int(len(data.loc[data[\"height_percentage\"] == i, \"height_percentage\"])), \n",
    "                          int((len(data.loc[data[\"height_percentage\"] == i, \"height_percentage\"])/len(data))*100),\n",
    "                         int(dam_per[0]), int(dam_per[1]),int(dam_per[2]), int(dam_tot[0]), \n",
    "                                                                            int(dam_tot[1]), \n",
    "                                                                                int(dam_tot[2])]\n",
    "    print(damage_grade)"
   ]
  },
  {
   "cell_type": "markdown",
   "metadata": {
    "id": "cf131521"
   },
   "source": [
    "## land_surface_condition column analysis"
   ]
  },
  {
   "cell_type": "code",
   "execution_count": 31,
   "metadata": {
    "id": "a05eb3f8",
    "outputId": "d496ea2d-5d79-4cd0-e1c0-2850790bfaeb"
   },
   "outputs": [
    {
     "data": {
      "text/plain": [
       "array(['n', 'o', 't'], dtype=object)"
      ]
     },
     "execution_count": 31,
     "metadata": {},
     "output_type": "execute_result"
    }
   ],
   "source": [
    "land_analysis = pd.DataFrame(index=['No of Rows', 'total per(%)', '1 per(%)', '2 per(%)', '3 per(%)', \n",
    "                          '1 total', '2 total', '3 total']) \n",
    "land = np.sort(data.land_surface_condition.unique())\n",
    "land"
   ]
  },
  {
   "cell_type": "code",
   "execution_count": 32,
   "metadata": {
    "id": "59961924",
    "outputId": "96dafa76-6c70-452b-cc3a-dce6a8ea3deb"
   },
   "outputs": [
    {
     "name": "stdout",
     "output_type": "stream",
     "text": [
      "height =  n \n",
      "\n",
      "No. of Rows available: 35528 percentage: 13.633101945119167 % length: 35528\n",
      "if damage_grade is  1 : No of Rows = 2556 and per(%) = 7.194325602341816\n",
      "if damage_grade is  2 : No of Rows = 21484 and per(%) = 60.470614726412975\n",
      "if damage_grade is  3 : No of Rows = 11488 and per(%) = 32.33505967124521\n",
      "35528\n",
      "height =  o \n",
      "\n",
      "No. of Rows available: 8316 percentage: 3.191085222236292 % length: 8316\n",
      "if damage_grade is  1 : No of Rows = 602 and per(%) = 7.23905723905724\n",
      "if damage_grade is  2 : No of Rows = 4708 and per(%) = 56.613756613756614\n",
      "if damage_grade is  3 : No of Rows = 3006 and per(%) = 36.14718614718615\n",
      "8316\n",
      "height =  t \n",
      "\n",
      "No. of Rows available: 216757 percentage: 83.17581283264454 % length: 216757\n",
      "if damage_grade is  1 : No of Rows = 21966 and per(%) = 10.133928777386657\n",
      "if damage_grade is  2 : No of Rows = 122067 and per(%) = 56.31513630470988\n",
      "if damage_grade is  3 : No of Rows = 72724 and per(%) = 33.550934917903454\n",
      "216757\n"
     ]
    }
   ],
   "source": [
    "per = 0\n",
    "len1 = 0\n",
    "for i in land:\n",
    "    print(\"height = \", i , '\\n')\n",
    "    dummy = data[data.land_surface_condition == i]\n",
    "    print('No. of Rows available:',len(data.loc[data[\"land_surface_condition\"] == i, \"land_surface_condition\"]),'percentage:', \n",
    "          (len(data.loc[data[\"land_surface_condition\"] == i, \"land_surface_condition\"])/len(data))*100,'%', 'length:', len(dummy))\n",
    "    damage_grade = 0\n",
    "    dam_tot = [0,0,0]\n",
    "    dam_per = [0,0,0]\n",
    "    for j in damage:\n",
    "        print(\"if damage_grade is \",j,':','No of Rows =', len(dummy[dummy.damage_grade == j]), 'and per(%) =',\n",
    "             len(dummy[dummy.damage_grade == j])/len(dummy)*100)\n",
    "        dam_per[j-1]= len(dummy[dummy.damage_grade == j])/len(dummy)*100\n",
    "        \n",
    "        dam_tot[j-1] = len(dummy[dummy.damage_grade == j])\n",
    "        damage_grade +=len(dummy[dummy.damage_grade == j])\n",
    "        \n",
    "    name_age = \"Age = {}\".format(i)\n",
    "    land_analysis[i] = [ int(len(data.loc[data[\"land_surface_condition\"] == i, \"land_surface_condition\"])), \n",
    "                          int((len(data.loc[data[\"land_surface_condition\"] == i, \"land_surface_condition\"])/len(data))*100),\n",
    "                         int(dam_per[0]), int(dam_per[1]),int(dam_per[2]), int(dam_tot[0]), \n",
    "                                                                            int(dam_tot[1]), \n",
    "                                                                                int(dam_tot[2])]\n",
    "    print(damage_grade)"
   ]
  },
  {
   "cell_type": "code",
   "execution_count": null,
   "metadata": {
    "id": "fa981bac"
   },
   "outputs": [],
   "source": []
  },
  {
   "cell_type": "code",
   "execution_count": null,
   "metadata": {
    "id": "d7fccd58"
   },
   "outputs": [],
   "source": []
  },
  {
   "cell_type": "code",
   "execution_count": null,
   "metadata": {
    "id": "91f520ed"
   },
   "outputs": [],
   "source": []
  },
  {
   "cell_type": "markdown",
   "metadata": {
    "id": "8bd99cfd"
   },
   "source": [
    "# EDA"
   ]
  },
  {
   "cell_type": "code",
   "execution_count": 33,
   "metadata": {
    "id": "41448097",
    "outputId": "d2189e2c-e313-4cd4-92f6-fbe2b0bbc58b"
   },
   "outputs": [
    {
     "data": {
      "image/png": "[encoded data removed]",
      "text/plain": [
       "<Figure size 1080x720 with 2 Axes>"
      ]
     },
     "metadata": {
      "needs_background": "light"
     },
     "output_type": "display_data"
    }
   ],
   "source": [
    "plt.figure(figsize=(15,10))\n",
    "sns.heatmap(data.corr());"
   ]
  },
  {
   "cell_type": "code",
   "execution_count": 34,
   "metadata": {
    "id": "6ca5a944",
    "outputId": "54daab95-28e5-43ca-d763-5dbdee3c4fc5"
   },
   "outputs": [
    {
     "data": {
      "image/png": "[encoded data removed]",
      "text/plain": [
       "<Figure size 648x432 with 1 Axes>"
      ]
     },
     "metadata": {
      "needs_background": "light"
     },
     "output_type": "display_data"
    }
   ],
   "source": [
    "# A histogram of damage_grade, the label of this dataset\n",
    "fig = plt.figure(figsize=(9, 6))\n",
    "ax = fig.gca()\n",
    "plt.hist(data['damage_grade'],)\n",
    "ax.set_title('Histogram of damage_grade')\n",
    "ax.set_xlabel('damage_grade')\n",
    "ax.set_ylabel('Number of buildings')\n",
    "plt.show()"
   ]
  },
  {
   "cell_type": "code",
   "execution_count": 35,
   "metadata": {
    "id": "9976e1bf",
    "outputId": "3a3ef3bc-c104-43b8-b8e5-0712898b618d"
   },
   "outputs": [
    {
     "data": {
      "text/html": [
       "<div>\n",
       "<style scoped>\n",
       "    .dataframe tbody tr th:only-of-type {\n",
       "        vertical-align: middle;\n",
       "    }\n",
       "\n",
       "    .dataframe tbody tr th {\n",
       "        vertical-align: top;\n",
       "    }\n",
       "\n",
       "    .dataframe thead th {\n",
       "        text-align: right;\n",
       "    }\n",
       "</style>\n",
       "<table border=\"1\" class=\"dataframe\">\n",
       "  <thead>\n",
       "    <tr style=\"text-align: right;\">\n",
       "      <th></th>\n",
       "      <th>count_floors_pre_eq</th>\n",
       "      <th>age</th>\n",
       "      <th>area_percentage</th>\n",
       "      <th>height_percentage</th>\n",
       "      <th>count_floors_pre_eq</th>\n",
       "      <th>damage_grade</th>\n",
       "    </tr>\n",
       "  </thead>\n",
       "  <tbody>\n",
       "    <tr>\n",
       "      <th>count_floors_pre_eq</th>\n",
       "      <td>1.000000</td>\n",
       "      <td>0.086668</td>\n",
       "      <td>0.101071</td>\n",
       "      <td>0.772734</td>\n",
       "      <td>1.000000</td>\n",
       "      <td>0.122308</td>\n",
       "    </tr>\n",
       "    <tr>\n",
       "      <th>age</th>\n",
       "      <td>0.086668</td>\n",
       "      <td>1.000000</td>\n",
       "      <td>-0.004323</td>\n",
       "      <td>0.061074</td>\n",
       "      <td>0.086668</td>\n",
       "      <td>0.029273</td>\n",
       "    </tr>\n",
       "    <tr>\n",
       "      <th>area_percentage</th>\n",
       "      <td>0.101071</td>\n",
       "      <td>-0.004323</td>\n",
       "      <td>1.000000</td>\n",
       "      <td>0.196645</td>\n",
       "      <td>0.101071</td>\n",
       "      <td>-0.125221</td>\n",
       "    </tr>\n",
       "    <tr>\n",
       "      <th>height_percentage</th>\n",
       "      <td>0.772734</td>\n",
       "      <td>0.061074</td>\n",
       "      <td>0.196645</td>\n",
       "      <td>1.000000</td>\n",
       "      <td>0.772734</td>\n",
       "      <td>0.048130</td>\n",
       "    </tr>\n",
       "    <tr>\n",
       "      <th>count_floors_pre_eq</th>\n",
       "      <td>1.000000</td>\n",
       "      <td>0.086668</td>\n",
       "      <td>0.101071</td>\n",
       "      <td>0.772734</td>\n",
       "      <td>1.000000</td>\n",
       "      <td>0.122308</td>\n",
       "    </tr>\n",
       "    <tr>\n",
       "      <th>damage_grade</th>\n",
       "      <td>0.122308</td>\n",
       "      <td>0.029273</td>\n",
       "      <td>-0.125221</td>\n",
       "      <td>0.048130</td>\n",
       "      <td>0.122308</td>\n",
       "      <td>1.000000</td>\n",
       "    </tr>\n",
       "  </tbody>\n",
       "</table>\n",
       "</div>"
      ],
      "text/plain": [
       "                     count_floors_pre_eq       age  area_percentage  \\\n",
       "count_floors_pre_eq             1.000000  0.086668         0.101071   \n",
       "age                             0.086668  1.000000        -0.004323   \n",
       "area_percentage                 0.101071 -0.004323         1.000000   \n",
       "height_percentage               0.772734  0.061074         0.196645   \n",
       "count_floors_pre_eq             1.000000  0.086668         0.101071   \n",
       "damage_grade                    0.122308  0.029273        -0.125221   \n",
       "\n",
       "                     height_percentage  count_floors_pre_eq  damage_grade  \n",
       "count_floors_pre_eq           0.772734             1.000000      0.122308  \n",
       "age                           0.061074             0.086668      0.029273  \n",
       "area_percentage               0.196645             0.101071     -0.125221  \n",
       "height_percentage             1.000000             0.772734      0.048130  \n",
       "count_floors_pre_eq           0.772734             1.000000      0.122308  \n",
       "damage_grade                  0.048130             0.122308      1.000000  "
      ]
     },
     "execution_count": 35,
     "metadata": {},
     "output_type": "execute_result"
    }
   ],
   "source": [
    "numeric_cols = ['count_floors_pre_eq', 'age', 'area_percentage', 'height_percentage', 'count_floors_pre_eq', 'damage_grade']\n",
    "data[numeric_cols].corr()"
   ]
  },
  {
   "cell_type": "code",
   "execution_count": 36,
   "metadata": {
    "id": "6e4f3e71",
    "outputId": "393146ef-e42f-419b-b2f1-aa4f874ec657"
   },
   "outputs": [
    {
     "data": {
      "image/png": "[encoded data removed]",
      "text/plain": [
       "<Figure size 648x432 with 1 Axes>"
      ]
     },
     "metadata": {
      "needs_background": "light"
     },
     "output_type": "display_data"
    },
    {
     "data": {
      "image/png": "[encoded data removed]",
      "text/plain": [
       "<Figure size 648x432 with 1 Axes>"
      ]
     },
     "metadata": {
      "needs_background": "light"
     },
     "output_type": "display_data"
    },
    {
     "data": {
      "image/png": "[encoded data removed]",
      "text/plain": [
       "<Figure size 648x432 with 1 Axes>"
      ]
     },
     "metadata": {
      "needs_background": "light"
     },
     "output_type": "display_data"
    },
    {
     "data": {
      "image/png": "[encoded data removed]",
      "text/plain": [
       "<Figure size 648x432 with 1 Axes>"
      ]
     },
     "metadata": {
      "needs_background": "light"
     },
     "output_type": "display_data"
    },
    {
     "data": {
      "image/png": "[encoded data removed]",
      "text/plain": [
       "<Figure size 648x432 with 1 Axes>"
      ]
     },
     "metadata": {
      "needs_background": "light"
     },
     "output_type": "display_data"
    },
    {
     "data": {
      "image/png": "[encoded data removed]",
      "text/plain": [
       "<Figure size 648x432 with 1 Axes>"
      ]
     },
     "metadata": {
      "needs_background": "light"
     },
     "output_type": "display_data"
    },
    {
     "data": {
      "image/png": "[encoded data removed]",
      "text/plain": [
       "<Figure size 648x432 with 1 Axes>"
      ]
     },
     "metadata": {
      "needs_background": "light"
     },
     "output_type": "display_data"
    },
    {
     "data": {
      "image/png": "[encoded data removed]",
      "text/plain": [
       "<Figure size 648x432 with 1 Axes>"
      ]
     },
     "metadata": {
      "needs_background": "light"
     },
     "output_type": "display_data"
    }
   ],
   "source": [
    "# Histograms of categorical features\n",
    "cols = data.columns.tolist()[:-1]\n",
    "for col in cols:\n",
    "    if(data[col].dtype not in [np.int64, np.int32, np.float64]):\n",
    "        fig = plt.figure(figsize=(9, 6))\n",
    "        ax = fig.gca()\n",
    "        plt.hist(data[col])\n",
    "        ax.set_title('Number of building types by ' + str(col))\n",
    "        ax.set_xlabel(col)\n",
    "        ax.set_ylabel('Number of buildings')\n",
    "        plt.show()"
   ]
  },
  {
   "cell_type": "code",
   "execution_count": 38,
   "metadata": {
    "id": "b7a95bd5",
    "outputId": "684f4854-f12b-402b-dc34-6ec9d4c9c4f5"
   },
   "outputs": [
    {
     "data": {
      "image/png": "[encoded data removed]",
      "text/plain": [
       "<Figure size 648x432 with 1 Axes>"
      ]
     },
     "metadata": {
      "needs_background": "light"
     },
     "output_type": "display_data"
    },
    {
     "data": {
      "image/png": "[encoded data removed]",
      "text/plain": [
       "<Figure size 648x432 with 1 Axes>"
      ]
     },
     "metadata": {
      "needs_background": "light"
     },
     "output_type": "display_data"
    },
    {
     "data": {
      "image/png": "[encoded data removed]",
      "text/plain": [
       "<Figure size 648x432 with 1 Axes>"
      ]
     },
     "metadata": {
      "needs_background": "light"
     },
     "output_type": "display_data"
    },
    {
     "data": {
      "image/png": "[encoded data removed]",
      "text/plain": [
       "<Figure size 648x432 with 1 Axes>"
      ]
     },
     "metadata": {
      "needs_background": "light"
     },
     "output_type": "display_data"
    },
    {
     "data": {
      "image/png": "[encoded data removed]",
      "text/plain": [
       "<Figure size 648x432 with 1 Axes>"
      ]
     },
     "metadata": {
      "needs_background": "light"
     },
     "output_type": "display_data"
    },
    {
     "data": {
      "image/png": "[encoded data removed]",
      "text/plain": [
       "<Figure size 648x432 with 1 Axes>"
      ]
     },
     "metadata": {
      "needs_background": "light"
     },
     "output_type": "display_data"
    },
    {
     "data": {
      "image/png": "[encoded data removed]",
      "text/plain": [
       "<Figure size 648x432 with 1 Axes>"
      ]
     },
     "metadata": {
      "needs_background": "light"
     },
     "output_type": "display_data"
    },
    {
     "data": {
      "image/png": "[encoded data removed]",
      "text/plain": [
       "<Figure size 648x432 with 1 Axes>"
      ]
     },
     "metadata": {
      "needs_background": "light"
     },
     "output_type": "display_data"
    },
    {
     "data": {
      "image/png": "[encoded data removed]",
      "text/plain": [
       "<Figure size 648x432 with 1 Axes>"
      ]
     },
     "metadata": {
      "needs_background": "light"
     },
     "output_type": "display_data"
    },
    {
     "data": {
      "image/png": "[encoded data removed]",
      "text/plain": [
       "<Figure size 648x432 with 1 Axes>"
      ]
     },
     "metadata": {
      "needs_background": "light"
     },
     "output_type": "display_data"
    },
    {
     "data": {
      "image/png": "[encoded data removed]",
      "text/plain": [
       "<Figure size 648x432 with 1 Axes>"
      ]
     },
     "metadata": {
      "needs_background": "light"
     },
     "output_type": "display_data"
    },
    {
     "data": {
      "image/png": "[encoded data removed]",
      "text/plain": [
       "<Figure size 648x432 with 1 Axes>"
      ]
     },
     "metadata": {
      "needs_background": "light"
     },
     "output_type": "display_data"
    },
    {
     "data": {
      "image/png": "[encoded data removed]",
      "text/plain": [
       "<Figure size 648x432 with 1 Axes>"
      ]
     },
     "metadata": {
      "needs_background": "light"
     },
     "output_type": "display_data"
    },
    {
     "data": {
      "image/png": "[encoded data removed]",
      "text/plain": [
       "<Figure size 648x432 with 1 Axes>"
      ]
     },
     "metadata": {
      "needs_background": "light"
     },
     "output_type": "display_data"
    },
    {
     "data": {
      "image/png": "[encoded data removed]",
      "text/plain": [
       "<Figure size 648x432 with 1 Axes>"
      ]
     },
     "metadata": {
      "needs_background": "light"
     },
     "output_type": "display_data"
    },
    {
     "data": {
      "image/png": "[encoded data removed]",
      "text/plain": [
       "<Figure size 648x432 with 1 Axes>"
      ]
     },
     "metadata": {
      "needs_background": "light"
     },
     "output_type": "display_data"
    },
    {
     "data": {
      "image/png": "[encoded data removed]",
      "text/plain": [
       "<Figure size 648x432 with 1 Axes>"
      ]
     },
     "metadata": {
      "needs_background": "light"
     },
     "output_type": "display_data"
    },
    {
     "data": {
      "image/png": "[encoded data removed]",
      "text/plain": [
       "<Figure size 648x432 with 1 Axes>"
      ]
     },
     "metadata": {
      "needs_background": "light"
     },
     "output_type": "display_data"
    },
    {
     "data": {
      "image/png": "[encoded data removed]",
      "text/plain": [
       "<Figure size 648x432 with 1 Axes>"
      ]
     },
     "metadata": {
      "needs_background": "light"
     },
     "output_type": "display_data"
    },
    {
     "data": {
      "image/png": "[encoded data removed]",
      "text/plain": [
       "<Figure size 648x432 with 1 Axes>"
      ]
     },
     "metadata": {
      "needs_background": "light"
     },
     "output_type": "display_data"
    },
    {
     "data": {
      "image/png": "[encoded data removed]",
      "text/plain": [
       "<Figure size 648x432 with 1 Axes>"
      ]
     },
     "metadata": {
      "needs_background": "light"
     },
     "output_type": "display_data"
    },
    {
     "data": {
      "image/png": "[encoded data removed]",
      "text/plain": [
       "<Figure size 648x432 with 1 Axes>"
      ]
     },
     "metadata": {
      "needs_background": "light"
     },
     "output_type": "display_data"
    },
    {
     "data": {
      "image/png": "[encoded data removed]",
      "text/plain": [
       "<Figure size 648x432 with 1 Axes>"
      ]
     },
     "metadata": {
      "needs_background": "light"
     },
     "output_type": "display_data"
    },
    {
     "data": {
      "image/png": "[encoded data removed]",
      "text/plain": [
       "<Figure size 648x432 with 1 Axes>"
      ]
     },
     "metadata": {
      "needs_background": "light"
     },
     "output_type": "display_data"
    },
    {
     "data": {
      "image/png": "[encoded data removed]",
      "text/plain": [
       "<Figure size 648x432 with 1 Axes>"
      ]
     },
     "metadata": {
      "needs_background": "light"
     },
     "output_type": "display_data"
    },
    {
     "data": {
      "image/png": "[encoded data removed]",
      "text/plain": [
       "<Figure size 648x432 with 1 Axes>"
      ]
     },
     "metadata": {
      "needs_background": "light"
     },
     "output_type": "display_data"
    },
    {
     "data": {
      "image/png": "[encoded data removed]",
      "text/plain": [
       "<Figure size 648x432 with 1 Axes>"
      ]
     },
     "metadata": {
      "needs_background": "light"
     },
     "output_type": "display_data"
    },
    {
     "data": {
      "image/png": "[encoded data removed]",
      "text/plain": [
       "<Figure size 648x432 with 1 Axes>"
      ]
     },
     "metadata": {
      "needs_background": "light"
     },
     "output_type": "display_data"
    },
    {
     "data": {
      "image/png": "[encoded data removed]",
      "text/plain": [
       "<Figure size 648x432 with 1 Axes>"
      ]
     },
     "metadata": {
      "needs_background": "light"
     },
     "output_type": "display_data"
    },
    {
     "data": {
      "image/png": "[encoded data removed]",
      "text/plain": [
       "<Figure size 648x432 with 1 Axes>"
      ]
     },
     "metadata": {
      "needs_background": "light"
     },
     "output_type": "display_data"
    },
    {
     "data": {
      "image/png": "[encoded data removed]",
      "text/plain": [
       "<Figure size 648x432 with 1 Axes>"
      ]
     },
     "metadata": {
      "needs_background": "light"
     },
     "output_type": "display_data"
    }
   ],
   "source": [
    "# Histograms of numeric features\n",
    "cols = data.columns.tolist()[:-1]\n",
    "for col in cols:\n",
    "    if(data[col].dtype in [np.int64, np.int32, np.float64]):\n",
    "        fig = plt.figure(figsize=(9, 6))\n",
    "        ax = fig.gca()\n",
    "        plt.hist(data[col])\n",
    "        ax.set_title('Histogram of ' + str(col))\n",
    "        ax.set_xlabel(col)\n",
    "        ax.set_ylabel('Number of buildings')\n",
    "        plt.show()"
   ]
  },
  {
   "cell_type": "code",
   "execution_count": null,
   "metadata": {
    "id": "930fd322"
   },
   "outputs": [],
   "source": []
  },
  {
   "cell_type": "code",
   "execution_count": null,
   "metadata": {
    "id": "e156ecc8"
   },
   "outputs": [],
   "source": []
  },
  {
   "cell_type": "code",
   "execution_count": null,
   "metadata": {
    "id": "88b530ce"
   },
   "outputs": [],
   "source": []
  },
  {
   "cell_type": "code",
   "execution_count": null,
   "metadata": {
    "id": "29c136f4"
   },
   "outputs": [],
   "source": []
  },
  {
   "cell_type": "code",
   "execution_count": null,
   "metadata": {
    "id": "081e1d45"
   },
   "outputs": [],
   "source": []
  },
  {
   "cell_type": "code",
   "execution_count": null,
   "metadata": {
    "id": "b66bc9a4"
   },
   "outputs": [],
   "source": []
  },
  {
   "cell_type": "code",
   "execution_count": 39,
   "metadata": {
    "id": "7f42ebdb",
    "outputId": "c02a37b7-5be2-429a-b18e-9cc76da9fc2c"
   },
   "outputs": [
    {
     "name": "stdout",
     "output_type": "stream",
     "text": [
      "<class 'pandas.core.frame.DataFrame'>\n",
      "RangeIndex: 260601 entries, 0 to 260600\n",
      "Data columns (total 40 columns):\n",
      " #   Column                                  Non-Null Count   Dtype\n",
      "---  ------                                  --------------   -----\n",
      " 0   building_id                             260601 non-null  int64\n",
      " 1   geo_level_1_id                          260601 non-null  int64\n",
      " 2   geo_level_2_id                          260601 non-null  int64\n",
      " 3   geo_level_3_id                          260601 non-null  int64\n",
      " 4   count_floors_pre_eq                     260601 non-null  int64\n",
      " 5   age                                     260601 non-null  int64\n",
      " 6   area_percentage                         260601 non-null  int64\n",
      " 7   height_percentage                       260601 non-null  int64\n",
      " 8   land_surface_condition                  260601 non-null  int32\n",
      " 9   foundation_type                         260601 non-null  int32\n",
      " 10  roof_type                               260601 non-null  int32\n",
      " 11  ground_floor_type                       260601 non-null  int32\n",
      " 12  other_floor_type                        260601 non-null  int32\n",
      " 13  position                                260601 non-null  int32\n",
      " 14  plan_configuration                      260601 non-null  int32\n",
      " 15  has_superstructure_adobe_mud            260601 non-null  int64\n",
      " 16  has_superstructure_mud_mortar_stone     260601 non-null  int64\n",
      " 17  has_superstructure_stone_flag           260601 non-null  int64\n",
      " 18  has_superstructure_cement_mortar_stone  260601 non-null  int64\n",
      " 19  has_superstructure_mud_mortar_brick     260601 non-null  int64\n",
      " 20  has_superstructure_cement_mortar_brick  260601 non-null  int64\n",
      " 21  has_superstructure_timber               260601 non-null  int64\n",
      " 22  has_superstructure_bamboo               260601 non-null  int64\n",
      " 23  has_superstructure_rc_non_engineered    260601 non-null  int64\n",
      " 24  has_superstructure_rc_engineered        260601 non-null  int64\n",
      " 25  has_superstructure_other                260601 non-null  int64\n",
      " 26  legal_ownership_status                  260601 non-null  int32\n",
      " 27  count_families                          260601 non-null  int64\n",
      " 28  has_secondary_use                       260601 non-null  int64\n",
      " 29  has_secondary_use_agriculture           260601 non-null  int64\n",
      " 30  has_secondary_use_hotel                 260601 non-null  int64\n",
      " 31  has_secondary_use_rental                260601 non-null  int64\n",
      " 32  has_secondary_use_institution           260601 non-null  int64\n",
      " 33  has_secondary_use_school                260601 non-null  int64\n",
      " 34  has_secondary_use_industry              260601 non-null  int64\n",
      " 35  has_secondary_use_health_post           260601 non-null  int64\n",
      " 36  has_secondary_use_gov_office            260601 non-null  int64\n",
      " 37  has_secondary_use_use_police            260601 non-null  int64\n",
      " 38  has_secondary_use_other                 260601 non-null  int64\n",
      " 39  damage_grade                            260601 non-null  int64\n",
      "dtypes: int32(8), int64(32)\n",
      "memory usage: 71.6 MB\n"
     ]
    }
   ],
   "source": [
    "names = ['land_surface_condition', 'foundation_type', 'roof_type',\n",
    "       'ground_floor_type', 'other_floor_type', 'position',\n",
    "       'plan_configuration','legal_ownership_status']\n",
    "from sklearn.preprocessing import LabelEncoder\n",
    "LE = LabelEncoder()\n",
    "data[names] = data[names].apply(LE.fit_transform)\n",
    "data.info()"
   ]
  },
  {
   "cell_type": "code",
   "execution_count": 40,
   "metadata": {
    "id": "5cf9acf3",
    "outputId": "92d4b20a-2086-446d-d22a-83eded0759d9"
   },
   "outputs": [
    {
     "data": {
      "text/plain": [
       "<AxesSubplot:xlabel='area_percentage', ylabel='Count'>"
      ]
     },
     "execution_count": 40,
     "metadata": {},
     "output_type": "execute_result"
    },
    {
     "data": {
      "image/png": "[encoded data removed]",
      "text/plain": [
       "<Figure size 432x288 with 1 Axes>"
      ]
     },
     "metadata": {
      "needs_background": "light"
     },
     "output_type": "display_data"
    }
   ],
   "source": [
    "sns.histplot(np.log1p(data.area_percentage))"
   ]
  },
  {
   "cell_type": "code",
   "execution_count": 47,
   "metadata": {
    "id": "a828ac5d"
   },
   "outputs": [
    {
     "ename": "ModuleNotFoundError",
     "evalue": "No module named 'stats'",
     "output_type": "error",
     "traceback": [
      "\u001b[1;31m---------------------------------------------------------------------------\u001b[0m",
      "\u001b[1;31mModuleNotFoundError\u001b[0m                       Traceback (most recent call last)",
      "\u001b[1;32m<ipython-input-47-c33108eb82d2>\u001b[0m in \u001b[0;36m<module>\u001b[1;34m\u001b[0m\n\u001b[1;32m----> 1\u001b[1;33m \u001b[1;32mfrom\u001b[0m \u001b[0mstats\u001b[0m \u001b[1;32mimport\u001b[0m \u001b[0mskew_autotransform\u001b[0m\u001b[1;33m\u001b[0m\u001b[1;33m\u001b[0m\u001b[0m\n\u001b[0m\u001b[0;32m      2\u001b[0m \u001b[0mnames\u001b[0m \u001b[1;33m=\u001b[0m \u001b[1;33m[\u001b[0m\u001b[1;34m'count_floors_pre_eq'\u001b[0m\u001b[1;33m,\u001b[0m\u001b[1;34m'age'\u001b[0m\u001b[1;33m,\u001b[0m\u001b[1;34m'area_percentage'\u001b[0m\u001b[1;33m,\u001b[0m\u001b[1;34m'height_percentage'\u001b[0m\u001b[1;33m]\u001b[0m\u001b[1;33m\u001b[0m\u001b[1;33m\u001b[0m\u001b[0m\n\u001b[0;32m      3\u001b[0m \u001b[0mdata_skew\u001b[0m \u001b[1;33m=\u001b[0m \u001b[0mdata\u001b[0m\u001b[1;33m[\u001b[0m\u001b[0mnames\u001b[0m\u001b[1;33m]\u001b[0m\u001b[1;33m\u001b[0m\u001b[1;33m\u001b[0m\u001b[0m\n",
      "\u001b[1;31mModuleNotFoundError\u001b[0m: No module named 'stats'"
     ]
    }
   ],
   "source": [
    "from stats\n",
    "names = ['count_floors_pre_eq','age','area_percentage','height_percentage']\n",
    "data_skew = data[names]"
   ]
  },
  {
   "cell_type": "code",
   "execution_count": 44,
   "metadata": {
    "id": "ceb2137d"
   },
   "outputs": [
    {
     "ename": "NameError",
     "evalue": "name 'data_skew' is not defined",
     "output_type": "error",
     "traceback": [
      "\u001b[1;31m---------------------------------------------------------------------------\u001b[0m",
      "\u001b[1;31mNameError\u001b[0m                                 Traceback (most recent call last)",
      "\u001b[1;32m<ipython-input-44-d947d8a1c14f>\u001b[0m in \u001b[0;36m<module>\u001b[1;34m\u001b[0m\n\u001b[1;32m----> 1\u001b[1;33m \u001b[0mexampleDF\u001b[0m \u001b[1;33m=\u001b[0m \u001b[0mpd\u001b[0m\u001b[1;33m.\u001b[0m\u001b[0mDataFrame\u001b[0m\u001b[1;33m(\u001b[0m\u001b[0mdata\u001b[0m\u001b[1;33m=\u001b[0m\u001b[0mdata_skew\u001b[0m\u001b[1;33m,\u001b[0m \u001b[0mcolumns\u001b[0m \u001b[1;33m=\u001b[0m \u001b[0mdata_skew\u001b[0m\u001b[1;33m.\u001b[0m\u001b[0mcolumns\u001b[0m\u001b[1;33m.\u001b[0m\u001b[0mtolist\u001b[0m\u001b[1;33m(\u001b[0m\u001b[1;33m)\u001b[0m\u001b[1;33m)\u001b[0m\u001b[1;33m\u001b[0m\u001b[1;33m\u001b[0m\u001b[0m\n\u001b[0m",
      "\u001b[1;31mNameError\u001b[0m: name 'data_skew' is not defined"
     ]
    }
   ],
   "source": [
    "exampleDF = pd.DataFrame(data=data_skew, columns = data_skew.columns.tolist())"
   ]
  },
  {
   "cell_type": "code",
   "execution_count": 45,
   "metadata": {
    "id": "a081908a",
    "outputId": "6d4611f1-81f3-4d78-980e-6c73b352b503",
    "scrolled": false
   },
   "outputs": [
    {
     "ename": "NameError",
     "evalue": "name 'skew_autotransform' is not defined",
     "output_type": "error",
     "traceback": [
      "\u001b[1;31m---------------------------------------------------------------------------\u001b[0m",
      "\u001b[1;31mNameError\u001b[0m                                 Traceback (most recent call last)",
      "\u001b[1;32m<ipython-input-45-006ab6b8b806>\u001b[0m in \u001b[0;36m<module>\u001b[1;34m\u001b[0m\n\u001b[1;32m----> 1\u001b[1;33m \u001b[0mtransformedDF\u001b[0m \u001b[1;33m=\u001b[0m \u001b[0mskew_autotransform\u001b[0m\u001b[1;33m(\u001b[0m\u001b[0mexampleDF\u001b[0m\u001b[1;33m.\u001b[0m\u001b[0mcopy\u001b[0m\u001b[1;33m(\u001b[0m\u001b[0mdeep\u001b[0m\u001b[1;33m=\u001b[0m\u001b[1;32mTrue\u001b[0m\u001b[1;33m)\u001b[0m\u001b[1;33m,\u001b[0m \u001b[0mplot\u001b[0m \u001b[1;33m=\u001b[0m \u001b[1;32mTrue\u001b[0m\u001b[1;33m,\u001b[0m \u001b[0mexp\u001b[0m \u001b[1;33m=\u001b[0m \u001b[1;32mFalse\u001b[0m\u001b[1;33m,\u001b[0m \u001b[0mthreshold\u001b[0m \u001b[1;33m=\u001b[0m \u001b[1;36m0.5\u001b[0m\u001b[1;33m)\u001b[0m\u001b[1;33m\u001b[0m\u001b[1;33m\u001b[0m\u001b[0m\n\u001b[0m",
      "\u001b[1;31mNameError\u001b[0m: name 'skew_autotransform' is not defined"
     ]
    }
   ],
   "source": [
    "transformedDF = skew_autotransform(exampleDF.copy(deep=True), plot = True, exp = False, threshold = 0.5)"
   ]
  },
  {
   "cell_type": "code",
   "execution_count": 46,
   "metadata": {
    "id": "a1ae129b",
    "outputId": "6a25d6d9-6189-460d-92ef-3995c8a25ad7"
   },
   "outputs": [
    {
     "ename": "NameError",
     "evalue": "name 'data_skew' is not defined",
     "output_type": "error",
     "traceback": [
      "\u001b[1;31m---------------------------------------------------------------------------\u001b[0m",
      "\u001b[1;31mNameError\u001b[0m                                 Traceback (most recent call last)",
      "\u001b[1;32m<ipython-input-46-62620ef46aae>\u001b[0m in \u001b[0;36m<module>\u001b[1;34m\u001b[0m\n\u001b[1;32m----> 1\u001b[1;33m \u001b[0mdata_skew\u001b[0m\u001b[1;33m[\u001b[0m\u001b[1;34m'age'\u001b[0m\u001b[1;33m]\u001b[0m\u001b[1;33m.\u001b[0m\u001b[0mmax\u001b[0m\u001b[1;33m(\u001b[0m\u001b[1;33m)\u001b[0m\u001b[1;33m,\u001b[0m \u001b[0mtransformedDF\u001b[0m\u001b[1;33m[\u001b[0m\u001b[1;34m'age'\u001b[0m\u001b[1;33m]\u001b[0m\u001b[1;33m.\u001b[0m\u001b[0mmax\u001b[0m\u001b[1;33m(\u001b[0m\u001b[1;33m)\u001b[0m\u001b[1;33m\u001b[0m\u001b[1;33m\u001b[0m\u001b[0m\n\u001b[0m",
      "\u001b[1;31mNameError\u001b[0m: name 'data_skew' is not defined"
     ]
    }
   ],
   "source": [
    "data_skew['age'].max(), transformedDF['age'].max()"
   ]
  },
  {
   "cell_type": "code",
   "execution_count": null,
   "metadata": {
    "id": "56bfcd92",
    "outputId": "9a886619-d6bd-4686-d33e-8f3b2e612739"
   },
   "outputs": [
    {
     "data": {
      "text/plain": [
       "42"
      ]
     },
     "execution_count": 80,
     "metadata": {
      "tags": []
     },
     "output_type": "execute_result"
    }
   ],
   "source": [
    "len(transformedDF['age'].unique())"
   ]
  },
  {
   "cell_type": "code",
   "execution_count": null,
   "metadata": {
    "id": "eb30883f",
    "outputId": "e5e55955-49b3-44ec-c264-0209bd502cd7"
   },
   "outputs": [
    {
     "data": {
      "text/html": [
       "<div>\n",
       "<style scoped>\n",
       "    .dataframe tbody tr th:only-of-type {\n",
       "        vertical-align: middle;\n",
       "    }\n",
       "\n",
       "    .dataframe tbody tr th {\n",
       "        vertical-align: top;\n",
       "    }\n",
       "\n",
       "    .dataframe thead th {\n",
       "        text-align: right;\n",
       "    }\n",
       "</style>\n",
       "<table border=\"1\" class=\"dataframe\">\n",
       "  <thead>\n",
       "    <tr style=\"text-align: right;\">\n",
       "      <th></th>\n",
       "      <th>count_floors_pre_eq</th>\n",
       "      <th>age</th>\n",
       "      <th>area_percentage</th>\n",
       "      <th>height_percentage</th>\n",
       "    </tr>\n",
       "  </thead>\n",
       "  <tbody>\n",
       "    <tr>\n",
       "      <th>0</th>\n",
       "      <td>0.810377</td>\n",
       "      <td>5.773599</td>\n",
       "      <td>1.657292</td>\n",
       "      <td>2.020461</td>\n",
       "    </tr>\n",
       "    <tr>\n",
       "      <th>1</th>\n",
       "      <td>0.810377</td>\n",
       "      <td>3.268010</td>\n",
       "      <td>1.899812</td>\n",
       "      <td>2.566995</td>\n",
       "    </tr>\n",
       "    <tr>\n",
       "      <th>2</th>\n",
       "      <td>0.810377</td>\n",
       "      <td>3.268010</td>\n",
       "      <td>1.500375</td>\n",
       "      <td>2.020461</td>\n",
       "    </tr>\n",
       "    <tr>\n",
       "      <th>3</th>\n",
       "      <td>0.810377</td>\n",
       "      <td>3.268010</td>\n",
       "      <td>1.657292</td>\n",
       "      <td>2.020461</td>\n",
       "    </tr>\n",
       "    <tr>\n",
       "      <th>4</th>\n",
       "      <td>1.412392</td>\n",
       "      <td>5.773599</td>\n",
       "      <td>1.899812</td>\n",
       "      <td>3.009199</td>\n",
       "    </tr>\n",
       "  </tbody>\n",
       "</table>\n",
       "</div>"
      ],
      "text/plain": [
       "   count_floors_pre_eq       age  area_percentage  height_percentage\n",
       "0             0.810377  5.773599         1.657292           2.020461\n",
       "1             0.810377  3.268010         1.899812           2.566995\n",
       "2             0.810377  3.268010         1.500375           2.020461\n",
       "3             0.810377  3.268010         1.657292           2.020461\n",
       "4             1.412392  5.773599         1.899812           3.009199"
      ]
     },
     "execution_count": 81,
     "metadata": {
      "tags": []
     },
     "output_type": "execute_result"
    }
   ],
   "source": [
    "transformedDF.head()"
   ]
  },
  {
   "cell_type": "code",
   "execution_count": null,
   "metadata": {
    "id": "3505d076"
   },
   "outputs": [],
   "source": [
    "# data.iloc[:, 4:8] = transformedDF"
   ]
  },
  {
   "cell_type": "code",
   "execution_count": null,
   "metadata": {
    "id": "20a8070e",
    "outputId": "f96603dd-b01e-45b3-c36c-5146b444aa4f"
   },
   "outputs": [
    {
     "data": {
      "text/plain": [
       "<AxesSubplot:xlabel='age', ylabel='Count'>"
      ]
     },
     "execution_count": 82,
     "metadata": {
      "tags": []
     },
     "output_type": "execute_result"
    },
    {
     "data": {
      "image/png": "[encoded data removed]",
      "text/plain": [
       "<Figure size 432x288 with 1 Axes>"
      ]
     },
     "metadata": {
      "tags": []
     },
     "output_type": "display_data"
    }
   ],
   "source": [
    "sns.histplot(data.age)"
   ]
  },
  {
   "cell_type": "markdown",
   "metadata": {
    "id": "987ec23a"
   },
   "source": [
    "## X, y"
   ]
  },
  {
   "cell_type": "code",
   "execution_count": 48,
   "metadata": {
    "id": "4917fae0",
    "outputId": "3ba7b059-5d41-4491-8fbb-7645db5c8dd0"
   },
   "outputs": [
    {
     "data": {
      "text/html": [
       "<div>\n",
       "<style scoped>\n",
       "    .dataframe tbody tr th:only-of-type {\n",
       "        vertical-align: middle;\n",
       "    }\n",
       "\n",
       "    .dataframe tbody tr th {\n",
       "        vertical-align: top;\n",
       "    }\n",
       "\n",
       "    .dataframe thead th {\n",
       "        text-align: right;\n",
       "    }\n",
       "</style>\n",
       "<table border=\"1\" class=\"dataframe\">\n",
       "  <thead>\n",
       "    <tr style=\"text-align: right;\">\n",
       "      <th></th>\n",
       "      <th>geo_level_1_id</th>\n",
       "      <th>geo_level_2_id</th>\n",
       "      <th>geo_level_3_id</th>\n",
       "      <th>count_floors_pre_eq</th>\n",
       "      <th>age</th>\n",
       "      <th>area_percentage</th>\n",
       "      <th>height_percentage</th>\n",
       "      <th>land_surface_condition</th>\n",
       "      <th>foundation_type</th>\n",
       "      <th>roof_type</th>\n",
       "      <th>...</th>\n",
       "      <th>has_secondary_use_hotel</th>\n",
       "      <th>has_secondary_use_rental</th>\n",
       "      <th>has_secondary_use_institution</th>\n",
       "      <th>has_secondary_use_school</th>\n",
       "      <th>has_secondary_use_industry</th>\n",
       "      <th>has_secondary_use_health_post</th>\n",
       "      <th>has_secondary_use_gov_office</th>\n",
       "      <th>has_secondary_use_use_police</th>\n",
       "      <th>has_secondary_use_other</th>\n",
       "      <th>damage_grade</th>\n",
       "    </tr>\n",
       "  </thead>\n",
       "  <tbody>\n",
       "    <tr>\n",
       "      <th>0</th>\n",
       "      <td>6</td>\n",
       "      <td>487</td>\n",
       "      <td>12198</td>\n",
       "      <td>2</td>\n",
       "      <td>30</td>\n",
       "      <td>6</td>\n",
       "      <td>5</td>\n",
       "      <td>2</td>\n",
       "      <td>2</td>\n",
       "      <td>0</td>\n",
       "      <td>...</td>\n",
       "      <td>0</td>\n",
       "      <td>0</td>\n",
       "      <td>0</td>\n",
       "      <td>0</td>\n",
       "      <td>0</td>\n",
       "      <td>0</td>\n",
       "      <td>0</td>\n",
       "      <td>0</td>\n",
       "      <td>0</td>\n",
       "      <td>3</td>\n",
       "    </tr>\n",
       "    <tr>\n",
       "      <th>1</th>\n",
       "      <td>8</td>\n",
       "      <td>900</td>\n",
       "      <td>2812</td>\n",
       "      <td>2</td>\n",
       "      <td>10</td>\n",
       "      <td>8</td>\n",
       "      <td>7</td>\n",
       "      <td>1</td>\n",
       "      <td>2</td>\n",
       "      <td>0</td>\n",
       "      <td>...</td>\n",
       "      <td>0</td>\n",
       "      <td>0</td>\n",
       "      <td>0</td>\n",
       "      <td>0</td>\n",
       "      <td>0</td>\n",
       "      <td>0</td>\n",
       "      <td>0</td>\n",
       "      <td>0</td>\n",
       "      <td>0</td>\n",
       "      <td>2</td>\n",
       "    </tr>\n",
       "    <tr>\n",
       "      <th>2</th>\n",
       "      <td>21</td>\n",
       "      <td>363</td>\n",
       "      <td>8973</td>\n",
       "      <td>2</td>\n",
       "      <td>10</td>\n",
       "      <td>5</td>\n",
       "      <td>5</td>\n",
       "      <td>2</td>\n",
       "      <td>2</td>\n",
       "      <td>0</td>\n",
       "      <td>...</td>\n",
       "      <td>0</td>\n",
       "      <td>0</td>\n",
       "      <td>0</td>\n",
       "      <td>0</td>\n",
       "      <td>0</td>\n",
       "      <td>0</td>\n",
       "      <td>0</td>\n",
       "      <td>0</td>\n",
       "      <td>0</td>\n",
       "      <td>3</td>\n",
       "    </tr>\n",
       "    <tr>\n",
       "      <th>3</th>\n",
       "      <td>22</td>\n",
       "      <td>418</td>\n",
       "      <td>10694</td>\n",
       "      <td>2</td>\n",
       "      <td>10</td>\n",
       "      <td>6</td>\n",
       "      <td>5</td>\n",
       "      <td>2</td>\n",
       "      <td>2</td>\n",
       "      <td>0</td>\n",
       "      <td>...</td>\n",
       "      <td>0</td>\n",
       "      <td>0</td>\n",
       "      <td>0</td>\n",
       "      <td>0</td>\n",
       "      <td>0</td>\n",
       "      <td>0</td>\n",
       "      <td>0</td>\n",
       "      <td>0</td>\n",
       "      <td>0</td>\n",
       "      <td>2</td>\n",
       "    </tr>\n",
       "    <tr>\n",
       "      <th>4</th>\n",
       "      <td>11</td>\n",
       "      <td>131</td>\n",
       "      <td>1488</td>\n",
       "      <td>3</td>\n",
       "      <td>30</td>\n",
       "      <td>8</td>\n",
       "      <td>9</td>\n",
       "      <td>2</td>\n",
       "      <td>2</td>\n",
       "      <td>0</td>\n",
       "      <td>...</td>\n",
       "      <td>0</td>\n",
       "      <td>0</td>\n",
       "      <td>0</td>\n",
       "      <td>0</td>\n",
       "      <td>0</td>\n",
       "      <td>0</td>\n",
       "      <td>0</td>\n",
       "      <td>0</td>\n",
       "      <td>0</td>\n",
       "      <td>3</td>\n",
       "    </tr>\n",
       "  </tbody>\n",
       "</table>\n",
       "<p>5 rows × 39 columns</p>\n",
       "</div>"
      ],
      "text/plain": [
       "   geo_level_1_id  geo_level_2_id  geo_level_3_id  count_floors_pre_eq  age  \\\n",
       "0               6             487           12198                    2   30   \n",
       "1               8             900            2812                    2   10   \n",
       "2              21             363            8973                    2   10   \n",
       "3              22             418           10694                    2   10   \n",
       "4              11             131            1488                    3   30   \n",
       "\n",
       "   area_percentage  height_percentage  land_surface_condition  \\\n",
       "0                6                  5                       2   \n",
       "1                8                  7                       1   \n",
       "2                5                  5                       2   \n",
       "3                6                  5                       2   \n",
       "4                8                  9                       2   \n",
       "\n",
       "   foundation_type  roof_type  ...  has_secondary_use_hotel  \\\n",
       "0                2          0  ...                        0   \n",
       "1                2          0  ...                        0   \n",
       "2                2          0  ...                        0   \n",
       "3                2          0  ...                        0   \n",
       "4                2          0  ...                        0   \n",
       "\n",
       "   has_secondary_use_rental  has_secondary_use_institution  \\\n",
       "0                         0                              0   \n",
       "1                         0                              0   \n",
       "2                         0                              0   \n",
       "3                         0                              0   \n",
       "4                         0                              0   \n",
       "\n",
       "   has_secondary_use_school  has_secondary_use_industry  \\\n",
       "0                         0                           0   \n",
       "1                         0                           0   \n",
       "2                         0                           0   \n",
       "3                         0                           0   \n",
       "4                         0                           0   \n",
       "\n",
       "   has_secondary_use_health_post  has_secondary_use_gov_office  \\\n",
       "0                              0                             0   \n",
       "1                              0                             0   \n",
       "2                              0                             0   \n",
       "3                              0                             0   \n",
       "4                              0                             0   \n",
       "\n",
       "   has_secondary_use_use_police  has_secondary_use_other  damage_grade  \n",
       "0                             0                        0             3  \n",
       "1                             0                        0             2  \n",
       "2                             0                        0             3  \n",
       "3                             0                        0             2  \n",
       "4                             0                        0             3  \n",
       "\n",
       "[5 rows x 39 columns]"
      ]
     },
     "execution_count": 48,
     "metadata": {},
     "output_type": "execute_result"
    }
   ],
   "source": [
    "data= data.iloc[:, 1:]\n",
    "data.head()"
   ]
  },
  {
   "cell_type": "code",
   "execution_count": 49,
   "metadata": {
    "id": "f42628e4"
   },
   "outputs": [],
   "source": [
    "X1 = data.drop(columns = ['damage_grade'])\n",
    "# X1 = X1.iloc[:, :12]\n",
    "y1 = data['damage_grade']"
   ]
  },
  {
   "cell_type": "code",
   "execution_count": 50,
   "metadata": {
    "id": "6ecc1759",
    "outputId": "bd6fca90-8d47-4a18-a724-fd63ca92a7a2"
   },
   "outputs": [
    {
     "name": "stderr",
     "output_type": "stream",
     "text": [
      "C:\\ProgramData\\Anaconda3\\lib\\site-packages\\seaborn\\_decorators.py:36: FutureWarning: Pass the following variable as a keyword arg: x. From version 0.12, the only valid positional argument will be `data`, and passing other arguments without an explicit keyword will result in an error or misinterpretation.\n",
      "  warnings.warn(\n"
     ]
    },
    {
     "data": {
      "image/png": "[encoded data removed]",
      "text/plain": [
       "<Figure size 432x288 with 1 Axes>"
      ]
     },
     "metadata": {
      "needs_background": "light"
     },
     "output_type": "display_data"
    }
   ],
   "source": [
    "sns.countplot(y1);"
   ]
  },
  {
   "cell_type": "code",
   "execution_count": 51,
   "metadata": {
    "id": "50566189",
    "outputId": "75db4ce5-24ef-437d-d371-bfe60896c2ba"
   },
   "outputs": [
    {
     "name": "stdout",
     "output_type": "stream",
     "text": [
      "Before SMOTE: Counter({2: 148259, 3: 87218, 1: 25124})\n",
      "AFTER SMOTE: Counter({3: 148259, 2: 148259, 1: 148259})\n",
      "(444777, 38) (444777,)\n"
     ]
    }
   ],
   "source": [
    "from imblearn.over_sampling import SMOTE\n",
    "\n",
    "smote = SMOTE()\n",
    "\n",
    "X,y = smote.fit_resample(X1,y1)\n",
    "\n",
    "\n",
    "from collections import Counter\n",
    "print(\"Before SMOTE:\",Counter(y1))\n",
    "print(\"AFTER SMOTE:\",Counter(y))\n",
    "\n",
    "\n",
    "print(X.shape  ,y.shape)\n",
    "#print(X.over.shape,y.over.shape)\n",
    "\n",
    "#print(y_over.value_counts())"
   ]
  },
  {
   "cell_type": "code",
   "execution_count": 52,
   "metadata": {
    "id": "f344d12d",
    "outputId": "caf955dc-e7a7-41c3-e6f9-6b85bf554d0b"
   },
   "outputs": [
    {
     "name": "stderr",
     "output_type": "stream",
     "text": [
      "C:\\ProgramData\\Anaconda3\\lib\\site-packages\\seaborn\\_decorators.py:36: FutureWarning: Pass the following variable as a keyword arg: x. From version 0.12, the only valid positional argument will be `data`, and passing other arguments without an explicit keyword will result in an error or misinterpretation.\n",
      "  warnings.warn(\n"
     ]
    },
    {
     "data": {
      "image/png": "[encoded data removed]",
      "text/plain": [
       "<Figure size 432x288 with 1 Axes>"
      ]
     },
     "metadata": {
      "needs_background": "light"
     },
     "output_type": "display_data"
    }
   ],
   "source": [
    "sns.countplot(y);"
   ]
  },
  {
   "cell_type": "code",
   "execution_count": null,
   "metadata": {
    "id": "ed282b05"
   },
   "outputs": [],
   "source": []
  },
  {
   "cell_type": "code",
   "execution_count": 53,
   "metadata": {
    "id": "4f08ab53",
    "outputId": "8379ce31-5a3f-48d9-855e-8ff8fd1bb660"
   },
   "outputs": [
    {
     "name": "stdout",
     "output_type": "stream",
     "text": [
      "<class 'pandas.core.frame.DataFrame'>\n",
      "RangeIndex: 444777 entries, 0 to 444776\n",
      "Data columns (total 38 columns):\n",
      " #   Column                                  Non-Null Count   Dtype\n",
      "---  ------                                  --------------   -----\n",
      " 0   geo_level_1_id                          444777 non-null  int64\n",
      " 1   geo_level_2_id                          444777 non-null  int64\n",
      " 2   geo_level_3_id                          444777 non-null  int64\n",
      " 3   count_floors_pre_eq                     444777 non-null  int64\n",
      " 4   age                                     444777 non-null  int64\n",
      " 5   area_percentage                         444777 non-null  int64\n",
      " 6   height_percentage                       444777 non-null  int64\n",
      " 7   land_surface_condition                  444777 non-null  int32\n",
      " 8   foundation_type                         444777 non-null  int32\n",
      " 9   roof_type                               444777 non-null  int32\n",
      " 10  ground_floor_type                       444777 non-null  int32\n",
      " 11  other_floor_type                        444777 non-null  int32\n",
      " 12  position                                444777 non-null  int32\n",
      " 13  plan_configuration                      444777 non-null  int32\n",
      " 14  has_superstructure_adobe_mud            444777 non-null  int64\n",
      " 15  has_superstructure_mud_mortar_stone     444777 non-null  int64\n",
      " 16  has_superstructure_stone_flag           444777 non-null  int64\n",
      " 17  has_superstructure_cement_mortar_stone  444777 non-null  int64\n",
      " 18  has_superstructure_mud_mortar_brick     444777 non-null  int64\n",
      " 19  has_superstructure_cement_mortar_brick  444777 non-null  int64\n",
      " 20  has_superstructure_timber               444777 non-null  int64\n",
      " 21  has_superstructure_bamboo               444777 non-null  int64\n",
      " 22  has_superstructure_rc_non_engineered    444777 non-null  int64\n",
      " 23  has_superstructure_rc_engineered        444777 non-null  int64\n",
      " 24  has_superstructure_other                444777 non-null  int64\n",
      " 25  legal_ownership_status                  444777 non-null  int32\n",
      " 26  count_families                          444777 non-null  int64\n",
      " 27  has_secondary_use                       444777 non-null  int64\n",
      " 28  has_secondary_use_agriculture           444777 non-null  int64\n",
      " 29  has_secondary_use_hotel                 444777 non-null  int64\n",
      " 30  has_secondary_use_rental                444777 non-null  int64\n",
      " 31  has_secondary_use_institution           444777 non-null  int64\n",
      " 32  has_secondary_use_school                444777 non-null  int64\n",
      " 33  has_secondary_use_industry              444777 non-null  int64\n",
      " 34  has_secondary_use_health_post           444777 non-null  int64\n",
      " 35  has_secondary_use_gov_office            444777 non-null  int64\n",
      " 36  has_secondary_use_use_police            444777 non-null  int64\n",
      " 37  has_secondary_use_other                 444777 non-null  int64\n",
      "dtypes: int32(8), int64(30)\n",
      "memory usage: 115.4 MB\n"
     ]
    }
   ],
   "source": [
    "X.info()"
   ]
  },
  {
   "cell_type": "markdown",
   "metadata": {
    "id": "eb8380cf"
   },
   "source": [
    "## Splitting the dataset into the Training set and Test set"
   ]
  },
  {
   "cell_type": "code",
   "execution_count": 54,
   "metadata": {
    "id": "b35592d0",
    "outputId": "1217f06a-da72-43dc-9091-fc1e9ef0e172"
   },
   "outputs": [
    {
     "data": {
      "text/plain": [
       "'from imblearn.over_sampling import SMOTE\\noversmapling = SMOTE()\\n\\nX_train_over, y_train_over = oversmapling.fit_resample(X_train, y_train)\\n\\nprint(X_train_over.shape, y_train_over.shape)\\n'"
      ]
     },
     "execution_count": 54,
     "metadata": {},
     "output_type": "execute_result"
    }
   ],
   "source": [
    "from sklearn.model_selection import train_test_split\n",
    "X_train, X_test, y_train, y_test = train_test_split(X, y, test_size = 0.25, random_state = 0)\n",
    "\n",
    "'''from imblearn.over_sampling import SMOTE\n",
    "oversmapling = SMOTE()\n",
    "\n",
    "X_train_over, y_train_over = oversmapling.fit_resample(X_train, y_train)\n",
    "\n",
    "print(X_train_over.shape, y_train_over.shape)\n",
    "'''"
   ]
  },
  {
   "cell_type": "code",
   "execution_count": null,
   "metadata": {
    "id": "b9615a97"
   },
   "outputs": [],
   "source": []
  },
  {
   "cell_type": "code",
   "execution_count": null,
   "metadata": {
    "id": "b57dfab4"
   },
   "outputs": [],
   "source": []
  },
  {
   "cell_type": "markdown",
   "metadata": {
    "id": "4a5fa1c9"
   },
   "source": [
    "## Feature Scaling"
   ]
  },
  {
   "cell_type": "code",
   "execution_count": 55,
   "metadata": {
    "id": "742bbd0d"
   },
   "outputs": [],
   "source": [
    "from sklearn.preprocessing import StandardScaler\n",
    "sc = StandardScaler()\n",
    "X_train = sc.fit_transform(X_train)\n",
    "X_test = sc.transform(X_test)"
   ]
  },
  {
   "cell_type": "code",
   "execution_count": 56,
   "metadata": {
    "id": "92b5109e",
    "outputId": "43f07618-fb76-4142-ff2b-052031e56fac"
   },
   "outputs": [
    {
     "data": {
      "text/plain": [
       "291375    1\n",
       "20898     2\n",
       "381622    1\n",
       "108908    3\n",
       "180558    3\n",
       "         ..\n",
       "152315    3\n",
       "439107    3\n",
       "117952    3\n",
       "435829    3\n",
       "305711    1\n",
       "Name: damage_grade, Length: 333582, dtype: int64"
      ]
     },
     "execution_count": 56,
     "metadata": {},
     "output_type": "execute_result"
    }
   ],
   "source": [
    "y_train"
   ]
  },
  {
   "cell_type": "markdown",
   "metadata": {
    "id": "a4c89dc1"
   },
   "source": [
    "# Training the Decision Tree Classification model on the Training set"
   ]
  },
  {
   "cell_type": "code",
   "execution_count": 57,
   "metadata": {
    "id": "7fe42554",
    "outputId": "d133347f-9a95-48f4-87b5-0df7a7d7a28d"
   },
   "outputs": [
    {
     "data": {
      "text/plain": [
       "DecisionTreeClassifier(max_depth=437, max_leaf_nodes=7, min_samples_leaf=5,\n",
       "                       min_samples_split=5, random_state=245)"
      ]
     },
     "execution_count": 57,
     "metadata": {},
     "output_type": "execute_result"
    }
   ],
   "source": [
    "from sklearn.tree import DecisionTreeClassifier\n",
    "classifier = DecisionTreeClassifier(criterion = 'gini',splitter='best',min_samples_split=5, max_depth=437,\n",
    "                                    min_samples_leaf=5, random_state = 245, max_leaf_nodes= 7)\n",
    "classifier.fit(X_train, y_train)"
   ]
  },
  {
   "cell_type": "code",
   "execution_count": 58,
   "metadata": {
    "id": "a40b6ff5"
   },
   "outputs": [],
   "source": [
    "y_pred = classifier.predict(X_test)"
   ]
  },
  {
   "cell_type": "code",
   "execution_count": 59,
   "metadata": {
    "id": "a045a946",
    "outputId": "a144d558-c5f6-4e4d-fced-8fef2a5c4afe"
   },
   "outputs": [
    {
     "name": "stdout",
     "output_type": "stream",
     "text": [
      "[[25378  8706  2696]\n",
      " [ 5809 24297  7035]\n",
      " [ 2345 19458 15471]]\n"
     ]
    },
    {
     "data": {
      "text/plain": [
       "0.585871666891497"
      ]
     },
     "execution_count": 59,
     "metadata": {},
     "output_type": "execute_result"
    }
   ],
   "source": [
    "from sklearn.metrics import confusion_matrix, accuracy_score\n",
    "cm = confusion_matrix(y_test, y_pred)\n",
    "print(cm)\n",
    "accuracy_score(y_test, y_pred)"
   ]
  },
  {
   "cell_type": "code",
   "execution_count": null,
   "metadata": {
    "id": "7c7a6f87"
   },
   "outputs": [],
   "source": []
  },
  {
   "cell_type": "code",
   "execution_count": 60,
   "metadata": {
    "id": "62fd8cd0",
    "outputId": "6c282047-5ac9-40c2-ec42-8f8d565ec767"
   },
   "outputs": [
    {
     "data": {
      "text/plain": [
       "RandomForestClassifier(max_depth=35, max_features='sqrt', n_estimators=167,\n",
       "                       n_jobs=10)"
      ]
     },
     "execution_count": 60,
     "metadata": {},
     "output_type": "execute_result"
    }
   ],
   "source": [
    "from sklearn.ensemble import RandomForestClassifier\n",
    "classifier = RandomForestClassifier(n_estimators = 167,max_depth=35, max_features='sqrt', n_jobs=10)\n",
    "classifier.fit(X_train, y_train)"
   ]
  },
  {
   "cell_type": "code",
   "execution_count": 70,
   "metadata": {
    "id": "90963ea7",
    "outputId": "7a489856-a864-4d50-c766-77e8174adc35"
   },
   "outputs": [
    {
     "name": "stdout",
     "output_type": "stream",
     "text": [
      "[[33955  2022   803]\n",
      " [ 2910 27251  6980]\n",
      " [ 1035  6849 29390]]\n"
     ]
    },
    {
     "data": {
      "text/plain": [
       "0.8147488646072215"
      ]
     },
     "execution_count": 70,
     "metadata": {},
     "output_type": "execute_result"
    }
   ],
   "source": [
    "from sklearn.metrics import confusion_matrix, accuracy_score,f1_score,recall_score,precision_score,classification_report\n",
    "y_pred = classifier.predict(X_test)\n",
    "cm = confusion_matrix(y_test, y_pred)\n",
    "print(cm)\n",
    "accuracy_score(y_test, y_pred)"
   ]
  },
  {
   "cell_type": "code",
   "execution_count": 65,
   "metadata": {
    "id": "237d0b76"
   },
   "outputs": [
    {
     "data": {
      "text/plain": [
       "0.8147488646072215"
      ]
     },
     "execution_count": 65,
     "metadata": {},
     "output_type": "execute_result"
    }
   ],
   "source": [
    "precision_score(y_test,y_pred,average='micro')"
   ]
  },
  {
   "cell_type": "code",
   "execution_count": 68,
   "metadata": {
    "id": "063c6725"
   },
   "outputs": [
    {
     "data": {
      "text/plain": [
       "0.8142747036595219"
      ]
     },
     "execution_count": 68,
     "metadata": {},
     "output_type": "execute_result"
    }
   ],
   "source": [
    "f1_score(y_test,y_pred,average='macro')"
   ]
  },
  {
   "cell_type": "code",
   "execution_count": 73,
   "metadata": {},
   "outputs": [
    {
     "name": "stdout",
     "output_type": "stream",
     "text": [
      "              precision    recall  f1-score   support\n",
      "\n",
      "           1       0.90      0.92      0.91     36780\n",
      "           2       0.75      0.73      0.74     37141\n",
      "           3       0.79      0.79      0.79     37274\n",
      "\n",
      "    accuracy                           0.81    111195\n",
      "   macro avg       0.81      0.82      0.81    111195\n",
      "weighted avg       0.81      0.81      0.81    111195\n",
      "\n"
     ]
    }
   ],
   "source": [
    "c=classification_report(y_test,y_pred)\n",
    "print(c)"
   ]
  },
  {
   "cell_type": "code",
   "execution_count": 76,
   "metadata": {},
   "outputs": [
    {
     "data": {
      "text/plain": [
       "array([1, 3, 3, ..., 1, 3, 1], dtype=int64)"
      ]
     },
     "execution_count": 76,
     "metadata": {},
     "output_type": "execute_result"
    }
   ],
   "source": [
    "classifier.predict(X_test)"
   ]
  },
  {
   "cell_type": "code",
   "execution_count": 77,
   "metadata": {},
   "outputs": [
    {
     "data": {
      "text/plain": [
       "array([[8.47380589e-01, 1.19141867e-01, 3.34775441e-02],\n",
       "       [2.79745937e-02, 8.56602202e-02, 8.86365186e-01],\n",
       "       [3.32146521e-04, 9.64074954e-02, 9.03260358e-01],\n",
       "       ...,\n",
       "       [1.00000000e+00, 0.00000000e+00, 0.00000000e+00],\n",
       "       [6.19450754e-04, 1.93320256e-01, 8.06060293e-01],\n",
       "       [9.98894655e-01, 1.10534530e-03, 0.00000000e+00]])"
      ]
     },
     "execution_count": 77,
     "metadata": {},
     "output_type": "execute_result"
    }
   ],
   "source": [
    "classifier.predict_proba(X_test)"
   ]
  },
  {
   "cell_type": "code",
   "execution_count": 78,
   "metadata": {},
   "outputs": [],
   "source": [
    "from sklearn.metrics import roc_curve, roc_auc_score"
   ]
  },
  {
   "cell_type": "code",
   "execution_count": 83,
   "metadata": {},
   "outputs": [],
   "source": [
    "from sklearn.pipeline import Pipeline"
   ]
  },
  {
   "cell_type": "code",
   "execution_count": 84,
   "metadata": {},
   "outputs": [],
   "source": [
    "#construct baseline pipeline\n",
    "pipe_rf = Pipeline([('clf', RandomForestClassifier(n_estimators = 167,max_depth=35, max_features='sqrt', n_jobs=10))])"
   ]
  },
  {
   "cell_type": "code",
   "execution_count": 85,
   "metadata": {},
   "outputs": [],
   "source": [
    "# Fit the model\n",
    "model = pipe_rf.fit(X_train, y_train)"
   ]
  },
  {
   "cell_type": "code",
   "execution_count": 86,
   "metadata": {},
   "outputs": [],
   "source": [
    "#Calculate the y_score\n",
    "y_score = model.predict_proba(X_test)"
   ]
  },
  {
   "cell_type": "code",
   "execution_count": 96,
   "metadata": {},
   "outputs": [
    {
     "data": {
      "text/plain": [
       "array([[8.81233735e-01, 9.66105763e-02, 2.21556886e-02],\n",
       "       [7.56943927e-03, 1.34264118e-01, 8.58166442e-01],\n",
       "       [4.83637123e-04, 1.04278489e-01, 8.95237874e-01],\n",
       "       ...,\n",
       "       [9.94011976e-01, 5.98802395e-03, 0.00000000e+00],\n",
       "       [5.98802395e-03, 2.39074792e-01, 7.54937184e-01],\n",
       "       [9.93416025e-01, 6.58397491e-03, 0.00000000e+00]])"
      ]
     },
     "execution_count": 96,
     "metadata": {},
     "output_type": "execute_result"
    }
   ],
   "source": [
    "y_score"
   ]
  },
  {
   "cell_type": "code",
   "execution_count": 89,
   "metadata": {},
   "outputs": [],
   "source": [
    "from sklearn.preprocessing import label_binarize"
   ]
  },
  {
   "cell_type": "code",
   "execution_count": 90,
   "metadata": {},
   "outputs": [],
   "source": [
    "#Binarize the output\n",
    "y_test_bin = label_binarize(y_test, classes=[1, 2, 3])\n",
    "n_classes = y_test_bin.shape[1]"
   ]
  },
  {
   "cell_type": "code",
   "execution_count": 95,
   "metadata": {},
   "outputs": [
    {
     "data": {
      "text/plain": [
       "array([[1, 0, 0],\n",
       "       [0, 0, 1],\n",
       "       [0, 0, 1],\n",
       "       ...,\n",
       "       [1, 0, 0],\n",
       "       [0, 1, 0],\n",
       "       [1, 0, 0]])"
      ]
     },
     "execution_count": 95,
     "metadata": {},
     "output_type": "execute_result"
    }
   ],
   "source": [
    "y_test_bin"
   ]
  },
  {
   "cell_type": "code",
   "execution_count": 92,
   "metadata": {},
   "outputs": [],
   "source": [
    "from sklearn.metrics import auc"
   ]
  },
  {
   "cell_type": "code",
   "execution_count": 93,
   "metadata": {},
   "outputs": [
    {
     "name": "stdout",
     "output_type": "stream",
     "text": [
      "AUC for Class 1: 0.9829354087859565\n",
      "AUC for Class 2: 0.9029033232939758\n",
      "AUC for Class 3: 0.927682782613158\n"
     ]
    },
    {
     "data": {
      "image/png": "[encoded data removed]",
      "text/plain": [
       "<Figure size 432x288 with 1 Axes>"
      ]
     },
     "metadata": {
      "needs_background": "light"
     },
     "output_type": "display_data"
    }
   ],
   "source": [
    "fpr = dict()\n",
    "tpr = dict()\n",
    "roc_auc = dict()\n",
    "\n",
    "for i in range(n_classes):\n",
    "  fpr[i], tpr[i], _ = roc_curve(y_test_bin[:, i], y_score[:, i])\n",
    "  plt.plot(fpr[i], tpr[i], color='darkorange', lw=2)\n",
    "  print('AUC for Class {}: {}'.format(i+1, auc(fpr[i], tpr[i])))\n",
    "\n",
    "plt.plot([0, 1], [0, 1], color='navy', lw=2, linestyle='--')\n",
    "plt.xlim([0.0, 1.0])\n",
    "plt.ylim([0.0, 1.05])\n",
    "plt.xlabel('False Positive Rate')\n",
    "plt.ylabel('True Positive Rate')\n",
    "plt.title('Receiver Operating Characteristic Curves')\n",
    "plt.show()"
   ]
  }
 ],
 "metadata": {
  "colab": {
   "collapsed_sections": [
    "614bd196",
    "7a904b6d",
    "0f4e4cbf",
    "3eee0269",
    "cf131521",
    "8bd99cfd",
    "987ec23a",
    "eb8380cf",
    "4a5fa1c9"
   ],
   "name": "Decision Tree.ipynb",
   "provenance": []
  },
  "kernelspec": {
   "display_name": "Python 3",
   "language": "python",
   "name": "python3"
  },
  "language_info": {
   "codemirror_mode": {
    "name": "ipython",
    "version": 3
   },
   "file_extension": ".py",
   "mimetype": "text/x-python",
   "name": "python",
   "nbconvert_exporter": "python",
   "pygments_lexer": "ipython3",
   "version": "3.8.5"
  }
 },
 "nbformat": 4,
 "nbformat_minor": 5
}
